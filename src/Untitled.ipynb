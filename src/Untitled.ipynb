{
 "cells": [
  {
   "cell_type": "code",
   "execution_count": 1,
   "metadata": {
    "collapsed": true
   },
   "outputs": [],
   "source": [
    "# competitor analysis"
   ]
  },
  {
   "cell_type": "code",
   "execution_count": 22,
   "metadata": {},
   "outputs": [],
   "source": [
    "import re, gensim, pickle, operator\n",
    "import pandas as pd\n",
    "import numpy as np\n",
    "import networkx as nx\n",
    "import seaborn as sns\n",
    "from datetime import datetime\n",
    "from matplotlib import pyplot as plt\n",
    "%matplotlib inline"
   ]
  },
  {
   "cell_type": "code",
   "execution_count": 5,
   "metadata": {},
   "outputs": [],
   "source": [
    "# load data\n",
    "data_folder = '../data/csv_export/'\n",
    "util_folder = '../util/'\n",
    "trend_folder = '../data/trends/'\n",
    "df_organizations = pd.read_csv(data_folder + 'organizations.csv'.format(data_folder), dtype={'first_funding_on': str, 'last_funding_on':str})\n",
    "df_description = pd.read_csv(data_folder + 'organization_descriptions.csv')\n",
    "df_funding_rounds = pd.read_csv(data_folder + 'funding_rounds.csv')\n",
    "df_funds = pd.read_csv(data_folder + 'funds.csv')\n",
    "df_investments = pd.read_csv(data_folder + 'investments.csv')\n",
    "df_acq = pd.read_csv(data_folder + 'acquisitions.csv')\n",
    "df_competition = pd.read_csv(data_folder + 'competitors.csv')"
   ]
  },
  {
   "cell_type": "code",
   "execution_count": 6,
   "metadata": {},
   "outputs": [
    {
     "data": {
      "text/html": [
       "<div>\n",
       "<style>\n",
       "    .dataframe thead tr:only-child th {\n",
       "        text-align: right;\n",
       "    }\n",
       "\n",
       "    .dataframe thead th {\n",
       "        text-align: left;\n",
       "    }\n",
       "\n",
       "    .dataframe tbody tr th {\n",
       "        vertical-align: top;\n",
       "    }\n",
       "</style>\n",
       "<table border=\"1\" class=\"dataframe\">\n",
       "  <thead>\n",
       "    <tr style=\"text-align: right;\">\n",
       "      <th></th>\n",
       "      <th>entity_uuid</th>\n",
       "      <th>competitor_uuid</th>\n",
       "      <th>updated_at</th>\n",
       "    </tr>\n",
       "  </thead>\n",
       "  <tbody>\n",
       "    <tr>\n",
       "      <th>0</th>\n",
       "      <td>72135620-4f65-ab9e-fe28-19bea4ec155e</td>\n",
       "      <td>6386a290-9d61-6dfd-0093-ad77da13e3d4</td>\n",
       "      <td>2017-07-04 07:26:11.397059</td>\n",
       "    </tr>\n",
       "    <tr>\n",
       "      <th>1</th>\n",
       "      <td>6ee90eaf-6f29-8395-c6af-1bf3cc41d0a3</td>\n",
       "      <td>43ac6c2f-65ec-5b40-89d6-ab9d4c4988ef</td>\n",
       "      <td>2017-07-04 05:14:30.838999</td>\n",
       "    </tr>\n",
       "    <tr>\n",
       "      <th>2</th>\n",
       "      <td>7ea7675d-14f3-7b29-706b-f4fbcc31833e</td>\n",
       "      <td>6d7aa555-ed04-3773-6106-c90b9aa89ecf</td>\n",
       "      <td>2017-07-04 04:04:47.10747</td>\n",
       "    </tr>\n",
       "    <tr>\n",
       "      <th>3</th>\n",
       "      <td>7ea7675d-14f3-7b29-706b-f4fbcc31833e</td>\n",
       "      <td>93eeb2d8-df1a-931b-9ad6-1c7bfbe42c08</td>\n",
       "      <td>2017-07-04 04:04:16.07326</td>\n",
       "    </tr>\n",
       "    <tr>\n",
       "      <th>4</th>\n",
       "      <td>7ea7675d-14f3-7b29-706b-f4fbcc31833e</td>\n",
       "      <td>19442327-4577-eaac-ed06-3904aed79a68</td>\n",
       "      <td>2017-07-04 04:02:52.889249</td>\n",
       "    </tr>\n",
       "  </tbody>\n",
       "</table>\n",
       "</div>"
      ],
      "text/plain": [
       "                            entity_uuid                       competitor_uuid  \\\n",
       "0  72135620-4f65-ab9e-fe28-19bea4ec155e  6386a290-9d61-6dfd-0093-ad77da13e3d4   \n",
       "1  6ee90eaf-6f29-8395-c6af-1bf3cc41d0a3  43ac6c2f-65ec-5b40-89d6-ab9d4c4988ef   \n",
       "2  7ea7675d-14f3-7b29-706b-f4fbcc31833e  6d7aa555-ed04-3773-6106-c90b9aa89ecf   \n",
       "3  7ea7675d-14f3-7b29-706b-f4fbcc31833e  93eeb2d8-df1a-931b-9ad6-1c7bfbe42c08   \n",
       "4  7ea7675d-14f3-7b29-706b-f4fbcc31833e  19442327-4577-eaac-ed06-3904aed79a68   \n",
       "\n",
       "                   updated_at  \n",
       "0  2017-07-04 07:26:11.397059  \n",
       "1  2017-07-04 05:14:30.838999  \n",
       "2   2017-07-04 04:04:47.10747  \n",
       "3   2017-07-04 04:04:16.07326  \n",
       "4  2017-07-04 04:02:52.889249  "
      ]
     },
     "execution_count": 6,
     "metadata": {},
     "output_type": "execute_result"
    }
   ],
   "source": [
    "df_competition.head()"
   ]
  },
  {
   "cell_type": "code",
   "execution_count": 8,
   "metadata": {
    "collapsed": true
   },
   "outputs": [],
   "source": [
    "g = nx.from_pandas_dataframe(df_competition, 'entity_uuid', 'competitor_uuid')"
   ]
  },
  {
   "cell_type": "code",
   "execution_count": 33,
   "metadata": {},
   "outputs": [],
   "source": [
    "components = [component for component in nx.connected_components(g)]\n",
    "components = sorted(components, key = lambda x: -len(x))"
   ]
  },
  {
   "cell_type": "code",
   "execution_count": 15,
   "metadata": {},
   "outputs": [
    {
     "name": "stdout",
     "output_type": "stream",
     "text": [
      "3220\n"
     ]
    }
   ],
   "source": [
    "print(len(components))"
   ]
  },
  {
   "cell_type": "code",
   "execution_count": 16,
   "metadata": {
    "collapsed": true
   },
   "outputs": [],
   "source": [
    "size = [len(component) for component in components]"
   ]
  },
  {
   "cell_type": "code",
   "execution_count": 35,
   "metadata": {},
   "outputs": [
    {
     "name": "stdout",
     "output_type": "stream",
     "text": [
      "loading word2company\n",
      "loading company2word\n"
     ]
    }
   ],
   "source": [
    "doc_freq = {}\n",
    "if 'word2company' not in globals():\n",
    "    print('loading word2company')\n",
    "    global word2company\n",
    "    word2company = pickle.load(open(util_folder + 'word2company.pickle'))\n",
    "if 'company2word' not in globals():\n",
    "    print('loading company2word')\n",
    "    global company2word\n",
    "    word2company = pickle.load(open(util_folder + 'company2word.pickle'))"
   ]
  },
  {
   "cell_type": "code",
   "execution_count": 37,
   "metadata": {},
   "outputs": [],
   "source": [
    "for word, companies in word2company.items():\n",
    "    doc_freq[word] = len(companies)"
   ]
  },
  {
   "cell_type": "code",
   "execution_count": null,
   "metadata": {
    "collapsed": true
   },
   "outputs": [],
   "source": []
  }
 ],
 "metadata": {
  "kernelspec": {
   "display_name": "Python 2",
   "language": "python",
   "name": "python2"
  },
  "language_info": {
   "codemirror_mode": {
    "name": "ipython",
    "version": 2
   },
   "file_extension": ".py",
   "mimetype": "text/x-python",
   "name": "python",
   "nbconvert_exporter": "python",
   "pygments_lexer": "ipython2",
   "version": "2.7.10"
  }
 },
 "nbformat": 4,
 "nbformat_minor": 2
}
