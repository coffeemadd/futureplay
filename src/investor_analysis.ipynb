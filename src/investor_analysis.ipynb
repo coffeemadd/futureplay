{
 "cells": [
  {
   "cell_type": "code",
   "execution_count": 98,
   "metadata": {},
   "outputs": [
    {
     "data": {
      "text/plain": [
       "'\\n\\xed\\x88\\xac\\xec\\x9e\\x90\\xec\\x9e\\x90 \\xeb\\xb6\\x84\\xec\\x84\\x9d\\n1. \\xec\\xb4\\x88\\xea\\xb8\\xb0 \\xed\\x88\\xac\\xec\\x9e\\x90\\xeb\\xa5\\xbc \\xec\\x9e\\x98 \\xed\\x95\\x98\\xeb\\x8a\\x94 \\xec\\x9e\\x91\\xec\\x9d\\x80 \\xea\\xb7\\x9c\\xeb\\xaa\\xa8\\xec\\x9d\\x98 \\xed\\x88\\xac\\xec\\x9e\\x90\\xec\\x9e\\x90\\xeb\\xa5\\xbc \\xec\\xb0\\xbe\\xec\\x95\\x84\\xeb\\xb3\\xb4\\xec\\x9e\\x90\\n2. Top10, 25 \\xeb\\x93\\xa4\\xec\\x9d\\xb4\\xeb\\x9e\\x91 \\xea\\xb0\\x99\\xec\\x9d\\xb4 \\xeb\\x93\\xa4\\xec\\x96\\xb4\\xea\\xb0\\x80\\xeb\\x8a\\x94 \\xed\\x88\\xac\\xec\\x9e\\x90\\xec\\x9e\\x90\\xeb\\x93\\xa4\\xec\\x9d\\x84 \\xec\\xb0\\xbe\\xec\\x95\\x84\\xeb\\xb3\\xb4\\xec\\x9e\\x90\\n'"
      ]
     },
     "execution_count": 98,
     "metadata": {},
     "output_type": "execute_result"
    }
   ],
   "source": [
    "'''\n",
    "투자자 분석\n",
    "1. 초기 투자를 잘 하는 작은 규모의 투자자를 찾아보자\n",
    "2. Top10, 25 들이랑 같이 들어가는 투자자들을 찾아보자\n",
    "'''"
   ]
  },
  {
   "cell_type": "code",
   "execution_count": 99,
   "metadata": {
    "collapsed": true
   },
   "outputs": [],
   "source": [
    "import pandas as pd\n",
    "import re\n",
    "import gensim\n",
    "import pickle\n",
    "import numpy as np\n",
    "import operator\n",
    "from datetime import datetime\n",
    "from matplotlib import pyplot as plt\n",
    "import networkx as nx\n",
    "from copy import copy\n",
    "%matplotlib inline"
   ]
  },
  {
   "cell_type": "code",
   "execution_count": 100,
   "metadata": {
    "collapsed": true
   },
   "outputs": [],
   "source": [
    "# load data\n",
    "data_folder = '../data/csv_export/'\n",
    "util_folder = '../util/'\n",
    "df_organizations = pd.read_csv(data_folder + 'organizations.csv'.format(data_folder), dtype={'first_funding_on': str, 'last_funding_on':str})\n",
    "df_description = pd.read_csv(data_folder + 'organization_descriptions.csv')\n",
    "df_funding_rounds = pd.read_csv(data_folder + 'funding_rounds.csv')\n",
    "df_funds = pd.read_csv(data_folder + 'funds.csv')\n",
    "df_investments = pd.read_csv(data_folder + 'investments.csv')\n",
    "df_acq = pd.read_csv(data_folder + 'acquisitions.csv')\n",
    "df_people = pd.read_csv(data_folder + 'people.csv')\n",
    "df_degrees = pd.read_csv(data_folder + 'degrees.csv')\n",
    "df_investors = pd.read_csv(data_folder + 'investors.csv')\n",
    "df_country_code = pd.read_csv(util_folder + 'country_code.csv', delimiter = '\\t')"
   ]
  },
  {
   "cell_type": "code",
   "execution_count": 116,
   "metadata": {
    "collapsed": true
   },
   "outputs": [],
   "source": [
    "'''\n",
    "1. 초기 투자를 잘 하는 투자자를 찾아보자\n",
    "'''\n",
    "\n",
    "# 잘된 회사를 찾기\n",
    "def get_investor_scores(investment_criteria = ['A', 'B', 'C', 'D'], success_criteria = ['acquisition', 'ipo'], founded_after_this = '2007-01-01', founded_before_this = '2020-01-01',  asia_only = False, words = None, expand = False):    \n",
    "    if words is not None:\n",
    "        # load dataset\n",
    "        if 'word2company' not in globals():\n",
    "            print('loading word2company')\n",
    "            global word2company\n",
    "            word2company = pickle.load(open(util_folder + 'word2company.pickle'))\n",
    "        if 'model' not in globals():\n",
    "            print('loading word2vec model')\n",
    "            global model\n",
    "            model = gensim.models.word2vec.Word2Vec.load(util_folder + 'word2vec')\n",
    "\n",
    "        # expand word set if necessary\n",
    "        # train 된 word2vec 을 사용하여 관련도가 높은 단어들을 포함한다\n",
    "        final_words = []\n",
    "        if type(words) == str:\n",
    "            words = [words]\n",
    "        for word in words:\n",
    "            if ' ' in word:\n",
    "                word = word.replace(' ', '_')\n",
    "            if expand:\n",
    "                _words = model.most_similar(word)\n",
    "                _words = [str(_word) for _word, sim in _words]\n",
    "                final_words.extend(_words)\n",
    "            final_words.append(word)\n",
    "        final_words = list(set(final_words))    \n",
    "\n",
    "        # choose companies that have relevant words\n",
    "        companies = []\n",
    "        for word in final_words:\n",
    "            _companies = word2company.get(word, [])\n",
    "            companies.extend(_companies)\n",
    "        companies = list(set(companies))    \n",
    "    \n",
    "    # get all companies founded after the time\n",
    "    df_organizations['founded_on'] = pd.to_datetime(df_organizations['founded_on'], errors='ignore')\n",
    "    df = df_organizations.copy()\n",
    "    df = df[df['founded_on'] >= founded_after_this]\n",
    "    df = df[df['founded_on'] <= founded_before_this]\n",
    "    \n",
    "    print(df.shape)\n",
    "    # filter by words if necessary\n",
    "    if words is not None:\n",
    "        df = df[df['uuid'].isin(companies)]\n",
    "#         companies = df_companies[df_companies['founded_on'] >= founded_after_this]\n",
    "    companies = df        \n",
    "    \n",
    "    print(companies.shape)\n",
    "    # 아시아 회사에 대해서만\n",
    "    if asia_only:\n",
    "        print('before {}'.format(len(companies)))\n",
    "        asia = df_country_code[df_country_code['CC'] == 'AS']['a-3'].values\n",
    "        companies = companies[companies['country_code'].isin(asia)]\n",
    "        print('after {}'.format(len(companies)))\n",
    "    companies = companies['uuid']\n",
    "    print('There are {} companies founded from {} to {}'.format(len(companies), founded_after_this, founded_before_this))\n",
    "\n",
    "    # get good companies with correct funding criteria        \n",
    "    fundings = df_funding_rounds[df_funding_rounds['company_uuid'].isin(companies)]\n",
    "    good_companies_1 = fundings[fundings['funding_round_code'].isin(success_criteria)]['company_uuid'].values\n",
    "    good_companies_1 = list(set(good_companies_1))\n",
    "    print('{} companies with late stage fundings'.format(len(good_companies_1)))\n",
    "    \n",
    "    # Get list of acquired companies\n",
    "    if 'acquisition' in success_criteria:        \n",
    "        df_acq = pd.read_csv(data_folder + 'acquisitions.csv')\n",
    "        df_acq = df_acq[df_acq['price_usd'] > 1000000]\n",
    "        df_acq = df_acq[df_acq['acquiree_uuid'].isin(companies)]\n",
    "        print('{} acquired for 1M+'.format(df_acq.shape[0], len(companies)))\n",
    "        good_companies_2 = df_acq['acquiree_uuid'].values\n",
    "        good_companies_2 = list(set(good_companies_2))\n",
    "    \n",
    "    # Get list of IPO companies\n",
    "    if 'ipo' in success_criteria:\n",
    "        df_ipos = pd.read_csv(data_folder + 'ipos.csv')\n",
    "        df_ipos = df_ipos[df_ipos['company_uuid'].isin(companies)]\n",
    "        print('{} IPOs'.format(df_ipos.shape[0]))\n",
    "        good_companies_3 = df_ipos['company_uuid'].values\n",
    "        good_companies_3 = list(set(good_companies_3))\n",
    "    \n",
    "    # combine all good companies\n",
    "    good_companies = good_companies_1\n",
    "    if 'acquisition' in success_criteria:\n",
    "        good_companies.extend(good_companies_2)\n",
    "    if 'ipo' in success_criteria:\n",
    "        good_companies.extend(good_companies_3)\n",
    "    good_companies = list(set(good_companies))\n",
    "    print('In total, {} good companies'.format(len(good_companies)))\n",
    "    \n",
    "    early_funding = pd.concat([fundings[fundings['funding_round_type'] == 'seed'],\n",
    "                              fundings[fundings['funding_round_code'].isin(investment_criteria)]], axis = 0).reset_index()\n",
    "\n",
    "    # good fundings\n",
    "    all_seed = early_funding[early_funding['company_uuid'].isin(companies)]['funding_round_uuid'].values\n",
    "    all_seed = list(set(all_seed))\n",
    "    good_seed = early_funding[early_funding['company_uuid'].isin(good_companies)]['funding_round_uuid'].values\n",
    "    good_seed = list(set(good_seed))\n",
    "    print('# good companies: {} with {}\\n# good / all early investments: {} / {}'.format(len(good_companies), success_criteria, len(good_seed), len(all_seed)))\n",
    "\n",
    "    # good investors\n",
    "    investor_score_good = {}\n",
    "    investor_score_all = {}\n",
    "    investor_score = {}\n",
    "\n",
    "    good_investment_count = df_investments[df_investments['funding_round_uuid'].isin(good_seed)].groupby('investor_uuid')['funding_round_uuid'].count()\n",
    "    all_investment_count = df_investments[df_investments['funding_round_uuid'].isin(all_seed)].groupby('investor_uuid')['funding_round_uuid'].count()\n",
    "    return good_investment_count.to_dict(), all_investment_count.to_dict()"
   ]
  },
  {
   "cell_type": "code",
   "execution_count": 102,
   "metadata": {
    "collapsed": true
   },
   "outputs": [],
   "source": [
    "'''\n",
    "초기 투자 잘 하는 투자자들 중 어떤 규모의 투자자들을 보고 싶은가?\n",
    "'''\n",
    "    \n",
    "def check(investor_score_good, investor_score_all, MIN_SEED = 10):\n",
    "    investor_score = {}\n",
    "    for investor, all_count in investor_score_all.items():\n",
    "        if all_count >= MIN_SEED:\n",
    "            investor_score[investor]= investor_score_good.get(investor, 0) / float(all_count)\n",
    "\n",
    "    investor_score = sorted(investor_score.items(), key=operator.itemgetter(1))\n",
    "    investor_score.reverse()\n",
    "    print('{} investors with minimum of {} seed investment').format(len(investor_score), MIN_SEED)\n",
    "    for investor, score in investor_score[:20]:\n",
    "        try:\n",
    "            print('{:.3f}={}/{}\\t{}'.format(score, investor_score_good[investor], investor_score_all[investor], df_investors[df_investors['uuid'] == investor]['investor_name'].values[0]))\n",
    "        except Exception as e:\n",
    "            print('no investor name')"
   ]
  },
  {
   "cell_type": "code",
   "execution_count": 103,
   "metadata": {},
   "outputs": [
    {
     "name": "stdout",
     "output_type": "stream",
     "text": [
      "(228466, 34)\n",
      "(228466, 34)\n",
      "There are 228466 companies founded from 2007-01-01 to 2020-01-01\n",
      "0 companies with late stage fundings\n",
      "1301 acquired for 1M+\n",
      "1423 IPOs\n",
      "In total, 2649 good companies\n",
      "# good companies: 2649 with ['acquisition', 'ipo']\n",
      "# good / all early investments: 1777 / 66237\n",
      "(228466, 34)\n",
      "(228466, 34)\n",
      "before 228466\n",
      "after 28493\n",
      "There are 28493 companies founded from 2007-01-01 to 2020-01-01\n",
      "0 companies with late stage fundings\n",
      "176 acquired for 1M+\n",
      "141 IPOs\n",
      "In total, 315 good companies\n",
      "# good companies: 315 with ['acquisition', 'ipo']\n",
      "# good / all early investments: 183 / 9470\n"
     ]
    }
   ],
   "source": [
    "# criteria = ['B', 'C', 'D', 'E', 'F', 'acquisition', 'ipo']\n",
    "investment_criteria = ['A', 'B', 'C', 'D']\n",
    "success_criteria = ['acquisition', 'ipo']\n",
    "founded_after_this = '2007-01-01'\n",
    "founded_before_this = '2020-01-01'\n",
    "global_investor_score_good, global_investor_score_all = get_investor_scores(investment_criteria, success_criteria, founded_after_this, founded_before_this, False)\n",
    "asia_investor_score_good, asia_investor_score_all = get_investor_scores(investment_criteria, success_criteria, founded_after_this, founded_before_this, True)"
   ]
  },
  {
   "cell_type": "code",
   "execution_count": 104,
   "metadata": {},
   "outputs": [
    {
     "name": "stdout",
     "output_type": "stream",
     "text": [
      "4179 investors with minimum of 5 seed investment\n",
      "1.000=7/7\tAdage Capital Management\n",
      "0.900=9/10\tJennison Associates\n",
      "0.889=16/18\tAisling Capital\n",
      "0.833=5/6\tSabby Capital\n",
      "0.833=5/6\tYahoo\n",
      "0.800=4/5\tBioGeneration Ventures\n",
      "0.800=4/5\tJanus Capital Group\n",
      "0.800=4/5\tGreener Capital\n",
      "0.800=4/5\tRockshield Capital\n",
      "0.727=8/11\tHealthCare Ventures\n",
      "0.714=5/7\tSprout Group\n",
      "0.696=16/23\tRock Springs Capital\n",
      "0.667=4/6\tProVenture Management\n",
      "0.667=8/12\tMedImmune Ventures\n",
      "0.632=12/19\tAlta Partners\n",
      "0.625=5/8\tRemeditex Ventures\n",
      "0.625=5/8\tHBM BioVentures\n",
      "0.600=3/5\tMesa Verde Venture Partners\n",
      "0.600=3/5\tSalman Partners\n",
      "0.600=3/5\tSkyline Ventures\n"
     ]
    }
   ],
   "source": [
    "# global 투자자, 최소 5개의 seed 투자\n",
    "check(global_investor_score_good, global_investor_score_all, MIN_SEED = 5)"
   ]
  },
  {
   "cell_type": "code",
   "execution_count": 105,
   "metadata": {},
   "outputs": [
    {
     "name": "stdout",
     "output_type": "stream",
     "text": [
      "2228 investors with minimum of 10 seed investment\n",
      "0.900=9/10\tJennison Associates\n",
      "0.889=16/18\tAisling Capital\n",
      "0.727=8/11\tHealthCare Ventures\n",
      "0.696=16/23\tRock Springs Capital\n",
      "0.667=8/12\tMedImmune Ventures\n",
      "0.632=12/19\tAlta Partners\n",
      "0.600=6/10\tBrookside Capital\n",
      "0.571=8/14\tCasdin Capital\n",
      "0.571=8/14\tPerceptive Advisors\n",
      "0.545=6/11\tEcoR1 Capital\n",
      "0.545=6/11\tTeam Europe\n",
      "0.542=13/24\tVivo Capital\n",
      "0.541=20/37\tRA Capital Management\n",
      "0.526=10/19\tAmgen Ventures\n",
      "0.519=14/27\tDelphi Ventures\n",
      "0.500=5/10\tPartner Fund Management\n",
      "0.486=17/35\tMPM Capital\n",
      "0.478=11/23\tRedmile Group\n",
      "0.476=20/42\tNew Leaf Venture Partners\n",
      "0.458=11/24\tClarus Ventures\n"
     ]
    }
   ],
   "source": [
    "# global 투자자, 최소 10개의 seed 투자\n",
    "check(global_investor_score_good, global_investor_score_all, MIN_SEED = 10)"
   ]
  },
  {
   "cell_type": "code",
   "execution_count": 106,
   "metadata": {},
   "outputs": [
    {
     "name": "stdout",
     "output_type": "stream",
     "text": [
      "377 investors with minimum of 50 seed investment\n",
      "0.410=25/61\tThird Rock Ventures\n",
      "0.370=20/54\tDomain Associates\n",
      "0.313=21/67\tVersant Ventures\n",
      "0.308=16/52\tFlagship Pioneering\n",
      "0.303=20/66\tMorgenthaler Ventures\n",
      "0.301=28/93\tOrbiMed\n",
      "0.283=15/53\tNovartis Venture Fund\n",
      "0.232=16/69\tOsage University Partners\n",
      "0.218=17/78\tF-Prime Capital Partners\n",
      "0.208=15/72\tIVP (Institutional Venture Partners)\n",
      "0.186=30/161\tVenrock\n",
      "0.175=29/166\tBenchmark\n",
      "0.173=9/52\tSR One\n",
      "0.172=29/169\tAtlas Venture\n",
      "0.171=33/193\tNorwest Venture Partners - NVP\n",
      "0.170=9/53\tSapphire Ventures\n",
      "0.169=11/65\tRonald Conway\n",
      "0.165=13/79\tARCH Venture Partners\n",
      "0.164=10/61\tSV Health Investors\n",
      "0.159=14/88\tAvalon Ventures\n"
     ]
    }
   ],
   "source": [
    "# global 투자자, 최소 50개의 seed 투자\n",
    "check(global_investor_score_good, global_investor_score_all, MIN_SEED = 50)"
   ]
  },
  {
   "cell_type": "code",
   "execution_count": 107,
   "metadata": {},
   "outputs": [
    {
     "name": "stdout",
     "output_type": "stream",
     "text": [
      "42 investors with minimum of 200 seed investment\n",
      "0.149=41/275\tGreylock Partners\n",
      "0.142=55/387\tKleiner Perkins Caufield & Byers\n",
      "0.130=38/293\tBessemer Venture Partners\n",
      "0.122=64/523\tAccel Partners\n",
      "0.097=23/237\tFounder Collective\n",
      "0.096=23/239\tRedpoint\n",
      "0.090=19/212\tMatrix Partners\n",
      "0.088=55/622\tSequoia Capital\n",
      "0.086=31/359\tIndex Ventures\n",
      "0.085=26/307\tLightspeed Venture Partners\n",
      "0.083=23/277\tIntel Capital\n",
      "0.083=34/411\tGV\n",
      "0.082=43/527\tNew Enterprise Associates\n",
      "0.081=47/580\tSV Angel\n",
      "0.079=26/331\tKhosla Ventures\n",
      "0.077=19/246\tFelicis Ventures\n",
      "0.068=17/251\tGreycroft Partners\n",
      "0.066=29/438\tAndreessen Horowitz\n",
      "0.062=27/433\tFirst Round\n",
      "0.061=14/231\tRRE Ventures\n"
     ]
    }
   ],
   "source": [
    "# global 투자자, 최소 200개의 seed 투자\n",
    "check(global_investor_score_good, global_investor_score_all, MIN_SEED = 200)"
   ]
  },
  {
   "cell_type": "code",
   "execution_count": 108,
   "metadata": {},
   "outputs": [
    {
     "name": "stdout",
     "output_type": "stream",
     "text": [
      "1020 investors with minimum of 3 seed investment\n",
      "0.750=3/4\tProxima Ventures Ltd\n",
      "0.667=2/3\tecontext Asia and Beenos Asia\n",
      "0.667=2/3\tNvidia\n",
      "0.500=2/4\tiNetworks 360\n",
      "0.500=2/4\tVaizra Investments\n",
      "0.500=2/4\tCITIC Securities\n",
      "0.500=3/6\tJerusalem Global Ventures\n",
      "0.429=3/7\tKinnevik AB\n",
      "0.429=3/7\tFounder Collective\n",
      "0.400=2/5\tBenchmark\n",
      "0.400=6/15\tGiza Venture Capital\n",
      "0.333=1/3\tRafi Gidron\n",
      "0.333=1/3\tChina Minsheng Bank\n",
      "0.333=1/3\tSpark Capital\n",
      "0.333=1/3\tRebate Networks\n",
      "0.333=1/3\tNew China Capital Management\n",
      "0.333=1/3\tHeliant Ventures\n",
      "0.333=1/3\tEmerge\n",
      "0.333=1/3\tOrchid Asia Group Management\n",
      "0.333=1/3\tArkin Holdings\n"
     ]
    }
   ],
   "source": [
    "# asia 투자자, 최소 3개의 seed 투자\n",
    "check(asia_investor_score_good, asia_investor_score_all, MIN_SEED = 3)"
   ]
  },
  {
   "cell_type": "code",
   "execution_count": 109,
   "metadata": {},
   "outputs": [
    {
     "name": "stdout",
     "output_type": "stream",
     "text": [
      "591 investors with minimum of 5 seed investment\n",
      "0.500=3/6\tJerusalem Global Ventures\n",
      "0.429=3/7\tKinnevik AB\n",
      "0.429=3/7\tFounder Collective\n",
      "0.400=2/5\tBenchmark\n",
      "0.400=6/15\tGiza Venture Capital\n",
      "0.286=2/7\tHV Holtzbrinck Ventures\n",
      "0.273=3/11\tRhodium\n",
      "0.250=2/8\tMoshe Lichtman\n",
      "0.227=5/22\t83North\n",
      "0.222=2/9\tGlilot Capital Partners\n",
      "0.222=4/18\tMitsubishi UFJ Capital\n",
      "0.214=3/14\tAddVenture\n",
      "0.200=1/5\tIndex Ventures\n",
      "0.200=1/5\tCICC\n",
      "0.200=1/5\tSovereign’s Capital\n",
      "0.200=1/5\tOryzn Capital\n",
      "0.200=1/5\tBigcolors\n",
      "0.200=1/5\tSoftBank Capital\n",
      "0.200=2/10\tIsrael Cleantech Ventures (ICV)\n",
      "0.200=1/5\tCapitalG\n"
     ]
    }
   ],
   "source": [
    "# asia 투자자, 최소 5개의 seed 투자\n",
    "check(asia_investor_score_good, asia_investor_score_all, MIN_SEED = 5)"
   ]
  },
  {
   "cell_type": "code",
   "execution_count": 110,
   "metadata": {},
   "outputs": [
    {
     "name": "stdout",
     "output_type": "stream",
     "text": [
      "277 investors with minimum of 10 seed investment\n",
      "0.400=6/15\tGiza Venture Capital\n",
      "0.273=3/11\tRhodium\n",
      "0.227=5/22\t83North\n",
      "0.222=4/18\tMitsubishi UFJ Capital\n",
      "0.214=3/14\tAddVenture\n",
      "0.200=3/15\tNokia Growth Partners (NGP)\n",
      "0.200=2/10\tIsrael Cleantech Ventures (ICV)\n",
      "0.200=2/10\tRocket Internet\n",
      "0.188=3/16\tAlibaba\n",
      "0.167=2/12\tVentech\n",
      "0.154=2/13\tHorizons Ventures\n",
      "0.154=2/13\tPLUS Ventures\n",
      "0.150=3/20\tBlueRun Ventures\n",
      "0.150=3/20\tITOCHU Technology Ventures\n",
      "0.145=9/62\tGGV Capital\n",
      "0.143=2/14\tInfinity Venture Partners\n",
      "0.133=2/15\tZero2IPO Ventures\n",
      "0.133=2/15\tNew Enterprise Associates\n",
      "0.128=5/39\tLegend Capital\n",
      "0.125=2/16\tEntree Capital\n"
     ]
    }
   ],
   "source": [
    "# asia 투자자, 최소 10개의 seed 투자\n",
    "check(asia_investor_score_good, asia_investor_score_all, MIN_SEED = 10)"
   ]
  },
  {
   "cell_type": "code",
   "execution_count": 111,
   "metadata": {},
   "outputs": [
    {
     "name": "stdout",
     "output_type": "stream",
     "text": [
      "108 investors with minimum of 20 seed investment\n",
      "0.227=5/22\t83North\n",
      "0.150=3/20\tBlueRun Ventures\n",
      "0.150=3/20\tITOCHU Technology Ventures\n",
      "0.145=9/62\tGGV Capital\n",
      "0.128=5/39\tLegend Capital\n",
      "0.118=12/102\tAccel Partners\n",
      "0.103=3/29\tSMBC Venture Capital\n",
      "0.100=2/20\tBaidu\n",
      "0.098=5/51\tBessemer Venture Partners\n",
      "0.097=6/62\tIDG Ventures India\n",
      "0.095=2/21\tNational Research Foundation\n",
      "0.091=2/22\tKae Capital\n",
      "0.091=2/22\tWarburg Pincus\n",
      "0.087=2/23\tGMO VenturePartners\n",
      "0.083=2/24\tMumbai Angels\n",
      "0.083=3/36\tHelion Venture Partners\n",
      "0.083=3/36\tOurCrowd-GCai\n",
      "0.081=3/37\tMagma Venture Partners\n",
      "0.075=3/40\tIncubate Fund\n",
      "0.071=3/42\tIntel Capital\n"
     ]
    }
   ],
   "source": [
    "# asia 투자자, 최소 20개의 seed 투자\n",
    "check(asia_investor_score_good, asia_investor_score_all, MIN_SEED = 20)"
   ]
  },
  {
   "cell_type": "code",
   "execution_count": 119,
   "metadata": {},
   "outputs": [
    {
     "name": "stdout",
     "output_type": "stream",
     "text": [
      "(228466, 34)\n",
      "(798, 34)\n",
      "There are 798 companies founded from 2007-01-01 to 2020-01-01\n",
      "0 companies with late stage fundings\n",
      "3 acquired for 1M+\n",
      "3 IPOs\n",
      "In total, 6 good companies\n",
      "# good companies: 6 with ['acquisition', 'ipo']\n",
      "# good / all early investments: 0 / 463\n",
      "140 investors with minimum of 2 seed investment\n",
      "no investor name\n",
      "no investor name\n",
      "no investor name\n",
      "no investor name\n",
      "no investor name\n",
      "no investor name\n",
      "no investor name\n",
      "no investor name\n",
      "no investor name\n",
      "no investor name\n",
      "no investor name\n",
      "no investor name\n",
      "no investor name\n",
      "no investor name\n",
      "no investor name\n",
      "no investor name\n",
      "no investor name\n",
      "no investor name\n",
      "no investor name\n",
      "no investor name\n"
     ]
    }
   ],
   "source": [
    "word = 'iot'\n",
    "# investment_criteria = ['A', 'B', 'C', 'D'], success_criteria = ['acquisition', 'ipo'], founded_after_this = '2007-01-01', founded_before_this = '2020-01-01',  asia_only = False, words = None, expand = False\n",
    "specific_global_investor_score_good, specific_global_investor_score_all = get_investor_scores(investment_criteria, success_criteria, founded_after_this, '2020-01-01', False, word, False)\n",
    "check(specific_global_investor_score_good, specific_global_investor_score_all, MIN_SEED = 2)"
   ]
  },
  {
   "cell_type": "code",
   "execution_count": 120,
   "metadata": {},
   "outputs": [
    {
     "name": "stdout",
     "output_type": "stream",
     "text": [
      "(228466, 34)\n",
      "(203, 34)\n",
      "There are 203 companies founded from 2007-01-01 to 2020-01-01\n",
      "0 companies with late stage fundings\n",
      "1 acquired for 1M+\n",
      "0 IPOs\n",
      "In total, 1 good companies\n",
      "# good companies: 1 with ['acquisition', 'ipo']\n",
      "# good / all early investments: 3 / 161\n",
      "63 investors with minimum of 2 seed investment\n",
      "1.000=2/2\tFuel Capital\n",
      "0.667=2/3\tDraper Fisher Jurvetson (DFJ)\n",
      "0.667=2/3\tAME Cloud Ventures\n",
      "0.600=3/5\tAllen & Company\n",
      "0.500=1/2\tLux Capital\n",
      "0.500=1/2\tSV Angel\n",
      "0.200=1/5\tData Collective\n",
      "no investor name\n",
      "no investor name\n",
      "no investor name\n",
      "no investor name\n",
      "no investor name\n",
      "no investor name\n",
      "no investor name\n",
      "no investor name\n",
      "no investor name\n",
      "no investor name\n",
      "no investor name\n",
      "no investor name\n",
      "no investor name\n"
     ]
    }
   ],
   "source": [
    "word = 'deep_learning'\n",
    "specific_global_investor_score_good, specific_global_investor_score_all = get_investor_scores(investment_criteria, success_criteria, founded_after_this, '2020-01-01', False, word, False)\n",
    "check(specific_global_investor_score_good, specific_global_investor_score_all, MIN_SEED = 2)"
   ]
  },
  {
   "cell_type": "code",
   "execution_count": 121,
   "metadata": {},
   "outputs": [
    {
     "name": "stdout",
     "output_type": "stream",
     "text": [
      "(228466, 34)\n",
      "(244, 34)\n",
      "There are 244 companies founded from 2007-01-01 to 2020-01-01\n",
      "0 companies with late stage fundings\n",
      "0 acquired for 1M+\n",
      "3 IPOs\n",
      "In total, 3 good companies\n",
      "# good companies: 3 with ['acquisition', 'ipo']\n",
      "# good / all early investments: 1 / 153\n",
      "78 investors with minimum of 2 seed investment\n",
      "no investor name\n",
      "no investor name\n",
      "no investor name\n",
      "no investor name\n",
      "no investor name\n",
      "no investor name\n",
      "no investor name\n",
      "no investor name\n",
      "no investor name\n",
      "no investor name\n",
      "no investor name\n",
      "no investor name\n",
      "no investor name\n",
      "no investor name\n",
      "no investor name\n",
      "no investor name\n",
      "no investor name\n",
      "no investor name\n",
      "no investor name\n",
      "no investor name\n"
     ]
    }
   ],
   "source": [
    "word = 'drone'\n",
    "specific_global_investor_score_good, specific_global_investor_score_all = get_investor_scores(investment_criteria, success_criteria, founded_after_this, '2020-01-01', False, word, False)\n",
    "check(specific_global_investor_score_good, specific_global_investor_score_all, MIN_SEED = 2)"
   ]
  },
  {
   "cell_type": "code",
   "execution_count": null,
   "metadata": {
    "collapsed": true
   },
   "outputs": [],
   "source": [
    "'''\n",
    "2. 유명한 투자자들과 인맥이 있을 것 같은 작은 투자자들을 살펴보자\n",
    "'''\n",
    "\n",
    "# get investors with high centrality\n",
    "f = open(util_folder + 'investor_centrality_degree.pickle')\n",
    "investors_high_central = pickle.load(f)\n",
    "f.close()"
   ]
  },
  {
   "cell_type": "code",
   "execution_count": null,
   "metadata": {},
   "outputs": [],
   "source": [
    "# 유명한 회사들 찾기 1 (network centrality)\n",
    "top25 = [uuid for uuid, value in investors_high_central[:25]]\n",
    "top25_central = []\n",
    "for i, uuid in enumerate(top25):\n",
    "    print df_investors[df_investors['uuid'] == (uuid)]['investor_name'].values[0], investors_high_central[i][1]\n",
    "    top25_central.append(uuid)"
   ]
  },
  {
   "cell_type": "code",
   "execution_count": null,
   "metadata": {},
   "outputs": [],
   "source": [
    "# 유명한 회사들 찾기 2. funding frequency\n",
    "groups = df_investments.groupby('investor_uuid')['funding_round_uuid'].count().reset_index().sort_values(by = 'funding_round_uuid', ascending = False)#['investor_uuid'].apply(list)\n",
    "count = 0\n",
    "top25_funding = []\n",
    "for index, row in groups.iterrows():\n",
    "    uuid = row[0]\n",
    "    fund_count = row[1]\n",
    "    print df_investors[df_investors['uuid'] == (uuid)]['investor_name'].values[0], fund_count\n",
    "    top25_funding.append(uuid)\n",
    "    if count == 25: break\n",
    "    count += 1"
   ]
  },
  {
   "cell_type": "code",
   "execution_count": 190,
   "metadata": {},
   "outputs": [
    {
     "name": "stdout",
     "output_type": "stream",
     "text": [
      "There are 520408 companies\n",
      "           investor_name  all_early  good_early     score\n",
      "889      Chinaccelerator         76        76.0  1.000000\n",
      "378               FOOD-X         42        42.0  1.000000\n",
      "363             Wefunder         23        23.0  1.000000\n",
      "406      Walter Winshall         23        23.0  1.000000\n",
      "68             HAX Boost         22        22.0  1.000000\n",
      "373              URBAN-X         19        19.0  1.000000\n",
      "715           Ullas Naik         15        15.0  1.000000\n",
      "969           Kal Vepuri         15        15.0  1.000000\n",
      "307           Kevin Hale         14        14.0  1.000000\n",
      "556       Maven Ventures         14        14.0  1.000000\n",
      "100          Adrian Aoun         11        11.0  1.000000\n",
      "659       Lunch Van Fund         11        11.0  1.000000\n",
      "605            Indie Bio         87        86.0  0.988506\n",
      "343        Paul Buchheit         81        80.0  0.987654\n",
      "116           Start Fund         53        52.0  0.981132\n",
      "807          Max Levchin         24        23.0  0.958333\n",
      "648      Raymond Tonsing         21        20.0  0.952381\n",
      "811            Garry Tan         41        39.0  0.951220\n",
      "412        Othman Laraki         18        17.0  0.944444\n",
      "945           Lee Linden         33        31.0  0.939394\n",
      "182          David Tisch         43        40.0  0.930233\n",
      "94          Fuel Capital         28        26.0  0.928571\n",
      "747       Christine Tsai         14        13.0  0.928571\n",
      "509               Selr8r         13        12.0  0.923077\n",
      "561       Michael Seibel         13        12.0  0.923077\n",
      "998          Ben Narasin         13        12.0  0.923077\n",
      "42       Hax Accelerator        138       127.0  0.920290\n",
      "337       Harjeet Taggar         12        11.0  0.916667\n",
      "379          Aaron Levie         12        11.0  0.916667\n",
      "505        Georges Harik         12        11.0  0.916667\n",
      "840          Chris Dixon         12        11.0  0.916667\n",
      "725          Yuri Milner         23        21.0  0.913043\n",
      "91         Zach Weinberg         11        10.0  0.909091\n",
      "268  A-Grade Investments         11        10.0  0.909091\n",
      "310     Refactor Capital         11        10.0  0.909091\n",
      "532                  J F         11        10.0  0.909091\n",
      "428       Alexis Ohanian         85        77.0  0.905882\n",
      "941       Ashton Kutcher         21        19.0  0.904762\n",
      "981     Joshua Schachter         30        27.0  0.900000\n",
      "292        Geoff Ralston         19        17.0  0.894737\n",
      "763      Charlie Cheever         19        17.0  0.894737\n",
      "974           Sam Altman         28        25.0  0.892857\n",
      "260     Zillionize Angel         90        80.0  0.888889\n",
      "779        Susa Ventures         27        24.0  0.888889\n",
      "837             Redpoint         35        31.0  0.885714\n",
      "185       Justin Waldron         26        23.0  0.884615\n",
      "10   TriplePoint Capital         17        15.0  0.882353\n",
      "826            Matt Ocko         17        15.0  0.882353\n",
      "89        Matt Mullenweg         24        21.0  0.875000\n",
      "169   Vaizra Investments         16        14.0  0.875000\n"
     ]
    }
   ],
   "source": [
    "# 유명한 회사들과 공동 투자를 많이 한 회사를 찾아라\n",
    "# 그 중 최소한 MIN 번 이상의 투자를 한 회사들\n",
    "MIN = 10\n",
    "early_criteria = []\n",
    "                  \n",
    "# get all companies founded after the time\n",
    "companies = df_organizations['uuid']\n",
    "print('There are {} companies'.format(len(companies)))\n",
    "\n",
    "# get famous investors\n",
    "top_investors = top25_central\n",
    "top_investors.extend(top25_funding)\n",
    "top_investors = list(set(top_investors))\n",
    "\n",
    "co_funding_count = {}\n",
    "funding_count = {}\n",
    "for investor in top_investors:\n",
    "    co_funding_count[investor] = {}\n",
    "\n",
    "# get funding_round_uuid from top_investors from df_investments\n",
    "funding_round_from_top_vc = df_investments[df_investments['investor_uuid'].isin(top_investors)]['funding_round_uuid'].values\n",
    "\n",
    "# get company_uuid from funding_round_uuid from df_funding_rounds\n",
    "companies_funded_by_top_vc = df_funding_rounds[df_funding_rounds['funding_round_uuid'].isin(funding_round_from_top_vc)]['company_uuid'].values\n",
    "\n",
    "# get seed, A funding_round from company_uuid from funding_rounds\n",
    "early_all_funding_rounds = pd.concat([df_funding_rounds[df_funding_rounds['funding_round_type'] == 'seed'],\n",
    "                          df_funding_rounds[df_funding_rounds['funding_round_code'].isin(early_criteria)]], axis = 0).reset_index()['funding_round_uuid'].values\n",
    "df = df_funding_rounds[df_funding_rounds['company_uuid'].isin(companies_funded_by_top_vc)]\n",
    "early_good_funding_rounds = pd.concat([df[df['funding_round_type'] == 'seed'],\n",
    "                          df[df['funding_round_code'].isin(early_criteria)]], axis = 0).reset_index()['funding_round_uuid'].values\n",
    "\n",
    "# get counts from early_funding_rounds from df_investments\n",
    "count = pd.concat([df_investments[df_investments['funding_round_uuid'].isin(early_all_funding_rounds)].groupby('investor_uuid')['funding_round_uuid'].count().rename('all_early'),\n",
    "                   df_investments[df_investments['funding_round_uuid'].isin(early_good_funding_rounds)].groupby('investor_uuid')['funding_round_uuid'].count().rename('good_early')],\n",
    "                  axis = 1).reset_index()\n",
    "count = count.fillna(0)\n",
    "count = count[count['all_early'] > MIN]\n",
    "count = count.rename(columns = {'index': 'investor_uuid'})\n",
    "count = count[~count['investor_uuid'].isin(top_investors)]\n",
    "count['score'] = count['good_early'] / count['all_early']\n",
    "\n",
    "count = count.merge(df_investors, left_on = 'investor_uuid', right_on = 'uuid')\n",
    "count = count.sort_values(['score', 'all_early'], ascending = False)\n",
    "count = count[['investor_name', 'all_early', 'good_early', 'score']]\n",
    "print count.head(50)"
   ]
  },
  {
   "cell_type": "code",
   "execution_count": null,
   "metadata": {
    "scrolled": false
   },
   "outputs": [],
   "source": [
    "co_funding_prop = {}\n",
    "print('TOP VC List')\n",
    "for investor1 in top_investors:\n",
    "    print('{}'.format(df_investors[df_investors['uuid'] == (investor1)]['investor_name'].values[0]))\n",
    "    \n",
    "print('\\n\\n')\n",
    "for investor1 in top_investors:\n",
    "    co_funding_prop[investor1] = {}\n",
    "    for investor2, count in funding_count.items():\n",
    "        if count >= MIN:\n",
    "            if investor2 in co_funding_count[investor1]:\n",
    "                co_funding_prop[investor1][investor2] = co_funding_count[investor1][investor2] / float(count)\n",
    "    # sort\n",
    "    score = co_funding_prop[investor1]\n",
    "    score = sorted(score.items(), key=operator.itemgetter(1))\n",
    "    score.reverse()\n",
    "    print('TOP VC {}'.format(df_investors[df_investors['uuid'] == (investor1)]['investor_name'].values[0]))\n",
    "    for key, value in score[:10]:\n",
    "        name = df_investors[df_investors['uuid'] == (key)]['investor_name'].values[0]\n",
    "        print('{}% {}: {}'.format(value * 100, funding_count[key], name))\n",
    "    print('\\n\\n')"
   ]
  },
  {
   "cell_type": "code",
   "execution_count": null,
   "metadata": {
    "collapsed": true
   },
   "outputs": [],
   "source": []
  }
 ],
 "metadata": {
  "kernelspec": {
   "display_name": "Python 2",
   "language": "python",
   "name": "python2"
  },
  "language_info": {
   "codemirror_mode": {
    "name": "ipython",
    "version": 2
   },
   "file_extension": ".py",
   "mimetype": "text/x-python",
   "name": "python",
   "nbconvert_exporter": "python",
   "pygments_lexer": "ipython2",
   "version": "2.7.10"
  }
 },
 "nbformat": 4,
 "nbformat_minor": 1
}
