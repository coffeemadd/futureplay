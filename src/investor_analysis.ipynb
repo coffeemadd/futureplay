{
 "cells": [
  {
   "cell_type": "code",
   "execution_count": 7,
   "metadata": {},
   "outputs": [
    {
     "data": {
      "text/plain": [
       "'\\n\\xed\\x88\\xac\\xec\\x9e\\x90\\xec\\x9e\\x90 \\xeb\\xb6\\x84\\xec\\x84\\x9d\\n1. \\xec\\xb4\\x88\\xea\\xb8\\xb0 \\xed\\x88\\xac\\xec\\x9e\\x90\\xeb\\xa5\\xbc \\xec\\x9e\\x98 \\xed\\x95\\x98\\xeb\\x8a\\x94 \\xec\\x9e\\x91\\xec\\x9d\\x80 \\xea\\xb7\\x9c\\xeb\\xaa\\xa8\\xec\\x9d\\x98 \\xed\\x88\\xac\\xec\\x9e\\x90\\xec\\x9e\\x90\\xeb\\xa5\\xbc \\xec\\xb0\\xbe\\xec\\x95\\x84\\xeb\\xb3\\xb4\\xec\\x9e\\x90\\n2. Top10, 25 \\xeb\\x93\\xa4\\xec\\x9d\\xb4\\xeb\\x9e\\x91 \\xea\\xb0\\x99\\xec\\x9d\\xb4 \\xeb\\x93\\xa4\\xec\\x96\\xb4\\xea\\xb0\\x80\\xeb\\x8a\\x94 \\xed\\x88\\xac\\xec\\x9e\\x90\\xec\\x9e\\x90\\xeb\\x93\\xa4\\xec\\x9d\\x84 \\xec\\xb0\\xbe\\xec\\x95\\x84\\xeb\\xb3\\xb4\\xec\\x9e\\x90\\n'"
      ]
     },
     "execution_count": 7,
     "metadata": {},
     "output_type": "execute_result"
    }
   ],
   "source": [
    "'''\n",
    "투자자 분석\n",
    "1. 초기 투자를 잘 하는 작은 규모의 투자자를 찾아보자\n",
    "2. Top10, 25 들이랑 같이 들어가는 투자자들을 찾아보자\n",
    "'''"
   ]
  },
  {
   "cell_type": "code",
   "execution_count": 8,
   "metadata": {
    "collapsed": true
   },
   "outputs": [],
   "source": [
    "import pandas as pd\n",
    "import re\n",
    "import gensim\n",
    "import pickle\n",
    "import numpy as np\n",
    "import operator\n",
    "from datetime import datetime\n",
    "from matplotlib import pyplot as plt\n",
    "import networkx as nx\n",
    "from copy import copy\n",
    "%matplotlib inline"
   ]
  },
  {
   "cell_type": "code",
   "execution_count": 9,
   "metadata": {
    "collapsed": true
   },
   "outputs": [],
   "source": [
    "# load data\n",
    "data_folder = '../data/csv_export/'\n",
    "util_folder = '../util/'\n",
    "df_organizations = pd.read_csv(data_folder + 'organizations.csv'.format(data_folder), dtype={'first_funding_on': str, 'last_funding_on':str})\n",
    "df_description = pd.read_csv(data_folder + 'organization_descriptions.csv')\n",
    "df_funding_rounds = pd.read_csv(data_folder + 'funding_rounds.csv')\n",
    "df_funds = pd.read_csv(data_folder + 'funds.csv')\n",
    "df_investments = pd.read_csv(data_folder + 'investments.csv')\n",
    "df_acq = pd.read_csv(data_folder + 'acquisitions.csv')\n",
    "df_people = pd.read_csv(data_folder + 'people.csv')\n",
    "df_degrees = pd.read_csv(data_folder + 'degrees.csv')\n",
    "df_investors = pd.read_csv(data_folder + 'investors.csv')"
   ]
  },
  {
   "cell_type": "code",
   "execution_count": 10,
   "metadata": {
    "collapsed": true
   },
   "outputs": [],
   "source": [
    "'''\n",
    "1. 초기 투자를 잘 하는 투자자를 찾아보자\n",
    "'''\n",
    "\n",
    "# 잘된 회사를 찾기\n",
    "def get_investor_scores(criteria = ['B', 'C', 'acquisition', 'ipo'], founded_after_this = '2007-01-01', asia_only = False):    \n",
    "    # get all companies founded after the time\n",
    "    df_organizations['founded_on'] = pd.to_datetime(df_organizations['founded_on'], errors='ignore')\n",
    "    companies = df_organizations[df_organizations['founded_on'] >= founded_after_this]\n",
    "    \n",
    "    # 아시아 회사에 대해서만\n",
    "    if asia_only:\n",
    "        print('before {}'.format(len(companies)))\n",
    "        asia = df_country_code[df_country_code['CC'] == 'AS']['a-3'].values\n",
    "        companies = companies[companies['country_code'].isin(asia)]\n",
    "        print('after {}'.format(len(companies)))\n",
    "    companies = companies['uuid']\n",
    "    print('There are {} companies founded after {}'.format(len(companies), founded_after_this))\n",
    "\n",
    "    # get good companies with correct funding criteria        \n",
    "    funding_criteria = []\n",
    "    if 'A' in criteria: funding_criteria.append('A')\n",
    "    if 'B' in criteria: funding_criteria.append('B')\n",
    "    if 'C' in criteria: funding_criteria.append('C')        \n",
    "    fundings = df_funding_rounds[df_funding_rounds['company_uuid'].isin(companies)]\n",
    "    good_companies_1 = fundings[fundings['funding_round_code'].isin(criteria)]['company_uuid'].values\n",
    "    good_companies_1 = list(set(good_companies_1))\n",
    "    print('{} companies with fundings {}'.format(len(good_companies_1), funding_criteria))\n",
    "    \n",
    "    # Get list of acquired companies\n",
    "    if 'acquisition' in criteria:        \n",
    "        df_acq = pd.read_csv(data_folder + 'acquisitions.csv')\n",
    "        df_acq = df_acq[df_acq['price_usd'] > 1000000]\n",
    "        df_acq = df_acq[df_acq['acquiree_uuid'].isin(companies)]\n",
    "        print('{} acquired for 1M+'.format(df_acq.shape[0], len(companies)))\n",
    "        good_companies_2 = df_acq['acquiree_uuid'].values\n",
    "        good_companies_2 = list(set(good_companies_2))\n",
    "    \n",
    "    # Get list of IPO companies\n",
    "    if 'ipo' in criteria:\n",
    "        df_ipos = pd.read_csv(data_folder + 'ipos.csv')\n",
    "        df_ipos = df_ipos[df_ipos['company_uuid'].isin(companies)]\n",
    "        print('{} IPOs'.format(df_ipos.shape[0]))\n",
    "        good_companies_3 = df_ipos['company_uuid'].values\n",
    "        good_companies_3 = list(set(good_companies_3))\n",
    "    \n",
    "    # combine all good companies\n",
    "    good_companies = good_companies_1\n",
    "    if 'acquisition' in criteria:\n",
    "        good_companies.extend(good_companies_2)\n",
    "    if 'acquisition' in criteria:\n",
    "        good_companies.extend(good_companies_3)\n",
    "    good_companies = list(set(good_companies))\n",
    "    print('In total, {} good companies'.format(len(good_companies)))\n",
    "    \n",
    "    # good fundings\n",
    "    all_seed = fundings[fundings['company_uuid'].isin(companies)]\n",
    "    all_seed = all_seed[all_seed['funding_round_type'] == 'seed']['funding_round_uuid']\n",
    "    all_seed = list(set(all_seed))\n",
    "\n",
    "    good_seed = fundings[fundings['company_uuid'].isin(good_companies)]\n",
    "    good_seed = good_seed[good_seed['funding_round_type'] == 'seed']['funding_round_uuid']\n",
    "    good_seed = list(set(good_seed))\n",
    "\n",
    "    print('# good companies: {} with {}\\n# good / all seed investments: {} / {}'.format(len(good_companies), criteria, len(good_seed), len(all_seed)))\n",
    "\n",
    "    # good investors\n",
    "    investor_score_good = {}\n",
    "    investor_score_all = {}\n",
    "    investor_score = {}\n",
    "    for row in df_investments.iterrows():\n",
    "        funding_round_uuid = row[1][0]\n",
    "        investor_uuid = row[1][1]\n",
    "        if funding_round_uuid in all_seed:\n",
    "            investor_score_all[investor_uuid] = investor_score_all.get(investor_uuid, 0) + 1\n",
    "        if funding_round_uuid in good_seed:\n",
    "            investor_score_good[investor_uuid] = investor_score_good.get(investor_uuid, 0) + 1\n",
    "    return investor_score_good, investor_score_all"
   ]
  },
  {
   "cell_type": "code",
   "execution_count": null,
   "metadata": {
    "collapsed": true
   },
   "outputs": [],
   "source": [
    "'''\n",
    "초기 투자 잘 하는 투자자들 중 어떤 규모의 투자자들을 보고 싶은가?\n",
    "'''\n",
    "\n",
    "def check(investor_score_good, investor_score_all, MIN_SEED = 10):\n",
    "    investor_score = {}\n",
    "    for investor, all_count in investor_score_all.items():\n",
    "        if all_count >= MIN_SEED:\n",
    "            investor_score[investor]= investor_score_good.get(investor, 0) / float(all_count)\n",
    "\n",
    "    investor_score = sorted(investor_score.items(), key=operator.itemgetter(1))\n",
    "    investor_score.reverse()\n",
    "    print('{} investors with minimum of {} seed investment').format(len(investor_score), MIN_SEED)\n",
    "    for investor, score in investor_score[:20]:\n",
    "        print('{:.3f}={}/{}\\t{}'.format(score, investor_score_good[investor], investor_score_all[investor], df_investors[df_investors['uuid'] == investor]['investor_name'].values[0]))"
   ]
  },
  {
   "cell_type": "code",
   "execution_count": null,
   "metadata": {},
   "outputs": [
    {
     "name": "stdout",
     "output_type": "stream",
     "text": [
      "There are 228472 companies founded after 2007-01-01\n",
      "5558 companies with fundings ['B', 'C']\n",
      "1301 acquired for 1M+\n",
      "1423 IPOs\n",
      "In total, 7801 good companies\n",
      "# good companies: 7801 with ['B', 'C', 'acquisition', 'ipo']\n",
      "# good / all seed investments: 2353 / 43526\n"
     ]
    }
   ],
   "source": [
    "criteria = ['B', 'C', 'acquisition', 'ipo']\n",
    "founded_after_this = '2007-01-01'\n",
    "global_investor_score_good, global_investor_score_all = get_investor_scores(criteria, founded_after_this, False)\n",
    "asia_investor_score_good, asia_investor_score_all = get_investor_scores(criteria, founded_after_this, True)"
   ]
  },
  {
   "cell_type": "code",
   "execution_count": null,
   "metadata": {
    "collapsed": true
   },
   "outputs": [],
   "source": [
    "# global 투자자, 최소 5개의 seed 투자\n",
    "check(global_investor_score_good, global_investor_score_all, MIN_SEED = 5)"
   ]
  },
  {
   "cell_type": "code",
   "execution_count": null,
   "metadata": {
    "collapsed": true
   },
   "outputs": [],
   "source": [
    "# global 투자자, 최소 10개의 seed 투자\n",
    "check(global_investor_score_good, global_investor_score_all, MIN_SEED = 10)"
   ]
  },
  {
   "cell_type": "code",
   "execution_count": null,
   "metadata": {
    "collapsed": true
   },
   "outputs": [],
   "source": [
    "# asia 투자자, 최소 3개의 seed 투자\n",
    "check(asia_investor_score_good, asia_investor_score_all, MIN_SEED = 3)"
   ]
  },
  {
   "cell_type": "code",
   "execution_count": null,
   "metadata": {
    "collapsed": true
   },
   "outputs": [],
   "source": [
    "# asia 투자자, 최소 5개의 seed 투자\n",
    "check(asia_investor_score_good, asia_investor_score_all, MIN_SEED = 5)"
   ]
  },
  {
   "cell_type": "code",
   "execution_count": null,
   "metadata": {
    "collapsed": true
   },
   "outputs": [],
   "source": [
    "# asia 투자자, 최소 10개의 seed 투자\n",
    "check(asia_investor_score_good, asia_investor_score_all, MIN_SEED = 10)"
   ]
  },
  {
   "cell_type": "code",
   "execution_count": null,
   "metadata": {
    "collapsed": true
   },
   "outputs": [],
   "source": [
    "'''\n",
    "2. 유명한 투자자들과 인맥이 있을 것 같은 작은 투자자들을 살펴보자\n",
    "'''\n",
    "\n",
    "# get investors with high centrality\n",
    "f = open(util_folder + 'investor_centrality_degree.pickle')\n",
    "investors_high_central = pickle.load(f)\n",
    "f.close()"
   ]
  },
  {
   "cell_type": "code",
   "execution_count": null,
   "metadata": {
    "collapsed": true
   },
   "outputs": [],
   "source": [
    "# 유명한 회사들 찾기 1 (network centrality)\n",
    "top25 = [uuid for uuid, value in investors_high_central[:25]]\n",
    "top25_central = []\n",
    "for i, uuid in enumerate(top25):\n",
    "    print df_investors[df_investors['uuid'] == (uuid)]['investor_name'].values[0], investors_high_central[i][1]\n",
    "    top25_central.append(uuid)"
   ]
  },
  {
   "cell_type": "code",
   "execution_count": null,
   "metadata": {
    "collapsed": true
   },
   "outputs": [],
   "source": [
    "# 유명한 회사들 찾기 2. funding frequency\n",
    "groups = df_investments.groupby('investor_uuid')['funding_round_uuid'].count().reset_index().sort_values(by = 'funding_round_uuid', ascending = False)#['investor_uuid'].apply(list)\n",
    "count = 0\n",
    "top25_funding = []\n",
    "for index, row in groups.iterrows():\n",
    "    uuid = row[0]\n",
    "    fund_count = row[1]\n",
    "    print df_investors[df_investors['uuid'] == (uuid)]['investor_name'].values[0], fund_count\n",
    "    top25_funding.append(uuid)\n",
    "    if count == 25: break\n",
    "    count += 1"
   ]
  },
  {
   "cell_type": "code",
   "execution_count": null,
   "metadata": {
    "collapsed": true
   },
   "outputs": [],
   "source": [
    "# 유명한 회사들과 공동 투자를 많이 한 회사를 찾아라\n",
    "# 그 중 최소한 MIN 번 이상의 투자를 한 회사들\n",
    "MIN = 3\n",
    "\n",
    "# get all companies founded after the time\n",
    "companies = df_organizations['uuid']\n",
    "print('There are {} companies'.format(len(companies)))\n",
    "\n",
    "# get famous investors\n",
    "top_investors = top25_central\n",
    "top_investors.extend(top25_funding)\n",
    "top_investors = list(set(top_investors))\n",
    "\n",
    "co_funding_count = {}\n",
    "funding_count = {}\n",
    "for investor in top_investors:\n",
    "    co_funding_count[investor] = {}\n",
    "\n",
    "groups = df_investments.groupby('funding_round_uuid')['investor_uuid'].apply(list)\n",
    "# 같은 회사에 투자를 한 경우, 두 투자 회사 사이에 링크를 준다\n",
    "for investors in groups.values:\n",
    "    for investor1 in investors:\n",
    "        for investor2 in investors:\n",
    "            if investor1 != investor2:\n",
    "                if investor1 in top_investors and investor2 not in top_investors:\n",
    "                    co_funding_count[investor1][investor2] = co_funding_count[investor1].get(investor2, 0) + 1\n",
    "                    funding_count[investor2] = funding_count.get(investor2, 0) + 1\n",
    "                if investor2 in top_investors and investor1 not in top_investors:\n",
    "                    co_funding_count[investor2][investor1] = co_funding_count[investor2].get(investor1, 0) + 1\n",
    "                    funding_count[investor1] = funding_count.get(investor1, 0) + 1"
   ]
  },
  {
   "cell_type": "code",
   "execution_count": null,
   "metadata": {
    "collapsed": true,
    "scrolled": false
   },
   "outputs": [],
   "source": [
    "co_funding_prop = {}\n",
    "print('TOP VC List')\n",
    "for investor1 in top_investors:\n",
    "    print('{}'.format(df_investors[df_investors['uuid'] == (investor1)]['investor_name'].values[0]))\n",
    "    \n",
    "print('\\n\\n')\n",
    "for investor1 in top_investors:\n",
    "    co_funding_propop[investor1] = {}\n",
    "    for investor2, count in funding_count.items():\n",
    "        if count >= MIN:\n",
    "            if investor2 in co_funding_count[investor1]:\n",
    "                co_funding_prop[investor1][investor2] = co_funding_count[investor1][investor2] / float(count)\n",
    "    # sort\n",
    "    score = co_funding_prop[investor1]\n",
    "    score = sorted(score.items(), key=operator.itemgetter(1))\n",
    "    score.reverse()\n",
    "    print('TOP VC {}'.format(df_investors[df_investors['uuid'] == (investor1)]['investor_name'].values[0]))\n",
    "    for key, value in score[:10]:\n",
    "        name = df_investors[df_investors['uuid'] == (key)]['investor_name'].values[0]\n",
    "        print('{}% {}: {}'.format(value * 100, funding_count[key], name))\n",
    "    print('\\n\\n')"
   ]
  },
  {
   "cell_type": "code",
   "execution_count": null,
   "metadata": {
    "collapsed": true
   },
   "outputs": [],
   "source": []
  },
  {
   "cell_type": "code",
   "execution_count": null,
   "metadata": {
    "collapsed": true
   },
   "outputs": [],
   "source": []
  }
 ],
 "metadata": {
  "kernelspec": {
   "display_name": "Python 2",
   "language": "python",
   "name": "python2"
  },
  "language_info": {
   "codemirror_mode": {
    "name": "ipython",
    "version": 2
   },
   "file_extension": ".py",
   "mimetype": "text/x-python",
   "name": "python",
   "nbconvert_exporter": "python",
   "pygments_lexer": "ipython2",
   "version": "2.7.10"
  }
 },
 "nbformat": 4,
 "nbformat_minor": 1
}
