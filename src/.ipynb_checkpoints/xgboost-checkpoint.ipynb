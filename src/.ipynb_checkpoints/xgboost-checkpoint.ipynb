{
 "cells": [
  {
   "cell_type": "code",
   "execution_count": 284,
   "metadata": {},
   "outputs": [],
   "source": [
    "import re, pickle, operator, xgboost\n",
    "import pandas as pd\n",
    "import numpy as np\n",
    "import networkx as nx\n",
    "import seaborn as sns\n",
    "from datetime import datetime\n",
    "from matplotlib import pyplot as plt\n",
    "from sklearn.cluster import KMeans\n",
    "from sklearn.model_selection import train_test_split\n",
    "%matplotlib inline"
   ]
  },
  {
   "cell_type": "code",
   "execution_count": 285,
   "metadata": {},
   "outputs": [],
   "source": [
    "# load data\n",
    "data_folder = '../data/csv_export/'\n",
    "util_folder = '../util/'\n",
    "trend_folder = '../data/trends/'\n",
    "df_organizations = pd.read_csv(data_folder + 'organizations.csv'.format(data_folder), dtype={'first_funding_on': str, 'last_funding_on':str})\n",
    "df_description = pd.read_csv(data_folder + 'organization_descriptions.csv')\n",
    "df_funding_rounds = pd.read_csv(data_folder + 'funding_rounds.csv', infer_datetime_format = True)\n",
    "df_funds = pd.read_csv(data_folder + 'funds.csv')\n",
    "df_investments = pd.read_csv(data_folder + 'investments.csv')\n",
    "df_ipo = pd.read_csv(data_folder + 'ipos.csv')\n",
    "df_acq = pd.read_csv(data_folder + 'acquisitions.csv')\n",
    "df_competition = pd.read_csv(data_folder + 'competitors.csv')\n",
    "df_category = pd.read_csv(data_folder + 'category_groups.csv')\n",
    "df_investors = pd.read_csv(data_folder + 'investors.csv')"
   ]
  },
  {
   "cell_type": "code",
   "execution_count": 286,
   "metadata": {
    "collapsed": true
   },
   "outputs": [],
   "source": [
    "# build data\n",
    "# - company age\n",
    "# - number of competition\n",
    "# - number of competition that got acquired\n",
    "# - number of companies that share keywords\n",
    "# - number of companies that share keywords that got acquired\n",
    "# - number of investments\n",
    "# - time lag between\n",
    "#   - seed and A\n",
    "#   - A and B\n",
    "# - number of investors\n",
    "# - number of investor’s investments (total, average)\n",
    "# - centrality of investors (total, average)"
   ]
  },
  {
   "cell_type": "code",
   "execution_count": 287,
   "metadata": {},
   "outputs": [
    {
     "name": "stdout",
     "output_type": "stream",
     "text": [
      "whole dataset: 520408\n",
      "seed, A, B: 38986 20565 11684\n",
      "IPO: 12314\n",
      "valid dataset: 38753\n"
     ]
    }
   ],
   "source": [
    "# seed 투자에 대한 정보가 있는 회사에 대하여 실험을 진행한다\n",
    "# acqusition vs not 을 예상하고 (IPO 성공한 회사는 실험 대상에서 제외 한다)\n",
    "print('whole dataset:',df_organizations.shape[0])\n",
    "companies_seed = df_funding_rounds[df_funding_rounds['funding_round_type'] == 'seed']['company_uuid'].unique()\n",
    "companies_A = df_funding_rounds[df_funding_rounds['funding_round_code'] == 'A']['company_uuid'].unique()\n",
    "companies_B = df_funding_rounds[df_funding_rounds['funding_round_code'] == 'B']['company_uuid'].unique()\n",
    "print('seed, A, B:',len(companies_seed), len(companies_A), len(companies_B))\n",
    "\n",
    "companies_ipo = df_ipo['company_uuid'].unique()\n",
    "print('IPO:', len(companies_ipo))\n",
    "companies = list(set(companies_seed).difference(set(companies_ipo)))\n",
    "print('valid dataset:',len(companies))"
   ]
  },
  {
   "cell_type": "code",
   "execution_count": 288,
   "metadata": {},
   "outputs": [
    {
     "name": "stdout",
     "output_type": "stream",
     "text": [
      "(38753, 2)\n"
     ]
    }
   ],
   "source": [
    "# ground truth: acquisition\n",
    "data = pd.DataFrame(companies)\n",
    "data.columns = ['uuid']\n",
    "data = data.merge(df_acq[['acquiree_uuid']].drop_duplicates(), left_on = 'uuid', right_on = 'acquiree_uuid', how = 'left')\n",
    "data = data.fillna(0)\n",
    "data.columns = ['uuid', 'acquired']\n",
    "data['acquired'] = data['acquired'].apply(lambda x: False if x == 0 else True)\n",
    "print(data.shape)"
   ]
  },
  {
   "cell_type": "code",
   "execution_count": 289,
   "metadata": {},
   "outputs": [
    {
     "name": "stdout",
     "output_type": "stream",
     "text": [
      "(38753, 3)\n"
     ]
    }
   ],
   "source": [
    "# feature n_investment: number of investments\n",
    "n_investments = df_funding_rounds.groupby('company_uuid').count()[['company_name']].reset_index()\n",
    "n_investments.columns = ['uuid', 'n_investment']\n",
    "data = data.merge(n_investments, on = 'uuid', how = 'left')\n",
    "print(data.shape)"
   ]
  },
  {
   "cell_type": "code",
   "execution_count": 290,
   "metadata": {},
   "outputs": [
    {
     "name": "stdout",
     "output_type": "stream",
     "text": [
      "(38753, 4)\n"
     ]
    }
   ],
   "source": [
    "# feature n_investment: cumulative number of investors\n",
    "n_investors = df_funding_rounds.groupby('company_uuid')['investor_count'].sum().reset_index()\n",
    "n_investors.columns = ['uuid', 'n_investor']\n",
    "data = data.merge(n_investors, on = 'uuid', how = 'left')\n",
    "print(data.shape)"
   ]
  },
  {
   "cell_type": "code",
   "execution_count": 291,
   "metadata": {},
   "outputs": [],
   "source": [
    "f = open(util_folder + 'investor_centrality_between_one_over_k.pickle', 'rb')\n",
    "_central = pickle.load(f)\n",
    "central = {}\n",
    "for key, value in _central:\n",
    "    central[key] = value"
   ]
  },
  {
   "cell_type": "code",
   "execution_count": 292,
   "metadata": {},
   "outputs": [],
   "source": [
    "# feature n_investment: unique of investors\n",
    "funding = df_funding_rounds[['funding_round_uuid', 'company_uuid']].merge(df_investments[['funding_round_uuid', 'investor_uuid']], on = 'funding_round_uuid', how = 'left')\n",
    "funding = funding.dropna(axis = 0, how = 'any')\n",
    "funding['central'] = funding['investor_uuid'].apply(lambda x: central.get(x, 0))\n",
    "# investor_list = funding.groupby('company_uuid')['investor_uuid'].apply(list).rename('investor_list').reset_index()\n",
    "# investor_list['nu_investors'] = investor_list['investor_list'].apply(lambda x: len(x))\n",
    "# investor_list = investor_list.rename(columns = {'company_uuid':'uuid'})\n",
    "# data = data.merge(investor_list[['uuid', 'nu_investors']], on = 'uuid', how = 'left')\n",
    "\n",
    "investor_central = funding.groupby('company_uuid')['central'].sum().rename('sum_investor_central').reset_index()\n",
    "investor_central = investor_central.rename(columns = {'company_uuid':'uuid'})\n",
    "data = data.merge(investor_central[['uuid', 'sum_investor_central']], on = 'uuid', how = 'left')\n",
    "data['average_investor_central'] = data['sum_investor_central'] / data['n_investor']\n",
    "data = data.fillna(0)"
   ]
  },
  {
   "cell_type": "code",
   "execution_count": 294,
   "metadata": {},
   "outputs": [
    {
     "name": "stdout",
     "output_type": "stream",
     "text": [
      "(38753, 7)\n",
      "                                   uuid  acquired  n_investment  n_investor  \\\n",
      "0  2af9fd15-da0c-aae8-8ba1-39d6a5f05b49     False             1           0   \n",
      "1  0fd3488a-b38f-1425-9841-57ed3ac24c95     False             3           1   \n",
      "2  9b295486-d4c6-a60b-0e6f-b80c2ac21978     False             1           0   \n",
      "3  e849c1a0-d207-db27-74b5-6711fd812761     False             2           5   \n",
      "4  cc5bfb94-218b-e386-9f98-b153b4ec7b4f     False             3           5   \n",
      "\n",
      "   sum_investor_central  average_investor_central  investment delta  \n",
      "0              0.000000                  0.000000               0.0  \n",
      "1              0.000358                  0.000358             333.0  \n",
      "2              0.000000                  0.000000               0.0  \n",
      "3              0.001646                  0.000329             143.0  \n",
      "4              0.001215                  0.000243              13.0  \n"
     ]
    }
   ],
   "source": [
    "# time between investments\n",
    "investment_time = df_funding_rounds.groupby('company_uuid')['created_at'].agg(['min', 'max']).reset_index()\n",
    "investment_time.columns = ['uuid', 'first', 'last']\n",
    "investment_time['first'] = pd.to_datetime(investment_time['first'])\n",
    "investment_time['last'] = pd.to_datetime(investment_time['last'])\n",
    "investment_time['delta'] = investment_time['last'] - investment_time['first']\n",
    "investment_time['delta'] = investment_time['delta'].apply(lambda x: float(x.days))\n",
    "data = data.merge(investment_time[['uuid', 'delta']], on = 'uuid', how = 'left')\n",
    "data = data.rename(columns = {'delta':'investment delta'})\n",
    "print(data.shape)\n",
    "print(data.head())"
   ]
  },
  {
   "cell_type": "code",
   "execution_count": 295,
   "metadata": {
    "collapsed": true
   },
   "outputs": [],
   "source": [
    "data['average time between investment'] = data['investment delta'] / data['n_investment']"
   ]
  },
  {
   "cell_type": "code",
   "execution_count": 296,
   "metadata": {
    "collapsed": true
   },
   "outputs": [],
   "source": [
    "data['num investors per investment'] = data['n_investor'] / data['n_investment']"
   ]
  },
  {
   "cell_type": "code",
   "execution_count": 297,
   "metadata": {},
   "outputs": [
    {
     "name": "stdout",
     "output_type": "stream",
     "text": [
      "[0]\ttrain-logloss:0.622666\n",
      "[10]\ttrain-logloss:0.31797\n",
      "[20]\ttrain-logloss:0.248002\n",
      "[30]\ttrain-logloss:0.230439\n",
      "[40]\ttrain-logloss:0.225601\n",
      "[50]\ttrain-logloss:0.224083\n",
      "[60]\ttrain-logloss:0.223373\n",
      "[70]\ttrain-logloss:0.222697\n"
     ]
    },
    {
     "data": {
      "text/plain": [
       "<matplotlib.axes._subplots.AxesSubplot at 0x7f1cb5c43630>"
      ]
     },
     "execution_count": 297,
     "metadata": {},
     "output_type": "execute_result"
    },
    {
     "data": {
      "image/png": "[encoded data removed]",
      "text/plain": [
       "<matplotlib.figure.Figure at 0x7f1d0ec45160>"
      ]
     },
     "metadata": {},
     "output_type": "display_data"
    }
   ],
   "source": [
    "# only use these features\n",
    "featurs = []\n",
    "\n",
    "\n",
    "X_train, X_test, y_train, y_test = train_test_split(data, data.acquired,\n",
    "                                                    test_size=0.9, random_state=42)\n",
    "d_train = xgboost.DMatrix(X_train.drop(['uuid', 'acquired'], axis = 1), y_train)\n",
    "xgb_params = {\n",
    "    \"objective\"         : \"reg:logistic\"\n",
    "    ,\"eval_metric\"      : \"logloss\"\n",
    "    ,\"eta\"              : 0.1\n",
    "    ,\"max_depth\"        : 1\n",
    "    ,\"min_child_weight\" :10\n",
    "    ,\"gamma\"            :0.70\n",
    "    ,\"subsample\"        :0.76\n",
    "    ,\"colsample_bytree\" :0.95\n",
    "    ,\"alpha\"            :2e-05\n",
    "    ,\"lambda\"           :10\n",
    "}\n",
    "\n",
    "watchlist= [(d_train, \"train\")]\n",
    "bst = xgboost.train(params=xgb_params, dtrain=d_train, num_boost_round=80, evals=watchlist, verbose_eval=10)\n",
    "xgboost.plot_importance(bst)"
   ]
  },
  {
   "cell_type": "code",
   "execution_count": 298,
   "metadata": {},
   "outputs": [
    {
     "name": "stdout",
     "output_type": "stream",
     "text": [
      "answer: 2194 answer not: 32684 prediction 15985 prediction not 18893\n",
      "TP, FN, FP, TN: 1526 668 14459 18225\n",
      "TPR: 0.6955332725615314 FPR: 0.44238771264227145\n",
      "       acquired  prediction\n",
      "29807     False           0\n",
      "17989     False           0\n",
      "8394      False           0\n",
      "17687     False           1\n",
      "32533      True           1\n"
     ]
    },
    {
     "name": "stderr",
     "output_type": "stream",
     "text": [
      "/home/joonheekim/Projects/kaggle_instacart/venv/lib/python3.4/site-packages/ipykernel_launcher.py:9: SettingWithCopyWarning: \n",
      "A value is trying to be set on a copy of a slice from a DataFrame.\n",
      "Try using .loc[row_indexer,col_indexer] = value instead\n",
      "\n",
      "See the caveats in the documentation: http://pandas.pydata.org/pandas-docs/stable/indexing.html#indexing-view-versus-copy\n",
      "  if __name__ == '__main__':\n"
     ]
    }
   ],
   "source": [
    "d_test = xgboost.DMatrix(X_test.drop(['uuid', 'acquired'], axis = 1))\n",
    "evaluation = X_test[['acquired']]\n",
    "\n",
    "# for i in range(10):\n",
    "#     cutoff = i * 0.05\n",
    "#     evaluation['prediction'] = (bst.predict(d_test) > cutoff).astype(int)\n",
    "#     print(cutoff, evaluation[evaluation['prediction'] == 1].shape[0])\n",
    "cutoff = 0.05\n",
    "evaluation['prediction'] = (bst.predict(d_test) > cutoff).astype(int)\n",
    "\n",
    "answer = evaluation[evaluation['acquired'] == True].index\n",
    "answer_not = evaluation[evaluation['acquired'] == False].index\n",
    "prediction = evaluation[evaluation['prediction'] == 1].index\n",
    "prediction_not = evaluation[evaluation['prediction'] == 0].index\n",
    "print('answer:', len(answer), 'answer not:', len(answer_not), 'prediction', len(prediction), 'prediction not', len(prediction_not))\n",
    "\n",
    "TP = len(list(set(answer).intersection(set(prediction))))\n",
    "FN = len(list(set(answer).intersection(set(prediction_not))))\n",
    "FP = len(list(set(answer_not).intersection(set(prediction))))\n",
    "TN = len(list(set(answer_not).intersection(set(prediction_not))))\n",
    "print('TP, FN, FP, TN:', TP, FN, FP, TN)\n",
    "\n",
    "TPR = TP / float(TP + FN)\n",
    "FPR = FP / float(FP + TN)\n",
    "print('TPR:',TPR, 'FPR:',FPR)\n",
    "\n",
    "print(evaluation.head())"
   ]
  },
  {
   "cell_type": "code",
   "execution_count": null,
   "metadata": {
    "collapsed": true
   },
   "outputs": [],
   "source": []
  },
  {
   "cell_type": "code",
   "execution_count": null,
   "metadata": {
    "collapsed": true
   },
   "outputs": [],
   "source": []
  },
  {
   "cell_type": "code",
   "execution_count": null,
   "metadata": {
    "collapsed": true
   },
   "outputs": [],
   "source": []
  }
 ],
 "metadata": {
  "kernelspec": {
   "display_name": "venv",
   "language": "python",
   "name": "venv"
  },
  "language_info": {
   "codemirror_mode": {
    "name": "ipython",
    "version": 3
   },
   "file_extension": ".py",
   "mimetype": "text/x-python",
   "name": "python",
   "nbconvert_exporter": "python",
   "pygments_lexer": "ipython3",
   "version": "3.4.3"
  }
 },
 "nbformat": 4,
 "nbformat_minor": 2
}
