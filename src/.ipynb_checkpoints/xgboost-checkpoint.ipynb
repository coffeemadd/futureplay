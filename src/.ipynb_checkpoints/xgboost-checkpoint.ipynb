{
 "cells": [
  {
   "cell_type": "code",
   "execution_count": 1,
   "metadata": {},
   "outputs": [
    {
     "name": "stderr",
     "output_type": "stream",
     "text": [
      "/home/joonheekim/Projects/kaggle_instacart/venv/lib/python3.4/site-packages/sklearn/cross_validation.py:44: DeprecationWarning: This module was deprecated in version 0.18 in favor of the model_selection module into which all the refactored classes and functions are moved. Also note that the interface of the new CV iterators are different from that of this module. This module will be removed in 0.20.\n",
      "  \"This module will be removed in 0.20.\", DeprecationWarning)\n"
     ]
    }
   ],
   "source": [
    "import re, pickle, operator, xgboost\n",
    "import pandas as pd\n",
    "import numpy as np\n",
    "import networkx as nx\n",
    "import seaborn as sns\n",
    "from datetime import datetime\n",
    "from matplotlib import pyplot as plt\n",
    "from sklearn.cluster import KMeans\n",
    "from sklearn.model_selection import train_test_split\n",
    "%matplotlib inline"
   ]
  },
  {
   "cell_type": "code",
   "execution_count": 2,
   "metadata": {
    "collapsed": true
   },
   "outputs": [],
   "source": [
    "# load data\n",
    "data_folder = '../data/csv_export/'\n",
    "util_folder = '../util/'\n",
    "trend_folder = '../data/trends/'\n",
    "df_organizations = pd.read_csv(data_folder + 'organizations.csv'.format(data_folder), dtype={'first_funding_on': str, 'last_funding_on':str})\n",
    "df_description = pd.read_csv(data_folder + 'organization_descriptions.csv')\n",
    "df_funding_rounds = pd.read_csv(data_folder + 'funding_rounds.csv', infer_datetime_format = True)\n",
    "df_funds = pd.read_csv(data_folder + 'funds.csv')\n",
    "df_investments = pd.read_csv(data_folder + 'investments.csv')\n",
    "df_ipo = pd.read_csv(data_folder + 'ipos.csv')\n",
    "df_acq = pd.read_csv(data_folder + 'acquisitions.csv')\n",
    "df_competition = pd.read_csv(data_folder + 'competitors.csv')\n",
    "df_category = pd.read_csv(data_folder + 'category_groups.csv')\n",
    "df_investors = pd.read_csv(data_folder + 'investors.csv')"
   ]
  },
  {
   "cell_type": "code",
   "execution_count": 286,
   "metadata": {
    "collapsed": true
   },
   "outputs": [],
   "source": [
    "# build data\n",
    "# - company age\n",
    "# - number of competition\n",
    "# - number of competition that got acquired\n",
    "# - number of companies that share keywords\n",
    "# - number of companies that share keywords that got acquired\n",
    "# - number of investments\n",
    "# - time lag between\n",
    "#   - seed and A\n",
    "#   - A and B\n",
    "# - number of investors\n",
    "# - number of investor’s investments (total, average)\n",
    "# - centrality of investors (total, average)"
   ]
  },
  {
   "cell_type": "code",
   "execution_count": 3,
   "metadata": {},
   "outputs": [
    {
     "name": "stdout",
     "output_type": "stream",
     "text": [
      "whole dataset: 520408\n",
      "seed, A, B: 38986 20565 11684\n",
      "IPO: 12314\n",
      "valid dataset: 38753\n"
     ]
    }
   ],
   "source": [
    "# seed 투자에 대한 정보가 있는 회사에 대하여 실험을 진행한다\n",
    "# acqusition vs not 을 예상하고 (IPO 성공한 회사는 실험 대상에서 제외 한다)\n",
    "print('whole dataset:',df_organizations.shape[0])\n",
    "companies_seed = df_funding_rounds[df_funding_rounds['funding_round_type'] == 'seed']['company_uuid'].unique()\n",
    "companies_A = df_funding_rounds[df_funding_rounds['funding_round_code'] == 'A']['company_uuid'].unique()\n",
    "companies_B = df_funding_rounds[df_funding_rounds['funding_round_code'] == 'B']['company_uuid'].unique()\n",
    "print('seed, A, B:',len(companies_seed), len(companies_A), len(companies_B))\n",
    "\n",
    "companies_ipo = df_ipo['company_uuid'].unique()\n",
    "print('IPO:', len(companies_ipo))\n",
    "companies = list(set(companies_seed).difference(set(companies_ipo)))\n",
    "print('valid dataset:',len(companies))"
   ]
  },
  {
   "cell_type": "code",
   "execution_count": 4,
   "metadata": {},
   "outputs": [
    {
     "name": "stdout",
     "output_type": "stream",
     "text": [
      "(38753, 2)\n"
     ]
    }
   ],
   "source": [
    "# ground truth: acquisition\n",
    "data = pd.DataFrame(companies)\n",
    "data.columns = ['uuid']\n",
    "data = data.merge(df_acq[['acquiree_uuid']].drop_duplicates(), left_on = 'uuid', right_on = 'acquiree_uuid', how = 'left')\n",
    "data = data.fillna(0)\n",
    "data.columns = ['uuid', 'acquired']\n",
    "data['acquired'] = data['acquired'].apply(lambda x: False if x == 0 else True)\n",
    "print(data.shape)"
   ]
  },
  {
   "cell_type": "code",
   "execution_count": 5,
   "metadata": {},
   "outputs": [
    {
     "name": "stdout",
     "output_type": "stream",
     "text": [
      "(38753, 3)\n"
     ]
    }
   ],
   "source": [
    "# feature n_investment: number of investments\n",
    "n_investments = df_funding_rounds.groupby('company_uuid').count()[['company_name']].reset_index()\n",
    "n_investments.columns = ['uuid', 'n_investment']\n",
    "data = data.merge(n_investments, on = 'uuid', how = 'left')\n",
    "print(data.shape)"
   ]
  },
  {
   "cell_type": "code",
   "execution_count": 6,
   "metadata": {},
   "outputs": [
    {
     "name": "stdout",
     "output_type": "stream",
     "text": [
      "(38753, 4)\n"
     ]
    }
   ],
   "source": [
    "# feature n_investment: cumulative number of investors\n",
    "n_investors = df_funding_rounds.groupby('company_uuid')['investor_count'].sum().reset_index()\n",
    "n_investors.columns = ['uuid', 'n_investor']\n",
    "data = data.merge(n_investors, on = 'uuid', how = 'left')\n",
    "print(data.shape)"
   ]
  },
  {
   "cell_type": "code",
   "execution_count": 7,
   "metadata": {
    "collapsed": true
   },
   "outputs": [],
   "source": [
    "f = open(util_folder + 'investor_centrality_between_one_over_k.pickle', 'rb')\n",
    "_central = pickle.load(f)\n",
    "central = {}\n",
    "for key, value in _central:\n",
    "    central[key] = value"
   ]
  },
  {
   "cell_type": "code",
   "execution_count": 8,
   "metadata": {
    "collapsed": true
   },
   "outputs": [],
   "source": [
    "# feature n_investment: unique of investors\n",
    "funding = df_funding_rounds[['funding_round_uuid', 'company_uuid']].merge(df_investments[['funding_round_uuid', 'investor_uuid']], on = 'funding_round_uuid', how = 'left')\n",
    "funding = funding.dropna(axis = 0, how = 'any')\n",
    "funding['central'] = funding['investor_uuid'].apply(lambda x: central.get(x, 0))\n",
    "# investor_list = funding.groupby('company_uuid')['investor_uuid'].apply(list).rename('investor_list').reset_index()\n",
    "# investor_list['nu_investors'] = investor_list['investor_list'].apply(lambda x: len(x))\n",
    "# investor_list = investor_list.rename(columns = {'company_uuid':'uuid'})\n",
    "# data = data.merge(investor_list[['uuid', 'nu_investors']], on = 'uuid', how = 'left')\n",
    "\n",
    "investor_central = funding.groupby('company_uuid')['central'].sum().rename('sum_investor_central').reset_index()\n",
    "investor_central = investor_central.rename(columns = {'company_uuid':'uuid'})\n",
    "data = data.merge(investor_central[['uuid', 'sum_investor_central']], on = 'uuid', how = 'left')\n",
    "data['average_investor_central'] = data['sum_investor_central'] / data['n_investor']\n",
    "data = data.fillna(0)"
   ]
  },
  {
   "cell_type": "code",
   "execution_count": 9,
   "metadata": {},
   "outputs": [
    {
     "name": "stdout",
     "output_type": "stream",
     "text": [
      "(38753, 7)\n",
      "                                   uuid  acquired  n_investment  n_investor  \\\n",
      "0  89ed3fd5-2182-e7f5-a95b-ac02f00c9ea4     False             3           4   \n",
      "1  c2e7e605-fd80-50c3-a112-930da1c1b195     False             2           3   \n",
      "2  04e76176-e151-ee6c-df29-926ce7c8e247     False             3          11   \n",
      "3  bd410c12-8b1b-c44b-d4f5-2f454fd6cc6f     False             1           0   \n",
      "4  d01dee2b-c60f-2498-d549-43ec958a688f     False             1           0   \n",
      "\n",
      "   sum_investor_central  average_investor_central  investment delta  \n",
      "0              0.003150                  0.000787            1628.0  \n",
      "1              0.000972                  0.000324             130.0  \n",
      "2              0.406341                  0.036940             448.0  \n",
      "3              0.000000                  0.000000               0.0  \n",
      "4              0.000000                  0.000000               0.0  \n"
     ]
    }
   ],
   "source": [
    "# time between investments\n",
    "investment_time = df_funding_rounds.groupby('company_uuid')['created_at'].agg(['min', 'max']).reset_index()\n",
    "investment_time.columns = ['uuid', 'first', 'last']\n",
    "investment_time['first'] = pd.to_datetime(investment_time['first'])\n",
    "investment_time['last'] = pd.to_datetime(investment_time['last'])\n",
    "investment_time['delta'] = investment_time['last'] - investment_time['first']\n",
    "investment_time['delta'] = investment_time['delta'].apply(lambda x: float(x.days))\n",
    "data = data.merge(investment_time[['uuid', 'delta']], on = 'uuid', how = 'left')\n",
    "data = data.rename(columns = {'delta':'investment delta'})\n",
    "print(data.shape)\n",
    "print(data.head())"
   ]
  },
  {
   "cell_type": "code",
   "execution_count": 10,
   "metadata": {
    "collapsed": true
   },
   "outputs": [],
   "source": [
    "data['average time between investment'] = data['investment delta'] / data['n_investment']"
   ]
  },
  {
   "cell_type": "code",
   "execution_count": 11,
   "metadata": {
    "collapsed": true
   },
   "outputs": [],
   "source": [
    "data['num investors per investment'] = data['n_investor'] / data['n_investment']"
   ]
  },
  {
   "cell_type": "code",
   "execution_count": 81,
   "metadata": {},
   "outputs": [
    {
     "name": "stdout",
     "output_type": "stream",
     "text": [
      "Index(['uuid', 'acquired', 'n_investment', 'n_investor',\n",
      "       'sum_investor_central', 'average_investor_central', 'investment delta',\n",
      "       'average time between investment', 'num investors per investment'],\n",
      "      dtype='object')\n",
      "[0]\ttrain-auc:0.699964\n",
      "[10]\ttrain-auc:0.753926\n",
      "[20]\ttrain-auc:0.772504\n",
      "[30]\ttrain-auc:0.781065\n",
      "[40]\ttrain-auc:0.790677\n",
      "[50]\ttrain-auc:0.805191\n",
      "[60]\ttrain-auc:0.812248\n",
      "[70]\ttrain-auc:0.822777\n",
      "[80]\ttrain-auc:0.827965\n",
      "[90]\ttrain-auc:0.832948\n"
     ]
    },
    {
     "data": {
      "text/plain": [
       "<matplotlib.axes._subplots.AxesSubplot at 0x7f38f1b76be0>"
      ]
     },
     "execution_count": 81,
     "metadata": {},
     "output_type": "execute_result"
    },
    {
     "data": {
      "image/png": "[encoded data removed]",
      "text/plain": [
       "<matplotlib.figure.Figure at 0x7f38f18a5a58>"
      ]
     },
     "metadata": {},
     "output_type": "display_data"
    }
   ],
   "source": [
    "# only use these features\n",
    "print(data.columns)\n",
    "\n",
    "X_train, X_test, y_train, y_test = train_test_split(data, data.acquired,\n",
    "                                                    test_size=0.1, random_state=42)\n",
    "d_train = xgboost.DMatrix(X_train.drop(['uuid', 'acquired'], axis = 1), y_train)\n",
    "xgb_params = {\n",
    "    \"objective\"         : \"binary:logistic\"\n",
    "    ,\"eval_metric\"      : \"auc\"\n",
    "#     ,\"eta\"              : 0.1\n",
    "#     ,\"max_depth\"        : 6\n",
    "#     ,\"min_child_weight\" :3\n",
    "#     ,\"gamma\"            :0.70\n",
    "#     ,\"subsample\"        :0.76\n",
    "#     ,\"colsample_bytree\" :0.95\n",
    "#     ,\"alpha\"            :2e-05\n",
    "#     ,\"lambda\"           :1\n",
    "}\n",
    "\n",
    "watchlist= [(d_train, \"train\")]\n",
    "bst = xgboost.train(params=xgb_params, dtrain=d_train, num_boost_round=100, evals=watchlist, verbose_eval=10)\n",
    "xgboost.plot_importance(bst)"
   ]
  },
  {
   "cell_type": "code",
   "execution_count": 83,
   "metadata": {
    "scrolled": false
   },
   "outputs": [
    {
     "name": "stderr",
     "output_type": "stream",
     "text": [
      "/home/joonheekim/Projects/kaggle_instacart/venv/lib/python3.4/site-packages/ipykernel_launcher.py:8: SettingWithCopyWarning: \n",
      "A value is trying to be set on a copy of a slice from a DataFrame.\n",
      "Try using .loc[row_indexer,col_indexer] = value instead\n",
      "\n",
      "See the caveats in the documentation: http://pandas.pydata.org/pandas-docs/stable/indexing.html#indexing-view-versus-copy\n",
      "  \n"
     ]
    },
    {
     "name": "stdout",
     "output_type": "stream",
     "text": [
      "answer: 238 answer not: 3638 prediction 1416 prediction not 2460\n",
      "TP, FN, FP, TN: 154 84 1262 2376\n",
      "cutoff: 0.05 TPR: 0.647 FPR: 0.347 p: 0.109 r: 0.647 auc: 0.65\n"
     ]
    },
    {
     "name": "stderr",
     "output_type": "stream",
     "text": [
      "/home/joonheekim/Projects/kaggle_instacart/venv/lib/python3.4/site-packages/ipykernel_launcher.py:35: SettingWithCopyWarning: \n",
      "A value is trying to be set on a copy of a slice from a DataFrame.\n",
      "Try using .loc[row_indexer,col_indexer] = value instead\n",
      "\n",
      "See the caveats in the documentation: http://pandas.pydata.org/pandas-docs/stable/indexing.html#indexing-view-versus-copy\n"
     ]
    }
   ],
   "source": [
    "from sklearn.metrics import roc_auc_score as auc\n",
    "d_test = xgboost.DMatrix(X_test.drop(['uuid', 'acquired'], axis = 1))\n",
    "evaluation = X_test[['acquired']]\n",
    "\n",
    "score = {}\n",
    "for i in range(300):\n",
    "    cutoff = (i + 1) * .001\n",
    "    evaluation['prediction'] = (bst.predict(d_test) > cutoff).astype(int)\n",
    "\n",
    "    answer = evaluation[evaluation['acquired'] == True].index\n",
    "    answer_not = evaluation[evaluation['acquired'] == False].index\n",
    "    prediction = evaluation[evaluation['prediction'] == 1].index\n",
    "    prediction_not = evaluation[evaluation['prediction'] == 0].index\n",
    "#     print('answer:', len(answer), 'answer not:', len(answer_not), 'prediction', len(prediction), 'prediction not', len(prediction_not))\n",
    "\n",
    "    TP = len(list(set(answer).intersection(set(prediction))))\n",
    "    FN = len(list(set(answer).intersection(set(prediction_not))))\n",
    "    FP = len(list(set(answer_not).intersection(set(prediction))))\n",
    "    TN = len(list(set(answer_not).intersection(set(prediction_not))))\n",
    "#     print('TP, FN, FP, TN:', TP, FN, FP, TN)\n",
    "    try:\n",
    "        _auc = auc(evaluation['acquired'].values, evaluation['prediction'].values)\n",
    "        TPR = TP / float(TP + FN)\n",
    "        FPR = FP / float(FP + TN)\n",
    "        score[cutoff] = auc(evaluation['acquired'].values, evaluation['prediction'].values)\n",
    "    except Exception as e:\n",
    "        score[cutoff] = auc(evaluation['acquired'].values, evaluation['prediction'].values)\n",
    "\n",
    "score = sorted(score.items(), key = operator.itemgetter(1))\n",
    "cutoff = score[-1][0]\n",
    "evaluation['prediction'] = (bst.predict(d_test) > cutoff).astype(int)\n",
    "\n",
    "answer = evaluation[evaluation['acquired'] == True].index\n",
    "answer_not = evaluation[evaluation['acquired'] == False].index\n",
    "prediction = evaluation[evaluation['prediction'] == 1].index\n",
    "prediction_not = evaluation[evaluation['prediction'] == 0].index\n",
    "print('answer:', len(answer), 'answer not:', len(answer_not), 'prediction', len(prediction), 'prediction not', len(prediction_not))\n",
    "\n",
    "TP = len(list(set(answer).intersection(set(prediction))))\n",
    "FN = len(list(set(answer).intersection(set(prediction_not))))\n",
    "FP = len(list(set(answer_not).intersection(set(prediction))))\n",
    "TN = len(list(set(answer_not).intersection(set(prediction_not))))\n",
    "print('TP, FN, FP, TN:', TP, FN, FP, TN)\n",
    "TPR = TP / float(TP + FN)\n",
    "FPR = FP / float(FP + TN)\n",
    "_auc = auc(evaluation['acquired'].values, evaluation['prediction'].values)\n",
    "print('cutoff:',cutoff,'TPR:',round(TPR, 3), 'FPR:',round(FPR, 3),'auc:',round(_auc, 3))\n"
   ]
  },
  {
   "cell_type": "code",
   "execution_count": null,
   "metadata": {
    "collapsed": true
   },
   "outputs": [],
   "source": []
  },
  {
   "cell_type": "code",
   "execution_count": null,
   "metadata": {
    "collapsed": true
   },
   "outputs": [],
   "source": []
  },
  {
   "cell_type": "code",
   "execution_count": null,
   "metadata": {
    "collapsed": true
   },
   "outputs": [],
   "source": []
  }
 ],
 "metadata": {
  "kernelspec": {
   "display_name": "venv",
   "language": "python",
   "name": "venv"
  },
  "language_info": {
   "codemirror_mode": {
    "name": "ipython",
    "version": 3
   },
   "file_extension": ".py",
   "mimetype": "text/x-python",
   "name": "python",
   "nbconvert_exporter": "python",
   "pygments_lexer": "ipython3",
   "version": "3.4.3"
  }
 },
 "nbformat": 4,
 "nbformat_minor": 2
}
