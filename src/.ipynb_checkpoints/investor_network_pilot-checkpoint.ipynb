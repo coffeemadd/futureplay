{
 "cells": [
  {
   "cell_type": "code",
   "execution_count": null,
   "metadata": {
    "collapsed": true
   },
   "outputs": [],
   "source": [
    "'''\n",
    "Investor Network Analysis\n",
    "'''"
   ]
  },
  {
   "cell_type": "code",
   "execution_count": 11,
   "metadata": {
    "collapsed": true
   },
   "outputs": [],
   "source": [
    "import pandas as pd\n",
    "import re\n",
    "import gensim\n",
    "import pickle\n",
    "from datetime import datetime\n",
    "from matplotlib import pyplot as plt\n",
    "import networkx as nx\n",
    "import numpy as np\n",
    "import operator\n",
    "%matplotlib inline"
   ]
  },
  {
   "cell_type": "code",
   "execution_count": 12,
   "metadata": {
    "collapsed": true
   },
   "outputs": [],
   "source": [
    "# load data\n",
    "data_folder = '../data/csv_export/'\n",
    "util_folder = '../util/'\n",
    "df_funding_rounds = pd.read_csv(data_folder + 'funding_rounds.csv')\n",
    "df_funds = pd.read_csv(data_folder + 'funds.csv')\n",
    "df_investors = pd.read_csv(data_folder + 'investors.csv')\n",
    "df_investments = pd.read_csv(data_folder + 'investments.csv')"
   ]
  },
  {
   "cell_type": "code",
   "execution_count": 13,
   "metadata": {},
   "outputs": [
    {
     "data": {
      "text/html": [
       "<div>\n",
       "<style>\n",
       "    .dataframe thead tr:only-child th {\n",
       "        text-align: right;\n",
       "    }\n",
       "\n",
       "    .dataframe thead th {\n",
       "        text-align: left;\n",
       "    }\n",
       "\n",
       "    .dataframe tbody tr th {\n",
       "        vertical-align: top;\n",
       "    }\n",
       "</style>\n",
       "<table border=\"1\" class=\"dataframe\">\n",
       "  <thead>\n",
       "    <tr style=\"text-align: right;\">\n",
       "      <th></th>\n",
       "      <th>company_uuid</th>\n",
       "      <th>funding_round_uuid</th>\n",
       "    </tr>\n",
       "  </thead>\n",
       "  <tbody>\n",
       "    <tr>\n",
       "      <th>0</th>\n",
       "      <td>4f503d57-bf03-4010-6fcc-036fab95b39c</td>\n",
       "      <td>d17ab961-d739-410e-e904-4cb78057cbe1</td>\n",
       "    </tr>\n",
       "    <tr>\n",
       "      <th>1</th>\n",
       "      <td>bb971d77-d7b8-a3c3-6925-c418077e5d3c</td>\n",
       "      <td>828b3a89-451e-cd0a-6d57-e31dd6a46124</td>\n",
       "    </tr>\n",
       "    <tr>\n",
       "      <th>2</th>\n",
       "      <td>0d4c4d64-7545-1a9b-b176-8cc2436abc50</td>\n",
       "      <td>5d2d7a43-d310-d880-6da1-49b9189ce36a</td>\n",
       "    </tr>\n",
       "    <tr>\n",
       "      <th>3</th>\n",
       "      <td>60a1f884-4b10-c925-4b43-04bd1aa3d98f</td>\n",
       "      <td>46d479cb-4867-33ed-2cb7-df679f9ec50d</td>\n",
       "    </tr>\n",
       "    <tr>\n",
       "      <th>4</th>\n",
       "      <td>289bddd6-ffc3-7fc5-7266-ba067d980288</td>\n",
       "      <td>350c268e-1878-15de-f221-9fd45548d4f7</td>\n",
       "    </tr>\n",
       "  </tbody>\n",
       "</table>\n",
       "</div>"
      ],
      "text/plain": [
       "                           company_uuid                    funding_round_uuid\n",
       "0  4f503d57-bf03-4010-6fcc-036fab95b39c  d17ab961-d739-410e-e904-4cb78057cbe1\n",
       "1  bb971d77-d7b8-a3c3-6925-c418077e5d3c  828b3a89-451e-cd0a-6d57-e31dd6a46124\n",
       "2  0d4c4d64-7545-1a9b-b176-8cc2436abc50  5d2d7a43-d310-d880-6da1-49b9189ce36a\n",
       "3  60a1f884-4b10-c925-4b43-04bd1aa3d98f  46d479cb-4867-33ed-2cb7-df679f9ec50d\n",
       "4  289bddd6-ffc3-7fc5-7266-ba067d980288  350c268e-1878-15de-f221-9fd45548d4f7"
      ]
     },
     "execution_count": 13,
     "metadata": {},
     "output_type": "execute_result"
    }
   ],
   "source": [
    "df_funding_rounds = df_funding_rounds[['company_uuid', 'funding_round_uuid']]\n",
    "df_funding_rounds.head()"
   ]
  },
  {
   "cell_type": "code",
   "execution_count": 14,
   "metadata": {},
   "outputs": [
    {
     "data": {
      "text/html": [
       "<div>\n",
       "<style>\n",
       "    .dataframe thead tr:only-child th {\n",
       "        text-align: right;\n",
       "    }\n",
       "\n",
       "    .dataframe thead th {\n",
       "        text-align: left;\n",
       "    }\n",
       "\n",
       "    .dataframe tbody tr th {\n",
       "        vertical-align: top;\n",
       "    }\n",
       "</style>\n",
       "<table border=\"1\" class=\"dataframe\">\n",
       "  <thead>\n",
       "    <tr style=\"text-align: right;\">\n",
       "      <th></th>\n",
       "      <th>funding_round_uuid</th>\n",
       "      <th>investor_uuid</th>\n",
       "    </tr>\n",
       "  </thead>\n",
       "  <tbody>\n",
       "    <tr>\n",
       "      <th>0</th>\n",
       "      <td>0001cbd1-f7e2-4a56-607c-c57f46cc7dcb</td>\n",
       "      <td>3213cd7d-06e0-3ecb-3359-29aa8deddfa6</td>\n",
       "    </tr>\n",
       "    <tr>\n",
       "      <th>1</th>\n",
       "      <td>0001cbd1-f7e2-4a56-607c-c57f46cc7dcb</td>\n",
       "      <td>76c506a0-a56e-2f7b-9c15-2c4740ca51e1</td>\n",
       "    </tr>\n",
       "    <tr>\n",
       "      <th>2</th>\n",
       "      <td>0001cbd1-f7e2-4a56-607c-c57f46cc7dcb</td>\n",
       "      <td>960ce830-967e-79c4-e98a-b402d7db9748</td>\n",
       "    </tr>\n",
       "    <tr>\n",
       "      <th>3</th>\n",
       "      <td>00027faf-5c46-d1a5-0aa6-7649b3218166</td>\n",
       "      <td>e7e5a267-ce84-b580-ccbf-40a17099d2aa</td>\n",
       "    </tr>\n",
       "    <tr>\n",
       "      <th>4</th>\n",
       "      <td>0003c42b-498e-cd53-aec6-53461d667c79</td>\n",
       "      <td>39041e62-6b24-ae8d-1347-4cea947e832c</td>\n",
       "    </tr>\n",
       "  </tbody>\n",
       "</table>\n",
       "</div>"
      ],
      "text/plain": [
       "                     funding_round_uuid                         investor_uuid\n",
       "0  0001cbd1-f7e2-4a56-607c-c57f46cc7dcb  3213cd7d-06e0-3ecb-3359-29aa8deddfa6\n",
       "1  0001cbd1-f7e2-4a56-607c-c57f46cc7dcb  76c506a0-a56e-2f7b-9c15-2c4740ca51e1\n",
       "2  0001cbd1-f7e2-4a56-607c-c57f46cc7dcb  960ce830-967e-79c4-e98a-b402d7db9748\n",
       "3  00027faf-5c46-d1a5-0aa6-7649b3218166  e7e5a267-ce84-b580-ccbf-40a17099d2aa\n",
       "4  0003c42b-498e-cd53-aec6-53461d667c79  39041e62-6b24-ae8d-1347-4cea947e832c"
      ]
     },
     "execution_count": 14,
     "metadata": {},
     "output_type": "execute_result"
    }
   ],
   "source": [
    "df_investments = df_investments[['funding_round_uuid', 'investor_uuid']]\n",
    "df_investments.head()"
   ]
  },
  {
   "cell_type": "code",
   "execution_count": 15,
   "metadata": {
    "collapsed": true
   },
   "outputs": [],
   "source": [
    "df = df_funding_rounds.merge(df_investments, on = 'funding_round_uuid')"
   ]
  },
  {
   "cell_type": "code",
   "execution_count": 16,
   "metadata": {
    "collapsed": true
   },
   "outputs": [],
   "source": [
    "groups = df.groupby('funding_round_uuid')['investor_uuid'].apply(list)"
   ]
  },
  {
   "cell_type": "code",
   "execution_count": 17,
   "metadata": {
    "collapsed": true
   },
   "outputs": [],
   "source": [
    "g = nx.Graph()\n",
    "# groups = df_investments.groupby('funding_round_uuid')['investor_uuid'].apply(list)"
   ]
  },
  {
   "cell_type": "code",
   "execution_count": 20,
   "metadata": {
    "collapsed": true
   },
   "outputs": [],
   "source": [
    "# 같은 회사에 투자를 한 경우, 두 투자 회사 사이에 링크를 준다\n",
    "g = nx.Graph()\n",
    "for index, investors in enumerate(groups.values):\n",
    "    for investor1 in investors:\n",
    "        for investor2 in investors:\n",
    "            if type(investor1) != str or type(investor2) != str:\n",
    "                continue\n",
    "            if investor1 != investor2:\n",
    "                weight = 1\n",
    "                if investor1 in g:\n",
    "                    if investor2 in g[investor1]:\n",
    "                        weight = g[investor1][investor2]['weight'] + 1\n",
    "                g.add_edge(investor1, investor2, weight = weight)\n",
    "with open(util_folder + 'investor_weight_network.pickle', 'w') as f:\n",
    "    pickle.dump(g, f)"
   ]
  },
  {
   "cell_type": "code",
   "execution_count": null,
   "metadata": {},
   "outputs": [
    {
     "name": "stdout",
     "output_type": "stream",
     "text": [
      "calculating centrality\n"
     ]
    }
   ],
   "source": [
    "g = pickle.load(open(util_folder + 'investor_weight_network.pickle'))\n",
    "# for n1,n2,attr in g.edges(data=True):\n",
    "#     print n1,n2,attr\n",
    "\n",
    "# reverse weights\n",
    "for edge in g.edges():\n",
    "    n0 = edge[0]\n",
    "    n1 = edge[1]\n",
    "    weight = 1 / float(g[n0][n1]['weight'])\n",
    "    g.add_edge(n0, n1, weight = weight)\n",
    "\n",
    "print 'calculating centrality'\n",
    "central = nx.betweenness_centrality(g, weight = 'weight')\n",
    "central = sorted(central.items(), key=operator.itemgetter(1))\n",
    "central.reverse()\n",
    "f = open(util_folder + 'investor_centrality_between_one_over_k.pickle', 'w')\n",
    "pickle.dump(central, f)\n",
    "f.close()"
   ]
  },
  {
   "cell_type": "code",
   "execution_count": null,
   "metadata": {
    "collapsed": true
   },
   "outputs": [],
   "source": [
    "central = pickle.load(open(util_folder + 'investor_centrality_between_one_over_k.pickle'))\n",
    "top20 = [uuid for uuid, value in central[:10]]\n",
    "for i, uuid in enumerate(top20):\n",
    "    print df_investors[df_investors['uuid'] == (uuid)]['investor_name'], central[i][1]"
   ]
  },
  {
   "cell_type": "code",
   "execution_count": null,
   "metadata": {
    "collapsed": true
   },
   "outputs": [],
   "source": [
    "g = pickle.load(open(util_folder + 'investor_weight_network.pickle'))\n",
    "# for n1,n2,attr in g.edges(data=True):\n",
    "#     print n1,n2,attr\n",
    "\n",
    "# reverse weights\n",
    "for edge in g.edges():\n",
    "    n0 = edge[0]\n",
    "    n1 = edge[1]\n",
    "    weight = 1 / np.sqrt(float(g[n0][n1]['weight']))\n",
    "    g.add_edge(n0, n1, weight = weight)\n",
    "\n",
    "print 'calculating centrality'\n",
    "central = nx.betweenness_centrality(g, weight = 'weight')\n",
    "central = sorted(central.items(), key=operator.itemgetter(1))\n",
    "central.reverse()\n",
    "f = open(util_folder + 'investor_centrality_between_one_over_sqrt_k.pickle', 'w')\n",
    "pickle.dump(central, f)\n",
    "f.close()"
   ]
  },
  {
   "cell_type": "code",
   "execution_count": null,
   "metadata": {
    "collapsed": true
   },
   "outputs": [],
   "source": [
    "central = pickle.load(open(util_folder + 'investor_centrality_between_one_over_sqrt_k.pickle'))\n",
    "top20 = [uuid for uuid, value in central[:10]]\n",
    "for i, uuid in enumerate(top20):\n",
    "    print df_investors[df_investors['uuid'] == (uuid)]['investor_name'], central[i][1]"
   ]
  },
  {
   "cell_type": "code",
   "execution_count": null,
   "metadata": {
    "collapsed": true
   },
   "outputs": [],
   "source": []
  },
  {
   "cell_type": "code",
   "execution_count": 18,
   "metadata": {
    "collapsed": true
   },
   "outputs": [],
   "source": [
    "central = pickle.load(open(util_folder + 'investor_centrality_degree.pickle'))\n",
    "top20 = [uuid for uuid, value in central[:10]]"
   ]
  },
  {
   "cell_type": "code",
   "execution_count": 19,
   "metadata": {},
   "outputs": [
    {
     "name": "stdout",
     "output_type": "stream",
     "text": [
      "0    500 Startups\n",
      "Name: investor_name, dtype: object 0.0645051194539\n",
      "3    New Enterprise Associates\n",
      "Name: investor_name, dtype: object 0.0460750853242\n",
      "12    SV Angel\n",
      "Name: investor_name, dtype: object 0.0447886584405\n",
      "4    Intel Capital\n",
      "Name: investor_name, dtype: object 0.0431346810186\n",
      "2    Y Combinator\n",
      "Name: investor_name, dtype: object 0.0369650826989\n",
      "5    Accel Partners\n",
      "Name: investor_name, dtype: object 0.035914938304\n",
      "7    Kleiner Perkins Caufield & Byers\n",
      "Name: investor_name, dtype: object 0.034287214492\n",
      "1    Sequoia Capital\n",
      "Name: investor_name, dtype: object 0.0339459175637\n",
      "32    GV\n",
      "Name: investor_name, dtype: object 0.0312943029667\n",
      "17    First Round\n",
      "Name: investor_name, dtype: object 0.0301916513521\n"
     ]
    }
   ],
   "source": [
    "central = pickle.load(open(util_folder + 'investor_centrality_degree.pickle'))\n",
    "top20 = [uuid for uuid, value in central[:10]]for i, uuid in enumerate(top20):\n",
    "    print df_investors[df_investors['uuid'] == (uuid)]['investor_name'], central[i][1]"
   ]
  },
  {
   "cell_type": "code",
   "execution_count": null,
   "metadata": {
    "collapsed": true
   },
   "outputs": [],
   "source": []
  }
 ],
 "metadata": {
  "kernelspec": {
   "display_name": "Python 2",
   "language": "python",
   "name": "python2"
  },
  "language_info": {
   "codemirror_mode": {
    "name": "ipython",
    "version": 2
   },
   "file_extension": ".py",
   "mimetype": "text/x-python",
   "name": "python",
   "nbconvert_exporter": "python",
   "pygments_lexer": "ipython2",
   "version": "2.7.10"
  }
 },
 "nbformat": 4,
 "nbformat_minor": 2
}
