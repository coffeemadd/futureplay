{
 "cells": [
  {
   "cell_type": "code",
   "execution_count": 1,
   "metadata": {
    "collapsed": true
   },
   "outputs": [],
   "source": [
    "import pandas as pd\n",
    "import re\n",
    "import gensim\n",
    "import pickle\n",
    "from datetime import datetime\n",
    "from matplotlib import pyplot as plt\n",
    "import networkx as nx\n",
    "import operator\n",
    "%matplotlib inline"
   ]
  },
  {
   "cell_type": "code",
   "execution_count": 2,
   "metadata": {
    "collapsed": true
   },
   "outputs": [],
   "source": [
    "# load data\n",
    "data_folder = '../data/csv_export/'\n",
    "util_folder = '../util/'\n",
    "df_organizations = pd.read_csv(data_folder + 'organizations.csv'.format(data_folder), dtype={'first_funding_on': str, 'last_funding_on':str})\n",
    "df_description = pd.read_csv(data_folder + 'organization_descriptions.csv')"
   ]
  },
  {
   "cell_type": "code",
   "execution_count": 4,
   "metadata": {
    "collapsed": true
   },
   "outputs": [],
   "source": [
    "# df_organizations['founded_on'] = pd.to_datetime(df_organizations['founded_on'], errors='ignore')"
   ]
  },
  {
   "cell_type": "code",
   "execution_count": 3,
   "metadata": {
    "collapsed": true
   },
   "outputs": [],
   "source": [
    "# clean string into list of word tokens\n",
    "# input: string\n",
    "# output: list of clean word tokens\n",
    "def clean(string):\n",
    "    # remove non-alphabet\n",
    "    string = re.sub(\"[^a-zA-Z]\", \" \", string)\n",
    "    # lower case\n",
    "    string = string.lower()\n",
    "    # remove word with length 1\n",
    "    string = [word for word in string.split() if len(word) > 1]    \n",
    "    return string"
   ]
  },
  {
   "cell_type": "code",
   "execution_count": 4,
   "metadata": {},
   "outputs": [
    {
     "name": "stdout",
     "output_type": "stream",
     "text": [
      "reading descriptions\n",
      "0 / 346275\n",
      "50000 / 346275\n",
      "nan\n",
      "nan\n",
      "100000 / 346275\n",
      "150000 / 346275\n",
      "200000 / 346275\n",
      "250000 / 346275\n",
      "300000 / 346275\n",
      "nan\n",
      "learning bigrams\n",
      "getting bigram sentences\n"
     ]
    },
    {
     "name": "stderr",
     "output_type": "stream",
     "text": [
      "/Users/joonheekim/Projects/futureplay/venv/lib/python2.7/site-packages/gensim/models/phrases.py:274: UserWarning: For a faster implementation, use the gensim.models.phrases.Phraser class\n",
      "  warnings.warn(\"For a faster implementation, use the gensim.models.phrases.Phraser class\")\n"
     ]
    }
   ],
   "source": [
    "# 1. create corpus (sentences)\n",
    "# 2. learn bigram from corpus\n",
    "print('reading descriptions')\n",
    "sentences = []\n",
    "for index, row in df_description.iterrows():\n",
    "    try:\n",
    "        token_list = clean(row['description'])\n",
    "    except TypeError:\n",
    "        print(row['description'])\n",
    "    sentences.append(token_list)\n",
    "    if index % 50000 == 0: print('{} / {}'.format(index, df_description.shape[0]))\n",
    "        \n",
    "print('learning bigrams')\n",
    "bigram_transformer = gensim.models.Phrases(sentences)\n",
    "print('getting bigram sentences')\n",
    "bigram_sentences = bigram_transformer[sentences]"
   ]
  },
  {
   "cell_type": "code",
   "execution_count": 16,
   "metadata": {},
   "outputs": [
    {
     "name": "stdout",
     "output_type": "stream",
     "text": [
      "creating dictionary of 346275 documents\n",
      "before: Dictionary(128515 unique tokens: [u'must_pass', u'trekkingpartners', u'majumder', u'digipath', u'capistrano_california']...)\n",
      "after: Dictionary(15275 unique tokens: [u'publicly_traded', u'yellow', u'advices', u'different_categories', u'woods']...)\n"
     ]
    }
   ],
   "source": [
    "CREATE = False\n",
    "if CREATE:\n",
    "    # create dictionary\n",
    "    print('creating dictionary of {} documents'.format(len(sentences)))\n",
    "    dictionary = gensim.corpora.dictionary.Dictionary()\n",
    "    dictionary.add_documents(bigram_sentences)\n",
    "\n",
    "    # filter extreme\n",
    "    print('before: {}'.format(dictionary))\n",
    "    dictionary.filter_extremes(no_above=0.1, no_below=10)\n",
    "    print('after: {}'.format(dictionary))\n",
    "\n",
    "    # save dictionary \n",
    "    dictionary.save(util_folder + 'dictionary')\n",
    "\n",
    "dictionary = gensim.corpora.dictionary.Dictionary.load(util_folder + 'dictionary')"
   ]
  },
  {
   "cell_type": "code",
   "execution_count": 32,
   "metadata": {},
   "outputs": [
    {
     "name": "stdout",
     "output_type": "stream",
     "text": [
      "0 346275\n",
      "10000 346275\n",
      "20000 346275\n",
      "30000 346275\n",
      "40000 346275\n",
      "50000 346275\n",
      "60000 346275\n",
      "70000 346275\n",
      "80000 346275\n",
      "90000 346275\n",
      "100000 346275\n",
      "110000 346275\n",
      "120000 346275\n",
      "130000 346275\n",
      "140000 346275\n",
      "150000 346275\n",
      "160000 346275\n",
      "170000 346275\n",
      "180000 346275\n",
      "190000 346275\n",
      "200000 346275\n",
      "210000 346275\n",
      "220000 346275\n",
      "230000 346275\n",
      "240000 346275\n",
      "250000 346275\n",
      "260000 346275\n",
      "270000 346275\n",
      "280000 346275\n",
      "290000 346275\n",
      "300000 346275\n",
      "310000 346275\n",
      "320000 346275\n",
      "330000 346275\n",
      "340000 346275\n"
     ]
    }
   ],
   "source": [
    "count = 0\n",
    "bigram_sentences_for_lda = []\n",
    "for sentence in sentences:\n",
    "    if count % 10000 == 0: print count, len(sentences)\n",
    "    bigram_sentence = bigram_transformer[sentence]\n",
    "    bigram_sentence = dictionary.doc2bow(bigram_sentence)\n",
    "    bigram_sentences_for_lda.append(bigram_sentence)\n",
    "    count += 1"
   ]
  },
  {
   "cell_type": "code",
   "execution_count": 42,
   "metadata": {},
   "outputs": [
    {
     "name": "stdout",
     "output_type": "stream",
     "text": [
      "CPU times: user 30.5 s, sys: 353 ms, total: 30.8 s\n",
      "Wall time: 31.1 s\n"
     ]
    },
    {
     "data": {
      "text/plain": [
       "[(69,\n",
       "  u'0.028*\"research\" + 0.017*\"state\" + 0.017*\"art\" + 0.014*\"patient\" + 0.013*\"organization\" + 0.012*\"owned\" + 0.011*\"clinical\" + 0.010*\"scientific\" + 0.010*\"north\" + 0.009*\"region\"'),\n",
       " (15,\n",
       "  u'0.025*\"video\" + 0.020*\"videos\" + 0.020*\"investing\" + 0.013*\"home\" + 0.013*\"led\" + 0.012*\"statistics\" + 0.012*\"source\" + 0.011*\"content\" + 0.011*\"found\" + 0.009*\"natural\"'),\n",
       " (46,\n",
       "  u'0.015*\"media\" + 0.014*\"board\" + 0.012*\"waters\" + 0.011*\"premier\" + 0.011*\"radio\" + 0.009*\"content\" + 0.009*\"gift\" + 0.009*\"adults\" + 0.009*\"medicine\" + 0.008*\"came\"'),\n",
       " (60,\n",
       "  u'0.059*\"software\" + 0.047*\"web\" + 0.027*\"mobile\" + 0.016*\"applications\" + 0.015*\"website\" + 0.011*\"design\" + 0.010*\"customers\" + 0.010*\"enterprise\" + 0.009*\"solution\" + 0.009*\"integration\"'),\n",
       " (74,\n",
       "  u'0.017*\"will\" + 0.012*\"education\" + 0.011*\"skills\" + 0.011*\"uk\" + 0.011*\"opportunity\" + 0.010*\"organic\" + 0.010*\"program\" + 0.010*\"electrical\" + 0.010*\"residents\" + 0.009*\"designed\"'),\n",
       " (72,\n",
       "  u'0.045*\"students\" + 0.036*\"school\" + 0.031*\"college\" + 0.015*\"career\" + 0.015*\"student\" + 0.014*\"programs\" + 0.013*\"education\" + 0.013*\"financial_aid\" + 0.012*\"program\" + 0.010*\"courses\"'),\n",
       " (87,\n",
       "  u'0.023*\"insurance\" + 0.013*\"happy\" + 0.011*\"needs\" + 0.011*\"continuing_education\" + 0.010*\"color\" + 0.009*\"customers\" + 0.009*\"priority\" + 0.009*\"science\" + 0.009*\"dozens\" + 0.009*\"move\"'),\n",
       " (0,\n",
       "  u'0.025*\"foundation\" + 0.016*\"forum\" + 0.016*\"sustainability\" + 0.015*\"commerce\" + 0.015*\"division\" + 0.014*\"institute\" + 0.014*\"international\" + 0.012*\"publishing\" + 0.010*\"languages\" + 0.009*\"simplify\"'),\n",
       " (50,\n",
       "  u'0.018*\"health\" + 0.014*\"medical\" + 0.013*\"fitness\" + 0.013*\"city\" + 0.012*\"best\" + 0.012*\"doctor\" + 0.011*\"look\" + 0.008*\"who\" + 0.008*\"family\" + 0.008*\"will\"'),\n",
       " (42,\n",
       "  u'0.030*\"free\" + 0.016*\"get\" + 0.014*\"no\" + 0.011*\"fun\" + 0.010*\"not\" + 0.010*\"show\" + 0.010*\"best\" + 0.010*\"go\" + 0.010*\"way\" + 0.009*\"party\"')]"
      ]
     },
     "execution_count": 42,
     "metadata": {},
     "output_type": "execute_result"
    }
   ],
   "source": [
    "%time model = gensim.models.ldamodel.LdaModel(corpus = bigram_sentences_for_lda[:10000], id2word = dictionary)\n",
    "model.show_topics()"
   ]
  },
  {
   "cell_type": "code",
   "execution_count": 43,
   "metadata": {},
   "outputs": [
    {
     "name": "stdout",
     "output_type": "stream",
     "text": [
      "CPU times: user 11min 54s, sys: 7.61 s, total: 12min 2s\n",
      "Wall time: 12min 7s\n"
     ]
    },
    {
     "data": {
      "text/plain": [
       "[(34,\n",
       "  u'0.030*\"we_re\" + 0.027*\"everyone\" + 0.022*\"great\" + 0.021*\"love\" + 0.018*\"but\" + 0.016*\"mind\" + 0.014*\"think\" + 0.013*\"getting\" + 0.013*\"do_not\" + 0.013*\"too\"'),\n",
       " (79,\n",
       "  u'0.036*\"innovation\" + 0.030*\"entrepreneurs\" + 0.021*\"growth\" + 0.016*\"ideas\" + 0.016*\"start_up\" + 0.015*\"global\" + 0.014*\"vision\" + 0.013*\"grow\" + 0.012*\"culture\" + 0.012*\"build\"'),\n",
       " (62,\n",
       "  u'0.127*\"digital\" + 0.125*\"brands\" + 0.099*\"consumers\" + 0.065*\"consumer\" + 0.034*\"premium\" + 0.024*\"award_winning\" + 0.018*\"leading\" + 0.017*\"combines\" + 0.017*\"owns\" + 0.017*\"exclusive\"'),\n",
       " (15,\n",
       "  u'0.118*\"businesses\" + 0.098*\"small\" + 0.033*\"enterprise\" + 0.023*\"large\" + 0.021*\"buyers\" + 0.018*\"microsoft\" + 0.017*\"marketplace\" + 0.015*\"accounting\" + 0.013*\"business_owners\" + 0.013*\"workflow\"'),\n",
       " (0,\n",
       "  u'0.041*\"projects\" + 0.038*\"project\" + 0.026*\"over\" + 0.023*\"has_been\" + 0.022*\"since\" + 0.020*\"first\" + 0.019*\"now\" + 0.018*\"one\" + 0.018*\"currently\" + 0.016*\"year\"'),\n",
       " (1,\n",
       "  u'0.052*\"commercial\" + 0.045*\"house\" + 0.042*\"agents\" + 0.035*\"booking\" + 0.018*\"guides\" + 0.018*\"residential\" + 0.018*\"guests\" + 0.018*\"bar\" + 0.018*\"all_types\" + 0.017*\"quick\"'),\n",
       " (56,\n",
       "  u'0.095*\"education\" + 0.094*\"learning\" + 0.036*\"practice\" + 0.035*\"educational\" + 0.033*\"human\" + 0.028*\"learn\" + 0.026*\"institute\" + 0.023*\"knowledge\" + 0.018*\"dr\" + 0.018*\"lives\"'),\n",
       " (26,\n",
       "  u'0.040*\"user\" + 0.022*\"location\" + 0.019*\"can_be\" + 0.018*\"information\" + 0.018*\"any\" + 0.017*\"users\" + 0.016*\"allows\" + 0.015*\"each\" + 0.014*\"social_network\" + 0.013*\"other\"'),\n",
       " (5,\n",
       "  u'0.105*\"marketing\" + 0.039*\"social_media\" + 0.033*\"web\" + 0.029*\"advertising\" + 0.022*\"sales\" + 0.020*\"search_engine\" + 0.020*\"clients\" + 0.019*\"agency\" + 0.017*\"brand\" + 0.017*\"strategy\"'),\n",
       " (98,\n",
       "  u'0.079*\"more_than\" + 0.042*\"office\" + 0.039*\"countries\" + 0.036*\"across\" + 0.035*\"offices\" + 0.034*\"employees\" + 0.033*\"around\" + 0.028*\"over\" + 0.026*\"globe\" + 0.022*\"ip\"')]"
      ]
     },
     "execution_count": 43,
     "metadata": {},
     "output_type": "execute_result"
    }
   ],
   "source": [
    "%time model = gensim.models.ldamodel.LdaModel(corpus = bigram_sentences_for_lda, id2word = dictionary)\n",
    "model.show_topics()"
   ]
  },
  {
   "cell_type": "code",
   "execution_count": 53,
   "metadata": {},
   "outputs": [
    {
     "name": "stdout",
     "output_type": "stream",
     "text": [
      "0 0.041*\"projects\" + 0.038*\"project\" + 0.026*\"over\" + 0.023*\"has_been\" + 0.022*\"since\" + 0.020*\"first\" + 0.019*\"now\" + 0.018*\"one\" + 0.018*\"currently\" + 0.016*\"year\"\n",
      "1 0.052*\"commercial\" + 0.045*\"house\" + 0.042*\"agents\" + 0.035*\"booking\" + 0.018*\"guides\" + 0.018*\"residential\" + 0.018*\"guests\" + 0.018*\"bar\" + 0.018*\"all_types\" + 0.017*\"quick\"\n",
      "2 0.201*\"app\" + 0.095*\"llc\" + 0.048*\"mobile_app\" + 0.046*\"developer\" + 0.042*\"apps\" + 0.041*\"has_developed\" + 0.034*\"over_million\" + 0.034*\"ios\" + 0.028*\"original\" + 0.024*\"apple\"\n",
      "3 0.097*\"tech\" + 0.048*\"natural\" + 0.026*\"player\" + 0.026*\"photography\" + 0.025*\"senior\" + 0.025*\"near\" + 0.023*\"organic\" + 0.021*\"certain\" + 0.021*\"found\" + 0.021*\"lets\"\n",
      "4 0.053*\"face\" + 0.045*\"cash\" + 0.043*\"machine\" + 0.042*\"contacts\" + 0.040*\"starting\" + 0.036*\"changes\" + 0.035*\"hub\" + 0.030*\"rapid\" + 0.025*\"machines\" + 0.024*\"manner\"\n",
      "5 0.105*\"marketing\" + 0.039*\"social_media\" + 0.033*\"web\" + 0.029*\"advertising\" + 0.022*\"sales\" + 0.020*\"search_engine\" + 0.020*\"clients\" + 0.019*\"agency\" + 0.017*\"brand\" + 0.017*\"strategy\"\n",
      "6 0.127*\"was\" + 0.051*\"first\" + 0.044*\"his\" + 0.036*\"were\" + 0.030*\"he\" + 0.029*\"twitter\" + 0.024*\"had\" + 0.022*\"channel\" + 0.017*\"january\" + 0.016*\"korean\"\n",
      "7 0.061*\"customers\" + 0.050*\"best\" + 0.049*\"quality\" + 0.033*\"offer\" + 0.019*\"high_quality\" + 0.017*\"affordable\" + 0.017*\"one\" + 0.017*\"delivery\" + 0.016*\"us\" + 0.015*\"providing\"\n",
      "8 0.104*\"music\" + 0.067*\"startups\" + 0.067*\"startup\" + 0.065*\"space\" + 0.046*\"women\" + 0.042*\"videos\" + 0.038*\"live\" + 0.028*\"artists\" + 0.026*\"her\" + 0.015*\"she\"\n",
      "9 0.182*\"inc\" + 0.049*\"headquartered\" + 0.049*\"operates\" + 0.048*\"corporation\" + 0.031*\"america\" + 0.024*\"united_states\" + 0.023*\"name\" + 0.022*\"known_as\" + 0.017*\"december\" + 0.016*\"group\"\n",
      "10 0.070*\"store\" + 0.035*\"pay\" + 0.031*\"anywhere\" + 0.027*\"pricing\" + 0.026*\"everyday\" + 0.025*\"selection\" + 0.021*\"furniture\" + 0.019*\"item\" + 0.018*\"moving\" + 0.018*\"ll\"\n",
      "11 0.071*\"voice\" + 0.051*\"next_generation\" + 0.043*\"collaborative\" + 0.038*\"user_experience\" + 0.034*\"intellectual_property\" + 0.030*\"consultancy\" + 0.029*\"fastest_growing\" + 0.028*\"rights\" + 0.024*\"freedom\" + 0.023*\"sustainability\"\n",
      "12 0.130*\"entertainment\" + 0.081*\"games\" + 0.036*\"an_independent\" + 0.033*\"multimedia\" + 0.021*\"category\" + 0.019*\"youtube\" + 0.017*\"pioneering\" + 0.016*\"platforms\" + 0.016*\"customizable\" + 0.014*\"including\"\n",
      "13 0.067*\"materials\" + 0.041*\"printing\" + 0.035*\"short\" + 0.034*\"material\" + 0.034*\"co_ltd\" + 0.028*\"february\" + 0.027*\"calls\" + 0.025*\"participants\" + 0.025*\"register\" + 0.022*\"plant\"\n",
      "14 0.101*\"data\" + 0.041*\"system\" + 0.037*\"solution\" + 0.032*\"tools\" + 0.028*\"real_time\" + 0.025*\"software\" + 0.019*\"enables\" + 0.019*\"access\" + 0.018*\"use\" + 0.017*\"using\"\n",
      "15 0.118*\"businesses\" + 0.098*\"small\" + 0.033*\"enterprise\" + 0.023*\"large\" + 0.021*\"buyers\" + 0.018*\"microsoft\" + 0.017*\"marketplace\" + 0.015*\"accounting\" + 0.013*\"business_owners\" + 0.013*\"workflow\"\n",
      "16 0.121*\"equipment\" + 0.064*\"safety\" + 0.048*\"engine\" + 0.038*\"message\" + 0.035*\"maintenance\" + 0.032*\"map\" + 0.028*\"packaging\" + 0.027*\"repair\" + 0.022*\"lighting\" + 0.022*\"button\"\n",
      "17 0.119*\"india\" + 0.072*\"bank\" + 0.059*\"portal\" + 0.043*\"city\" + 0.041*\"banking\" + 0.029*\"meeting\" + 0.023*\"indian\" + 0.023*\"banks\" + 0.019*\"orders\" + 0.018*\"less_than\"\n",
      "18 0.045*\"me\" + 0.041*\"each_other\" + 0.036*\"communicate\" + 0.035*\"mobile_devices\" + 0.032*\"check\" + 0.026*\"tips\" + 0.025*\"lets_you\" + 0.025*\"designer\" + 0.023*\"status\" + 0.023*\"trusted\"\n",
      "19 0.085*\"its_users\" + 0.073*\"email\" + 0.062*\"customer\" + 0.057*\"phone\" + 0.047*\"contact\" + 0.046*\"support\" + 0.040*\"facebook\" + 0.039*\"customer_service\" + 0.038*\"iphone\" + 0.029*\"call\"\n",
      "20 0.061*\"primarily\" + 0.040*\"display\" + 0.036*\"led\" + 0.035*\"micro\" + 0.032*\"light\" + 0.031*\"seeks\" + 0.030*\"invests\" + 0.029*\"targeting\" + 0.028*\"hospital\" + 0.027*\"incorporated\"\n",
      "21 0.033*\"ideal\" + 0.031*\"friendly\" + 0.026*\"am\" + 0.023*\"political\" + 0.022*\"cameras\" + 0.022*\"chosen\" + 0.021*\"discount\" + 0.019*\"cater\" + 0.019*\"imagine\" + 0.018*\"robot\"\n",
      "22 0.031*\"process\" + 0.025*\"manage\" + 0.025*\"time\" + 0.024*\"helps\" + 0.019*\"teams\" + 0.017*\"help\" + 0.015*\"better\" + 0.013*\"talent\" + 0.013*\"sales\" + 0.013*\"customers\"\n",
      "23 0.208*\"international\" + 0.097*\"china\" + 0.050*\"car\" + 0.031*\"singapore\" + 0.031*\"covering\" + 0.026*\"hong_kong\" + 0.019*\"dollars\" + 0.019*\"targets\" + 0.017*\"beijing\" + 0.017*\"conferences\"\n",
      "24 0.039*\"way\" + 0.036*\"easy\" + 0.032*\"make\" + 0.030*\"use\" + 0.027*\"simple\" + 0.024*\"create\" + 0.022*\"unique\" + 0.019*\"experience\" + 0.018*\"modern\" + 0.018*\"beauty\"\n",
      "25 0.032*\"stories\" + 0.028*\"times\" + 0.024*\"london\" + 0.023*\"could\" + 0.021*\"story\" + 0.021*\"truly\" + 0.018*\"sound\" + 0.018*\"behind\" + 0.016*\"good\" + 0.016*\"down\"\n",
      "26 0.040*\"user\" + 0.022*\"location\" + 0.019*\"can_be\" + 0.018*\"information\" + 0.018*\"any\" + 0.017*\"users\" + 0.016*\"allows\" + 0.015*\"each\" + 0.014*\"social_network\" + 0.013*\"other\"\n",
      "27 0.100*\"energy\" + 0.099*\"power\" + 0.096*\"public\" + 0.047*\"my\" + 0.032*\"activity\" + 0.025*\"private\" + 0.021*\"generation\" + 0.018*\"august\" + 0.017*\"acquired\" + 0.017*\"formed\"\n",
      "28 0.072*\"insurance\" + 0.043*\"owners\" + 0.039*\"personal\" + 0.037*\"plans\" + 0.033*\"family\" + 0.030*\"homes\" + 0.029*\"vehicle\" + 0.026*\"home\" + 0.021*\"cars\" + 0.021*\"vehicles\"\n",
      "29 0.243*\"design\" + 0.078*\"creative\" + 0.031*\"designers\" + 0.023*\"programming\" + 0.021*\"studio\" + 0.019*\"production\" + 0.018*\"projects\" + 0.016*\"work\" + 0.015*\"creates\" + 0.015*\"studios\"\n",
      "30 0.161*\"content\" + 0.120*\"video\" + 0.052*\"interactive\" + 0.044*\"communication\" + 0.039*\"communications\" + 0.036*\"tv\" + 0.035*\"digital\" + 0.026*\"audio\" + 0.019*\"television\" + 0.017*\"media\"\n",
      "31 0.069*\"virtual\" + 0.069*\"exchange\" + 0.061*\"science\" + 0.039*\"pharmaceutical\" + 0.029*\"specifically\" + 0.021*\"notes\" + 0.021*\"smartphones\" + 0.021*\"should_be\" + 0.020*\"released\" + 0.019*\"tablets\"\n",
      "32 0.038*\"size\" + 0.038*\"pre\" + 0.031*\"paper\" + 0.030*\"october\" + 0.024*\"hand\" + 0.022*\"completely\" + 0.020*\"former\" + 0.020*\"giving\" + 0.019*\"executive\" + 0.018*\"printed\"\n",
      "33 0.076*\"children\" + 0.038*\"according\" + 0.035*\"due\" + 0.031*\"clear\" + 0.028*\"lists\" + 0.026*\"disease\" + 0.024*\"conversion\" + 0.023*\"recovery\" + 0.022*\"corp\" + 0.021*\"views\"\n",
      "34 0.030*\"we_re\" + 0.027*\"everyone\" + 0.022*\"great\" + 0.021*\"love\" + 0.018*\"but\" + 0.016*\"mind\" + 0.014*\"think\" + 0.013*\"getting\" + 0.013*\"do_not\" + 0.013*\"too\"\n",
      "35 0.045*\"parents\" + 0.045*\"funds\" + 0.042*\"alternative\" + 0.040*\"loans\" + 0.040*\"kids\" + 0.033*\"teachers\" + 0.031*\"language\" + 0.029*\"side\" + 0.028*\"loan\" + 0.024*\"ceo\"\n",
      "36 0.079*\"book\" + 0.064*\"australia\" + 0.032*\"mining\" + 0.029*\"new_zealand\" + 0.028*\"stay\" + 0.024*\"gold\" + 0.020*\"operator\" + 0.019*\"sent\" + 0.017*\"therapeutic\" + 0.016*\"australian\"\n",
      "37 0.052*\"images\" + 0.050*\"collection\" + 0.040*\"improving\" + 0.039*\"image\" + 0.037*\"methods\" + 0.028*\"patent_pending\" + 0.026*\"computing\" + 0.025*\"conditions\" + 0.023*\"increasing\" + 0.022*\"savings\"\n",
      "38 0.144*\"medical\" + 0.072*\"patients\" + 0.052*\"treatment\" + 0.048*\"de\" + 0.040*\"patient\" + 0.034*\"record\" + 0.033*\"clinical\" + 0.026*\"hotels\" + 0.024*\"hotel\" + 0.023*\"hospitals\"\n",
      "39 0.048*\"feedback\" + 0.046*\"accounts\" + 0.043*\"account\" + 0.031*\"benefits\" + 0.024*\"applied\" + 0.023*\"detailed\" + 0.023*\"credit_card\" + 0.020*\"brain\" + 0.020*\"smaller\" + 0.017*\"patents\"\n",
      "40 0.050*\"books\" + 0.050*\"shared\" + 0.038*\"capture\" + 0.030*\"maximize\" + 0.029*\"branded\" + 0.023*\"listings\" + 0.021*\"all_sizes\" + 0.021*\"connections\" + 0.019*\"movie\" + 0.018*\"launch\"\n",
      "41 0.107*\"real_estate\" + 0.056*\"property\" + 0.044*\"properties\" + 0.035*\"association\" + 0.029*\"member\" + 0.025*\"commercial\" + 0.023*\"connects\" + 0.022*\"topics\" + 0.021*\"forum\" + 0.014*\"residential\"\n",
      "42 0.070*\"website\" + 0.057*\"news\" + 0.043*\"travel\" + 0.041*\"information\" + 0.037*\"site\" + 0.024*\"web\" + 0.023*\"websites\" + 0.023*\"was_launched\" + 0.022*\"reviews\" + 0.022*\"sites\"\n",
      "43 0.055*\"europe\" + 0.054*\"united_states\" + 0.046*\"canada\" + 0.038*\"restaurants\" + 0.037*\"lifestyle\" + 0.029*\"supply\" + 0.028*\"suppliers\" + 0.028*\"restaurant\" + 0.026*\"parts\" + 0.025*\"sells\"\n",
      "44 0.068*\"site\" + 0.046*\"sell\" + 0.044*\"search\" + 0.041*\"buy\" + 0.036*\"shop\" + 0.034*\"items\" + 0.025*\"deals\" + 0.016*\"up\" + 0.015*\"one_stop\" + 0.015*\"clothing\"\n",
      "45 0.071*\"smart\" + 0.040*\"device\" + 0.033*\"automatically\" + 0.029*\"intelligent\" + 0.029*\"into\" + 0.024*\"smartphone\" + 0.022*\"turn\" + 0.021*\"files\" + 0.019*\"touch\" + 0.018*\"sms\"\n",
      "46 0.114*\"food\" + 0.041*\"manufactures\" + 0.038*\"electronics\" + 0.024*\"distributes\" + 0.023*\"domain\" + 0.019*\"military\" + 0.019*\"air\" + 0.017*\"foreign\" + 0.016*\"subscription\" + 0.014*\"featuring\"\n",
      "47 0.053*\"trade\" + 0.052*\"oil\" + 0.040*\"operators\" + 0.036*\"boutique\" + 0.036*\"gas\" + 0.035*\"rates\" + 0.032*\"inside\" + 0.028*\"outside\" + 0.024*\"as_result\" + 0.023*\"mr\"\n",
      "48 0.049*\"focuses_on\" + 0.041*\"enable\" + 0.035*\"service_providers\" + 0.035*\"fans\" + 0.030*\"relationship\" + 0.026*\"empower\" + 0.024*\"rich\" + 0.021*\"scalable\" + 0.020*\"generate\" + 0.019*\"leverage\"\n",
      "49 0.068*\"retail\" + 0.067*\"brand\" + 0.046*\"fashion\" + 0.035*\"retailers\" + 0.034*\"stores\" + 0.031*\"purchase\" + 0.030*\"shopping\" + 0.029*\"accessories\" + 0.028*\"store\" + 0.027*\"commerce\"\n",
      "50 0.085*\"home\" + 0.065*\"find\" + 0.049*\"uk\" + 0.039*\"price\" + 0.031*\"right\" + 0.029*\"jobs\" + 0.024*\"job\" + 0.022*\"looking\" + 0.020*\"best\" + 0.019*\"help\"\n",
      "51 0.060*\"clients\" + 0.033*\"team\" + 0.028*\"experience\" + 0.022*\"industry\" + 0.019*\"needs\" + 0.017*\"expertise\" + 0.013*\"client\" + 0.012*\"professionals\" + 0.011*\"providing\" + 0.011*\"us\"\n",
      "52 0.045*\"not_only\" + 0.040*\"problems\" + 0.040*\"field\" + 0.034*\"construction\" + 0.032*\"but_also\" + 0.028*\"solve\" + 0.026*\"building\" + 0.023*\"expand\" + 0.022*\"technological\" + 0.019*\"problem\"\n",
      "53 0.175*\"media\" + 0.064*\"end\" + 0.036*\"publishing\" + 0.032*\"digital\" + 0.028*\"print\" + 0.027*\"on_demand\" + 0.021*\"distribution\" + 0.016*\"forms\" + 0.013*\"including\" + 0.013*\"tax\"\n",
      "54 0.087*\"game\" + 0.070*\"sports\" + 0.056*\"games\" + 0.044*\"play\" + 0.036*\"gaming\" + 0.030*\"players\" + 0.021*\"http\" + 0.020*\"sport\" + 0.017*\"convenience\" + 0.017*\"athletes\"\n",
      "55 0.079*\"care\" + 0.029*\"wellness\" + 0.026*\"meaningful\" + 0.026*\"response\" + 0.026*\"doctors\" + 0.025*\"host\" + 0.021*\"larger\" + 0.019*\"obtain\" + 0.018*\"per\" + 0.018*\"treatments\"\n",
      "56 0.095*\"education\" + 0.094*\"learning\" + 0.036*\"practice\" + 0.035*\"educational\" + 0.033*\"human\" + 0.028*\"learn\" + 0.026*\"institute\" + 0.023*\"knowledge\" + 0.018*\"dr\" + 0.018*\"lives\"\n",
      "57 0.151*\"systems\" + 0.083*\"security\" + 0.041*\"information\" + 0.035*\"system\" + 0.031*\"monitoring\" + 0.025*\"control\" + 0.020*\"networking\" + 0.016*\"telecommunications\" + 0.015*\"data\" + 0.013*\"service_provider\"\n",
      "58 0.067*\"connected\" + 0.066*\"investing\" + 0.037*\"camera\" + 0.031*\"languages\" + 0.030*\"road\" + 0.030*\"korea\" + 0.030*\"landscape\" + 0.028*\"saving\" + 0.025*\"securities\" + 0.024*\"world_largest\"\n",
      "59 0.084*\"users\" + 0.052*\"share\" + 0.032*\"social\" + 0.029*\"people\" + 0.029*\"friends\" + 0.025*\"connect\" + 0.023*\"them\" + 0.022*\"create\" + 0.019*\"allows\" + 0.017*\"sharing\"\n",
      "60 0.180*\"software\" + 0.073*\"web\" + 0.051*\"applications\" + 0.045*\"consulting\" + 0.042*\"develops\" + 0.036*\"technologies\" + 0.027*\"application\" + 0.023*\"apps\" + 0.020*\"developers\" + 0.020*\"enterprise\"\n",
      "61 0.086*\"day\" + 0.029*\"fresh\" + 0.023*\"st\" + 0.018*\"next\" + 0.018*\"strength\" + 0.017*\"talk\" + 0.016*\"golf\" + 0.016*\"biggest\" + 0.015*\"deployed\" + 0.015*\"compelling\"\n",
      "62 0.127*\"digital\" + 0.125*\"brands\" + 0.099*\"consumers\" + 0.065*\"consumer\" + 0.034*\"premium\" + 0.024*\"award_winning\" + 0.018*\"leading\" + 0.017*\"combines\" + 0.017*\"owns\" + 0.017*\"exclusive\"\n",
      "63 0.144*\"health\" + 0.097*\"healthcare\" + 0.037*\"center\" + 0.027*\"health_care\" + 0.027*\"improve\" + 0.026*\"care\" + 0.020*\"fitness\" + 0.019*\"positive\" + 0.019*\"information\" + 0.019*\"quality\"\n",
      "64 0.087*\"organization\" + 0.061*\"individuals\" + 0.037*\"crunchbase_com\" + 0.037*\"organizations\" + 0.032*\"post\" + 0.030*\"foundation\" + 0.029*\"non_profit\" + 0.023*\"https_www\" + 0.022*\"employers\" + 0.021*\"providers\"\n",
      "65 0.039*\"card\" + 0.031*\"israel\" + 0.031*\"radio\" + 0.030*\"combine\" + 0.029*\"organized\" + 0.027*\"war\" + 0.024*\"month\" + 0.024*\"capable\" + 0.022*\"well\" + 0.020*\"forefront\"\n",
      "66 0.037*\"exciting\" + 0.036*\"administration\" + 0.029*\"mark\" + 0.029*\"submit\" + 0.026*\"applying\" + 0.025*\"baby\" + 0.022*\"progressive\" + 0.020*\"entity\" + 0.019*\"benefit\" + 0.019*\"at_least\"\n",
      "67 0.101*\"art\" + 0.098*\"state\" + 0.050*\"american\" + 0.046*\"specializing\" + 0.043*\"testing\" + 0.037*\"point\" + 0.028*\"enables_users\" + 0.028*\"was_incorporated\" + 0.022*\"spain\" + 0.021*\"artist\"\n",
      "68 0.080*\"financial\" + 0.071*\"investment\" + 0.052*\"capital\" + 0.044*\"investors\" + 0.028*\"investments\" + 0.027*\"partners\" + 0.024*\"co\" + 0.023*\"market\" + 0.022*\"ventures\" + 0.021*\"trading\"\n",
      "69 0.039*\"water\" + 0.038*\"locations\" + 0.034*\"owned\" + 0.026*\"patented\" + 0.025*\"manufacturer\" + 0.024*\"operated\" + 0.020*\"japan\" + 0.018*\"operation\" + 0.016*\"four\" + 0.015*\"optical\"\n",
      "70 0.066*\"sector\" + 0.062*\"commerce\" + 0.061*\"assets\" + 0.038*\"small_businesses\" + 0.034*\"profit\" + 0.029*\"sectors\" + 0.027*\"asset\" + 0.026*\"seeking\" + 0.024*\"firms\" + 0.022*\"acquire\"\n",
      "71 0.065*\"product\" + 0.041*\"manufacturing\" + 0.040*\"production\" + 0.032*\"engineering\" + 0.030*\"industrial\" + 0.019*\"process\" + 0.019*\"industries\" + 0.019*\"manufacturers\" + 0.018*\"advanced\" + 0.016*\"processing\"\n",
      "72 0.035*\"net\" + 0.033*\"add\" + 0.033*\"google\" + 0.029*\"saas\" + 0.028*\"page\" + 0.025*\"text\" + 0.024*\"links\" + 0.024*\"crm\" + 0.023*\"link\" + 0.022*\"organize\"\n",
      "73 0.113*\"events\" + 0.070*\"event\" + 0.053*\"analytics\" + 0.040*\"resource\" + 0.034*\"discovery\" + 0.033*\"planning\" + 0.029*\"intelligence\" + 0.027*\"big_data\" + 0.026*\"insights\" + 0.021*\"travelers\"\n",
      "74 0.024*\"will\" + 0.018*\"what\" + 0.017*\"so\" + 0.017*\"do\" + 0.016*\"get\" + 0.015*\"time\" + 0.014*\"need\" + 0.014*\"them\" + 0.013*\"when\" + 0.013*\"not\"\n",
      "75 0.129*\"custom\" + 0.050*\"multi\" + 0.035*\"allows_users\" + 0.032*\"base\" + 0.030*\"creation\" + 0.028*\"capacity\" + 0.026*\"interaction\" + 0.026*\"broadcast\" + 0.022*\"collect\" + 0.021*\"facilitate\"\n",
      "76 0.126*\"california\" + 0.059*\"operating\" + 0.047*\"los_angeles\" + 0.042*\"government\" + 0.028*\"supply_chain\" + 0.026*\"department\" + 0.022*\"mexico\" + 0.022*\"led_by\" + 0.022*\"purpose\" + 0.018*\"french\"\n",
      "77 0.081*\"legal\" + 0.042*\"case\" + 0.039*\"law\" + 0.037*\"insight\" + 0.035*\"critical\" + 0.026*\"measure\" + 0.024*\"exclusively\" + 0.024*\"presence\" + 0.021*\"roi\" + 0.021*\"improved\"\n",
      "78 0.086*\"computer\" + 0.049*\"green\" + 0.044*\"privately_held\" + 0.044*\"wide\" + 0.023*\"leading_provider\" + 0.021*\"computers\" + 0.019*\"regulatory\" + 0.018*\"agricultural\" + 0.018*\"continuously\" + 0.017*\"handling\"\n",
      "79 0.036*\"innovation\" + 0.030*\"entrepreneurs\" + 0.021*\"growth\" + 0.016*\"ideas\" + 0.016*\"start_up\" + 0.015*\"global\" + 0.014*\"vision\" + 0.013*\"grow\" + 0.012*\"culture\" + 0.012*\"build\"\n",
      "80 0.043*\"less\" + 0.032*\"pro\" + 0.032*\"entrepreneur\" + 0.032*\"november\" + 0.029*\"mail\" + 0.024*\"enter\" + 0.023*\"expensive\" + 0.022*\"hold\" + 0.022*\"outdoor\" + 0.021*\"report\"\n",
      "81 0.082*\"direct\" + 0.049*\"san_francisco\" + 0.043*\"chinese\" + 0.042*\"asia\" + 0.036*\"goods\" + 0.029*\"april\" + 0.027*\"recommendations\" + 0.024*\"united_kingdom\" + 0.024*\"executives\" + 0.020*\"coverage\"\n",
      "82 0.402*\"com\" + 0.063*\"www\" + 0.062*\"http_www\" + 0.026*\"website\" + 0.015*\"gifts\" + 0.014*\"child\" + 0.013*\"gift\" + 0.012*\"info\" + 0.011*\"south\" + 0.011*\"florida\"\n",
      "83 0.070*\"payment\" + 0.040*\"automation\" + 0.038*\"electronic\" + 0.038*\"labs\" + 0.037*\"payments\" + 0.035*\"models\" + 0.033*\"automotive\" + 0.032*\"merchants\" + 0.028*\"box\" + 0.028*\"cards\"\n",
      "84 0.060*\"firm\" + 0.060*\"new_york\" + 0.054*\"million\" + 0.048*\"private\" + 0.029*\"venture_capital\" + 0.029*\"invest\" + 0.029*\"private_equity\" + 0.027*\"capital\" + 0.018*\"credit\" + 0.018*\"fund\"\n",
      "85 0.066*\"total\" + 0.056*\"class\" + 0.044*\"plus\" + 0.043*\"owner\" + 0.030*\"cases\" + 0.030*\"sourcing\" + 0.026*\"included\" + 0.024*\"july\" + 0.022*\"defense\" + 0.022*\"semiconductor\"\n",
      "86 0.060*\"training\" + 0.048*\"program\" + 0.038*\"professional\" + 0.035*\"programs\" + 0.020*\"career\" + 0.017*\"skills\" + 0.014*\"assistance\" + 0.012*\"professionals\" + 0.009*\"coaching\" + 0.009*\"support\"\n",
      "87 0.031*\"performance\" + 0.023*\"increase\" + 0.023*\"relationships\" + 0.021*\"value\" + 0.021*\"sustainable\" + 0.019*\"market\" + 0.018*\"high\" + 0.015*\"cost\" + 0.014*\"reduce\" + 0.014*\"efficiency\"\n",
      "88 0.025*\"help\" + 0.025*\"people\" + 0.022*\"future\" + 0.019*\"will\" + 0.016*\"work\" + 0.016*\"life\" + 0.015*\"social\" + 0.015*\"mission\" + 0.014*\"change\" + 0.012*\"impact\"\n",
      "89 0.173*\"internet\" + 0.044*\"sale\" + 0.039*\"subsidiary\" + 0.039*\"sold\" + 0.036*\"series\" + 0.035*\"server\" + 0.034*\"documents\" + 0.030*\"engaged\" + 0.024*\"stock\" + 0.024*\"history\"\n",
      "90 0.167*\"community\" + 0.118*\"local\" + 0.061*\"members\" + 0.031*\"national\" + 0.030*\"communities\" + 0.024*\"magazine\" + 0.017*\"interests\" + 0.015*\"cities\" + 0.015*\"groups\" + 0.014*\"awards\"\n",
      "91 0.083*\"research\" + 0.040*\"market\" + 0.034*\"global\" + 0.028*\"technologies\" + 0.021*\"markets\" + 0.021*\"ltd\" + 0.020*\"industry\" + 0.020*\"leading\" + 0.020*\"group\" + 0.018*\"developing\"\n"
     ]
    },
    {
     "name": "stdout",
     "output_type": "stream",
     "text": [
      "92 0.045*\"risk\" + 0.043*\"advice\" + 0.040*\"compliance\" + 0.034*\"globally\" + 0.033*\"billion\" + 0.031*\"board\" + 0.028*\"managers\" + 0.027*\"european\" + 0.023*\"germany\" + 0.022*\"consulting\"\n",
      "93 0.147*\"network\" + 0.048*\"cloud\" + 0.043*\"infrastructure\" + 0.039*\"networks\" + 0.028*\"secure\" + 0.027*\"wireless\" + 0.025*\"provider\" + 0.024*\"internet\" + 0.024*\"storage\" + 0.015*\"customers\"\n",
      "94 0.066*\"students\" + 0.042*\"university\" + 0.030*\"school\" + 0.026*\"college\" + 0.018*\"student\" + 0.014*\"education\" + 0.014*\"academic\" + 0.013*\"campus\" + 0.012*\"programs\" + 0.011*\"schools\"\n",
      "95 0.096*\"database\" + 0.079*\"mobile_application\" + 0.053*\"list\" + 0.032*\"learn_more\" + 0.031*\"recognition\" + 0.031*\"function\" + 0.030*\"result\" + 0.021*\"high_tech\" + 0.021*\"databases\" + 0.020*\"clinics\"\n",
      "96 0.055*\"usa\" + 0.053*\"transportation\" + 0.051*\"logistics\" + 0.044*\"ads\" + 0.037*\"campaign\" + 0.036*\"ad\" + 0.032*\"segment\" + 0.031*\"builds\" + 0.029*\"contract\" + 0.028*\"third_party\"\n",
      "97 0.315*\"mobile\" + 0.107*\"applications\" + 0.051*\"limited\" + 0.035*\"platforms\" + 0.032*\"android\" + 0.031*\"devices\" + 0.022*\"manages\" + 0.020*\"central\" + 0.019*\"speed\" + 0.012*\"tablet\"\n",
      "98 0.079*\"more_than\" + 0.042*\"office\" + 0.039*\"countries\" + 0.036*\"across\" + 0.035*\"offices\" + 0.034*\"employees\" + 0.033*\"around\" + 0.028*\"over\" + 0.026*\"globe\" + 0.022*\"ip\"\n",
      "99 0.034*\"cancer\" + 0.029*\"pet\" + 0.028*\"fee\" + 0.024*\"collections\" + 0.024*\"bill\" + 0.020*\"against\" + 0.019*\"pets\" + 0.017*\"coding\" + 0.017*\"licenses\" + 0.017*\"end_user\"\n"
     ]
    }
   ],
   "source": [
    "for i in range(100):\n",
    "    print i, model.print_topic(i)"
   ]
  },
  {
   "cell_type": "code",
   "execution_count": 55,
   "metadata": {},
   "outputs": [
    {
     "name": "stdout",
     "output_type": "stream",
     "text": [
      "CPU times: user 11min 50s, sys: 7.31 s, total: 11min 57s\n",
      "Wall time: 11min 59s\n"
     ]
    },
    {
     "data": {
      "text/plain": [
       "[(44,\n",
       "  u'0.056*\"family\" + 0.054*\"children\" + 0.034*\"safe\" + 0.030*\"series\" + 0.029*\"kids\" + 0.026*\"patented\" + 0.025*\"television\" + 0.021*\"produces\" + 0.017*\"shows\" + 0.016*\"less_than\"'),\n",
       " (37,\n",
       "  u'0.085*\"provider\" + 0.065*\"llc\" + 0.043*\"secure\" + 0.041*\"managed\" + 0.031*\"address\" + 0.028*\"risk\" + 0.028*\"serves\" + 0.027*\"service_providers\" + 0.026*\"telecommunications\" + 0.023*\"outsourcing\"'),\n",
       " (60,\n",
       "  u'0.066*\"clients\" + 0.050*\"team\" + 0.043*\"experience\" + 0.023*\"industry\" + 0.017*\"expertise\" + 0.016*\"client\" + 0.016*\"us\" + 0.015*\"design\" + 0.014*\"work\" + 0.014*\"help\"'),\n",
       " (65,\n",
       "  u'0.075*\"planning\" + 0.061*\"employees\" + 0.057*\"plan\" + 0.048*\"plans\" + 0.036*\"print\" + 0.034*\"campaigns\" + 0.030*\"project_management\" + 0.030*\"methods\" + 0.024*\"does\" + 0.024*\"execution\"'),\n",
       " (33,\n",
       "  u'0.157*\"web\" + 0.072*\"social_media\" + 0.059*\"marketing\" + 0.053*\"advertising\" + 0.040*\"design\" + 0.036*\"search_engine\" + 0.028*\"seo\" + 0.026*\"optimization\" + 0.023*\"clients\" + 0.018*\"digital_marketing\"'),\n",
       " (71,\n",
       "  u'0.114*\"tools\" + 0.077*\"analytics\" + 0.037*\"reporting\" + 0.034*\"managers\" + 0.030*\"models\" + 0.028*\"generate\" + 0.024*\"api\" + 0.023*\"intelligence\" + 0.022*\"nationwide\" + 0.022*\"business_intelligence\"'),\n",
       " (62,\n",
       "  u'0.047*\"twitter\" + 0.032*\"send\" + 0.032*\"follow\" + 0.029*\"friends\" + 0.028*\"card\" + 0.028*\"messages\" + 0.028*\"save\" + 0.026*\"tasks\" + 0.023*\"step\" + 0.022*\"apparel\"'),\n",
       " (86,\n",
       "  u'0.066*\"united_states\" + 0.054*\"europe\" + 0.039*\"headquartered\" + 0.036*\"industries\" + 0.033*\"asia\" + 0.027*\"fitness\" + 0.025*\"ranging_from\" + 0.021*\"internationally\" + 0.020*\"pc\" + 0.020*\"as_well\"'),\n",
       " (77,\n",
       "  u'0.061*\"track\" + 0.040*\"desktop\" + 0.034*\"touch\" + 0.033*\"automatically\" + 0.030*\"play\" + 0.028*\"service_provider\" + 0.026*\"identity\" + 0.026*\"clean\" + 0.026*\"patent_pending\" + 0.020*\"recovery\"'),\n",
       " (40,\n",
       "  u'0.052*\"de\" + 0.045*\"blog\" + 0.041*\"books\" + 0.038*\"parents\" + 0.035*\"her\" + 0.032*\"articles\" + 0.032*\"reviews\" + 0.031*\"links\" + 0.028*\"instantly\" + 0.028*\"publish\"')]"
      ]
     },
     "execution_count": 55,
     "metadata": {},
     "output_type": "execute_result"
    }
   ],
   "source": [
    "%time model_500 = gensim.models.ldamodel.LdaModel(corpus = bigram_sentences_for_lda, id2word = dictionary, iterations = 500)\n",
    "model_500.show_topics()\n",
    "model.save(util_folder + 'topic_500')"
   ]
  },
  {
   "cell_type": "code",
   "execution_count": null,
   "metadata": {
    "collapsed": true
   },
   "outputs": [],
   "source": [
    "# 2000년 이전 이후\n"
   ]
  }
 ],
 "metadata": {
  "kernelspec": {
   "display_name": "Python 2",
   "language": "python",
   "name": "python2"
  },
  "language_info": {
   "codemirror_mode": {
    "name": "ipython",
    "version": 2
   },
   "file_extension": ".py",
   "mimetype": "text/x-python",
   "name": "python",
   "nbconvert_exporter": "python",
   "pygments_lexer": "ipython2",
   "version": "2.7.10"
  }
 },
 "nbformat": 4,
 "nbformat_minor": 2
}
