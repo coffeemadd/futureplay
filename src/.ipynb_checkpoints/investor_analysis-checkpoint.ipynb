{
 "cells": [
  {
   "cell_type": "code",
   "execution_count": 147,
   "metadata": {},
   "outputs": [
    {
     "data": {
      "text/plain": [
       "'\\n\\xed\\x88\\xac\\xec\\x9e\\x90\\xec\\x9e\\x90 \\xeb\\xb6\\x84\\xec\\x84\\x9d\\n1. \\xec\\xb4\\x88\\xea\\xb8\\xb0 \\xed\\x88\\xac\\xec\\x9e\\x90\\xeb\\xa5\\xbc \\xec\\x9e\\x98 \\xed\\x95\\x98\\xeb\\x8a\\x94 \\xec\\x9e\\x91\\xec\\x9d\\x80 \\xea\\xb7\\x9c\\xeb\\xaa\\xa8\\xec\\x9d\\x98 \\xed\\x88\\xac\\xec\\x9e\\x90\\xec\\x9e\\x90\\xeb\\xa5\\xbc \\xec\\xb0\\xbe\\xec\\x95\\x84\\xeb\\xb3\\xb4\\xec\\x9e\\x90\\n2. Top10, 25 \\xeb\\x93\\xa4\\xec\\x9d\\xb4\\xeb\\x9e\\x91 \\xea\\xb0\\x99\\xec\\x9d\\xb4 \\xeb\\x93\\xa4\\xec\\x96\\xb4\\xea\\xb0\\x80\\xeb\\x8a\\x94 \\xed\\x88\\xac\\xec\\x9e\\x90\\xec\\x9e\\x90\\xeb\\x93\\xa4\\xec\\x9d\\x84 \\xec\\xb0\\xbe\\xec\\x95\\x84\\xeb\\xb3\\xb4\\xec\\x9e\\x90\\n'"
      ]
     },
     "execution_count": 147,
     "metadata": {},
     "output_type": "execute_result"
    }
   ],
   "source": [
    "'''\n",
    "투자자 분석\n",
    "1. 초기 투자를 잘 하는 작은 규모의 투자자를 찾아보자\n",
    "2. Top10, 25 들이랑 같이 들어가는 투자자들을 찾아보자\n",
    "'''"
   ]
  },
  {
   "cell_type": "code",
   "execution_count": 148,
   "metadata": {
    "collapsed": true
   },
   "outputs": [],
   "source": [
    "import pandas as pd\n",
    "import re\n",
    "import gensim\n",
    "import pickle\n",
    "import numpy as np\n",
    "import operator\n",
    "from datetime import datetime\n",
    "from matplotlib import pyplot as plt\n",
    "%matplotlib inline"
   ]
  },
  {
   "cell_type": "code",
   "execution_count": 149,
   "metadata": {
    "collapsed": true
   },
   "outputs": [],
   "source": [
    "# load data\n",
    "data_folder = '../data/csv_export/'\n",
    "util_folder = '../util/'\n",
    "df_organizations = pd.read_csv(data_folder + 'organizations.csv'.format(data_folder), dtype={'first_funding_on': str, 'last_funding_on':str})\n",
    "df_description = pd.read_csv(data_folder + 'organization_descriptions.csv')\n",
    "df_funding_rounds = pd.read_csv(data_folder + 'funding_rounds.csv')\n",
    "df_funds = pd.read_csv(data_folder + 'funds.csv')\n",
    "df_investments = pd.read_csv(data_folder + 'investments.csv')\n",
    "df_acq = pd.read_csv(data_folder + 'acquisitions.csv')\n",
    "df_people = pd.read_csv(data_folder + 'people.csv')\n",
    "df_degrees = pd.read_csv(data_folder + 'degrees.csv')\n",
    "df_investors = pd.read_csv(data_folder + 'investors.csv')"
   ]
  },
  {
   "cell_type": "code",
   "execution_count": 174,
   "metadata": {},
   "outputs": [],
   "source": [
    "# 잘된 회사를 찾기\n",
    "def get_investor_scores(criteria = ['B', 'C', 'acquisition', 'ipo'], founded_after_this = '2007-01-01', asia_only = False):    \n",
    "    # get all companies founded after the time\n",
    "    df_organizations['founded_on'] = pd.to_datetime(df_organizations['founded_on'], errors='ignore')\n",
    "    companies = df_organizations[df_organizations['founded_on'] >= founded_after_this]\n",
    "    \n",
    "    # 아시아 회사에 대해서만\n",
    "    if asia_only:\n",
    "        print('before {}'.format(len(companies)))\n",
    "        asia = df_country_code[df_country_code['CC'] == 'AS']['a-3'].values\n",
    "        companies = companies[companies['country_code'].isin(asia)]\n",
    "        print('after {}'.format(len(companies)))\n",
    "    companies = companies['uuid']\n",
    "    print('There are {} companies founded after {}'.format(len(companies), founded_after_this))\n",
    "\n",
    "    # get good companies with correct funding criteria        \n",
    "    funding_criteria = []\n",
    "    if 'A' in criteria: funding_criteria.append('A')\n",
    "    if 'B' in criteria: funding_criteria.append('B')\n",
    "    if 'C' in criteria: funding_criteria.append('C')        \n",
    "    fundings = df_funding_rounds[df_funding_rounds['company_uuid'].isin(companies)]\n",
    "    good_companies_1 = fundings[fundings['funding_round_code'].isin(criteria)]['company_uuid'].values\n",
    "    good_companies_1 = list(set(good_companies_1))\n",
    "    print('{} companies with fundings {}'.format(len(good_companies_1), funding_criteria))\n",
    "    \n",
    "    # Get list of acquired companies\n",
    "    if 'acquisition' in criteria:        \n",
    "        df_acq = pd.read_csv(data_folder + 'acquisitions.csv')\n",
    "        df_acq = df_acq[df_acq['price_usd'] > 1000000]\n",
    "        df_acq = df_acq[df_acq['acquiree_uuid'].isin(companies)]\n",
    "        print('{} acquired for 1M+'.format(df_acq.shape[0], len(companies)))\n",
    "#         print('{} acquired for 1M ~ 10M'.format(df_acq[df_acq['price_usd'] < 10000000].shape[0]))\n",
    "#         print('{} acquired for 1M ~ 50M'.format(df_acq[df_acq['price_usd'] < 50000000].shape[0]))\n",
    "        good_companies_2 = df_acq['acquiree_uuid'].values\n",
    "        good_companies_2 = list(set(good_companies_2))\n",
    "    \n",
    "    # Get list of IPO companies\n",
    "    if 'ipo' in criteria:\n",
    "        df_ipos = pd.read_csv(data_folder + 'ipos.csv')\n",
    "        df_ipos = df_ipos[df_ipos['company_uuid'].isin(companies)]\n",
    "        print('{} IPOs'.format(df_ipos.shape[0]))\n",
    "        good_companies_3 = df_ipos['company_uuid'].values\n",
    "        good_companies_3 = list(set(good_companies_3))\n",
    "    \n",
    "    # combine all good companies\n",
    "    good_companies = good_companies_1\n",
    "    if 'acquisition' in criteria:\n",
    "        good_companies.extend(good_companies_2)\n",
    "    if 'acquisition' in criteria:\n",
    "        good_companies.extend(good_companies_3)\n",
    "    good_companies = list(set(good_companies))\n",
    "    print('In total, {} good companies'.format(len(good_companies)))\n",
    "    \n",
    "    # good fundings\n",
    "    all_seed = fundings[fundings['company_uuid'].isin(companies)]\n",
    "    all_seed = all_seed[all_seed['funding_round_type'] == 'seed']['funding_round_uuid']\n",
    "    all_seed = list(set(all_seed))\n",
    "\n",
    "    good_seed = fundings[fundings['company_uuid'].isin(good_companies)]\n",
    "    good_seed = good_seed[good_seed['funding_round_type'] == 'seed']['funding_round_uuid']\n",
    "    good_seed = list(set(good_seed))\n",
    "\n",
    "    print('# good companies: {} with {}\\n# good / all seed investments: {} / {}'.format(len(good_companies), criteria, len(good_seed), len(all_seed)))\n",
    "\n",
    "    # good investors\n",
    "    investor_score_good = {}\n",
    "    investor_score_all = {}\n",
    "    investor_score = {}\n",
    "    for row in df_investments.iterrows():\n",
    "        funding_round_uuid = row[1][0]\n",
    "        investor_uuid = row[1][1]\n",
    "        if funding_round_uuid in all_seed:\n",
    "            investor_score_all[investor_uuid] = investor_score_all.get(investor_uuid, 0) + 1\n",
    "        if funding_round_uuid in good_seed:\n",
    "            investor_score_good[investor_uuid] = investor_score_good.get(investor_uuid, 0) + 1\n",
    "    return investor_score_good, investor_score_all"
   ]
  },
  {
   "cell_type": "code",
   "execution_count": 178,
   "metadata": {},
   "outputs": [
    {
     "name": "stdout",
     "output_type": "stream",
     "text": [
      "before 228472\n",
      "after 28493\n",
      "There are 28493 companies founded after 2007-01-01\n",
      "1110 companies with fundings ['B', 'C']\n",
      "176 acquired for 1M+\n",
      "141 IPOs\n",
      "In total, 1386 good companies\n",
      "# good companies: 1386 with ['B', 'C', 'acquisition', 'ipo']\n",
      "# good / all seed investments: 266 / 5307\n"
     ]
    },
    {
     "ename": "KeyboardInterrupt",
     "evalue": "",
     "output_type": "error",
     "traceback": [
      "\u001b[0;31m---------------------------------------------------------------------------\u001b[0m",
      "\u001b[0;31mKeyboardInterrupt\u001b[0m                         Traceback (most recent call last)",
      "\u001b[0;32m<ipython-input-178-3847da332469>\u001b[0m in \u001b[0;36m<module>\u001b[0;34m()\u001b[0m\n\u001b[1;32m      2\u001b[0m \u001b[0mfounded_after_this\u001b[0m \u001b[0;34m=\u001b[0m \u001b[0;34m'2007-01-01'\u001b[0m\u001b[0;34m\u001b[0m\u001b[0m\n\u001b[1;32m      3\u001b[0m \u001b[0masia_only\u001b[0m \u001b[0;34m=\u001b[0m \u001b[0mTrue\u001b[0m\u001b[0;34m\u001b[0m\u001b[0m\n\u001b[0;32m----> 4\u001b[0;31m \u001b[0minvestor_score_good\u001b[0m\u001b[0;34m,\u001b[0m \u001b[0minvestor_score_all\u001b[0m \u001b[0;34m=\u001b[0m \u001b[0mget_investor_scores\u001b[0m\u001b[0;34m(\u001b[0m\u001b[0mcriteria\u001b[0m\u001b[0;34m,\u001b[0m \u001b[0mfounded_after_this\u001b[0m\u001b[0;34m,\u001b[0m \u001b[0masia_only\u001b[0m\u001b[0;34m)\u001b[0m\u001b[0;34m\u001b[0m\u001b[0m\n\u001b[0m",
      "\u001b[0;32m<ipython-input-174-0349b6324747>\u001b[0m in \u001b[0;36mget_investor_scores\u001b[0;34m(criteria, founded_after_this, asia_only)\u001b[0m\n\u001b[1;32m     69\u001b[0m     \u001b[0;32mfor\u001b[0m \u001b[0mrow\u001b[0m \u001b[0;32min\u001b[0m \u001b[0mdf_investments\u001b[0m\u001b[0;34m.\u001b[0m\u001b[0miterrows\u001b[0m\u001b[0;34m(\u001b[0m\u001b[0;34m)\u001b[0m\u001b[0;34m:\u001b[0m\u001b[0;34m\u001b[0m\u001b[0m\n\u001b[1;32m     70\u001b[0m         \u001b[0mfunding_round_uuid\u001b[0m \u001b[0;34m=\u001b[0m \u001b[0mrow\u001b[0m\u001b[0;34m[\u001b[0m\u001b[0;36m1\u001b[0m\u001b[0;34m]\u001b[0m\u001b[0;34m[\u001b[0m\u001b[0;36m0\u001b[0m\u001b[0;34m]\u001b[0m\u001b[0;34m\u001b[0m\u001b[0m\n\u001b[0;32m---> 71\u001b[0;31m         \u001b[0minvestor_uuid\u001b[0m \u001b[0;34m=\u001b[0m \u001b[0mrow\u001b[0m\u001b[0;34m[\u001b[0m\u001b[0;36m1\u001b[0m\u001b[0;34m]\u001b[0m\u001b[0;34m[\u001b[0m\u001b[0;36m1\u001b[0m\u001b[0;34m]\u001b[0m\u001b[0;34m\u001b[0m\u001b[0m\n\u001b[0m\u001b[1;32m     72\u001b[0m         \u001b[0;32mif\u001b[0m \u001b[0mfunding_round_uuid\u001b[0m \u001b[0;32min\u001b[0m \u001b[0mall_seed\u001b[0m\u001b[0;34m:\u001b[0m\u001b[0;34m\u001b[0m\u001b[0m\n\u001b[1;32m     73\u001b[0m             \u001b[0minvestor_score_all\u001b[0m\u001b[0;34m[\u001b[0m\u001b[0minvestor_uuid\u001b[0m\u001b[0;34m]\u001b[0m \u001b[0;34m=\u001b[0m \u001b[0minvestor_score_all\u001b[0m\u001b[0;34m.\u001b[0m\u001b[0mget\u001b[0m\u001b[0;34m(\u001b[0m\u001b[0minvestor_uuid\u001b[0m\u001b[0;34m,\u001b[0m \u001b[0;36m0\u001b[0m\u001b[0;34m)\u001b[0m \u001b[0;34m+\u001b[0m \u001b[0;36m1\u001b[0m\u001b[0;34m\u001b[0m\u001b[0m\n",
      "\u001b[0;32m/Users/joonheekim/Projects/futureplay/venv/lib/python2.7/site-packages/pandas/core/series.pyc\u001b[0m in \u001b[0;36m__getitem__\u001b[0;34m(self, key)\u001b[0m\n\u001b[1;32m    599\u001b[0m         \u001b[0mkey\u001b[0m \u001b[0;34m=\u001b[0m \u001b[0mcom\u001b[0m\u001b[0;34m.\u001b[0m\u001b[0m_apply_if_callable\u001b[0m\u001b[0;34m(\u001b[0m\u001b[0mkey\u001b[0m\u001b[0;34m,\u001b[0m \u001b[0mself\u001b[0m\u001b[0;34m)\u001b[0m\u001b[0;34m\u001b[0m\u001b[0m\n\u001b[1;32m    600\u001b[0m         \u001b[0;32mtry\u001b[0m\u001b[0;34m:\u001b[0m\u001b[0;34m\u001b[0m\u001b[0m\n\u001b[0;32m--> 601\u001b[0;31m             \u001b[0mresult\u001b[0m \u001b[0;34m=\u001b[0m \u001b[0mself\u001b[0m\u001b[0;34m.\u001b[0m\u001b[0mindex\u001b[0m\u001b[0;34m.\u001b[0m\u001b[0mget_value\u001b[0m\u001b[0;34m(\u001b[0m\u001b[0mself\u001b[0m\u001b[0;34m,\u001b[0m \u001b[0mkey\u001b[0m\u001b[0;34m)\u001b[0m\u001b[0;34m\u001b[0m\u001b[0m\n\u001b[0m\u001b[1;32m    602\u001b[0m \u001b[0;34m\u001b[0m\u001b[0m\n\u001b[1;32m    603\u001b[0m             \u001b[0;32mif\u001b[0m \u001b[0;32mnot\u001b[0m \u001b[0mis_scalar\u001b[0m\u001b[0;34m(\u001b[0m\u001b[0mresult\u001b[0m\u001b[0;34m)\u001b[0m\u001b[0;34m:\u001b[0m\u001b[0;34m\u001b[0m\u001b[0m\n",
      "\u001b[0;32m/Users/joonheekim/Projects/futureplay/venv/lib/python2.7/site-packages/pandas/core/indexes/base.pyc\u001b[0m in \u001b[0;36mget_value\u001b[0;34m(self, series, key)\u001b[0m\n\u001b[1;32m   2460\u001b[0m         \u001b[0;31m# if we have something that is Index-like, then\u001b[0m\u001b[0;34m\u001b[0m\u001b[0;34m\u001b[0m\u001b[0m\n\u001b[1;32m   2461\u001b[0m         \u001b[0;31m# use this, e.g. DatetimeIndex\u001b[0m\u001b[0;34m\u001b[0m\u001b[0;34m\u001b[0m\u001b[0m\n\u001b[0;32m-> 2462\u001b[0;31m         \u001b[0ms\u001b[0m \u001b[0;34m=\u001b[0m \u001b[0mgetattr\u001b[0m\u001b[0;34m(\u001b[0m\u001b[0mseries\u001b[0m\u001b[0;34m,\u001b[0m \u001b[0;34m'_values'\u001b[0m\u001b[0;34m,\u001b[0m \u001b[0mNone\u001b[0m\u001b[0;34m)\u001b[0m\u001b[0;34m\u001b[0m\u001b[0m\n\u001b[0m\u001b[1;32m   2463\u001b[0m         \u001b[0;32mif\u001b[0m \u001b[0misinstance\u001b[0m\u001b[0;34m(\u001b[0m\u001b[0ms\u001b[0m\u001b[0;34m,\u001b[0m \u001b[0mIndex\u001b[0m\u001b[0;34m)\u001b[0m \u001b[0;32mand\u001b[0m \u001b[0mis_scalar\u001b[0m\u001b[0;34m(\u001b[0m\u001b[0mkey\u001b[0m\u001b[0;34m)\u001b[0m\u001b[0;34m:\u001b[0m\u001b[0;34m\u001b[0m\u001b[0m\n\u001b[1;32m   2464\u001b[0m             \u001b[0;32mtry\u001b[0m\u001b[0;34m:\u001b[0m\u001b[0;34m\u001b[0m\u001b[0m\n",
      "\u001b[0;32m/Users/joonheekim/Projects/futureplay/venv/lib/python2.7/site-packages/pandas/core/series.pyc\u001b[0m in \u001b[0;36m_values\u001b[0;34m(self)\u001b[0m\n\u001b[1;32m    385\u001b[0m     \u001b[0;32mdef\u001b[0m \u001b[0m_values\u001b[0m\u001b[0;34m(\u001b[0m\u001b[0mself\u001b[0m\u001b[0;34m)\u001b[0m\u001b[0;34m:\u001b[0m\u001b[0;34m\u001b[0m\u001b[0m\n\u001b[1;32m    386\u001b[0m         \u001b[0;34m\"\"\" return the internal repr of this data \"\"\"\u001b[0m\u001b[0;34m\u001b[0m\u001b[0m\n\u001b[0;32m--> 387\u001b[0;31m         \u001b[0;32mreturn\u001b[0m \u001b[0mself\u001b[0m\u001b[0;34m.\u001b[0m\u001b[0m_data\u001b[0m\u001b[0;34m.\u001b[0m\u001b[0minternal_values\u001b[0m\u001b[0;34m(\u001b[0m\u001b[0;34m)\u001b[0m\u001b[0;34m\u001b[0m\u001b[0m\n\u001b[0m\u001b[1;32m    388\u001b[0m \u001b[0;34m\u001b[0m\u001b[0m\n\u001b[1;32m    389\u001b[0m     \u001b[0;32mdef\u001b[0m \u001b[0mget_values\u001b[0m\u001b[0;34m(\u001b[0m\u001b[0mself\u001b[0m\u001b[0;34m)\u001b[0m\u001b[0;34m:\u001b[0m\u001b[0;34m\u001b[0m\u001b[0m\n",
      "\u001b[0;32m/Users/joonheekim/Projects/futureplay/venv/lib/python2.7/site-packages/pandas/core/internals.pyc\u001b[0m in \u001b[0;36minternal_values\u001b[0;34m(self)\u001b[0m\n\u001b[1;32m   4219\u001b[0m         \u001b[0;32mreturn\u001b[0m \u001b[0mself\u001b[0m\u001b[0;34m.\u001b[0m\u001b[0m_block\u001b[0m\u001b[0;34m.\u001b[0m\u001b[0mexternal_values\u001b[0m\u001b[0;34m(\u001b[0m\u001b[0;34m)\u001b[0m\u001b[0;34m\u001b[0m\u001b[0m\n\u001b[1;32m   4220\u001b[0m \u001b[0;34m\u001b[0m\u001b[0m\n\u001b[0;32m-> 4221\u001b[0;31m     \u001b[0;32mdef\u001b[0m \u001b[0minternal_values\u001b[0m\u001b[0;34m(\u001b[0m\u001b[0mself\u001b[0m\u001b[0;34m)\u001b[0m\u001b[0;34m:\u001b[0m\u001b[0;34m\u001b[0m\u001b[0m\n\u001b[0m\u001b[1;32m   4222\u001b[0m         \u001b[0;32mreturn\u001b[0m \u001b[0mself\u001b[0m\u001b[0;34m.\u001b[0m\u001b[0m_block\u001b[0m\u001b[0;34m.\u001b[0m\u001b[0minternal_values\u001b[0m\u001b[0;34m(\u001b[0m\u001b[0;34m)\u001b[0m\u001b[0;34m\u001b[0m\u001b[0m\n\u001b[1;32m   4223\u001b[0m \u001b[0;34m\u001b[0m\u001b[0m\n",
      "\u001b[0;31mKeyboardInterrupt\u001b[0m: "
     ]
    }
   ],
   "source": [
    "criteria = ['B', 'C', 'acquisition', 'ipo']\n",
    "founded_after_this = '2007-01-01'\n",
    "global_investor_score_good, global_investor_score_all = get_investor_scores(criteria, founded_after_this, False)\n",
    "asia_investor_score_good, asia_investor_score_all = get_investor_scores(criteria, founded_after_this, True)"
   ]
  },
  {
   "cell_type": "code",
   "execution_count": null,
   "metadata": {
    "collapsed": true
   },
   "outputs": [],
   "source": [
    "def check(investor_score_good, investor_score_all, MIN_SEED = 10):\n",
    "    investor_score = {}\n",
    "    for investor, all_count in investor_score_all.items():\n",
    "        if all_count >= MIN_SEED:\n",
    "            investor_score[investor]= investor_score_good.get(investor, 0) / float(all_count)\n",
    "\n",
    "    investor_score = sorted(investor_score.items(), key=operator.itemgetter(1))\n",
    "    investor_score.reverse()\n",
    "    print('{} investors with minimum of {} seed investment').format(len(investor_score), MIN_SEED)\n",
    "    for investor, score in investor_score[:20]:\n",
    "        print('{:.3f}={}/{}\\t{}'.format(score, investor_score_good[investor], investor_score_all[investor], df_investors[df_investors['uuid'] == investor]['investor_name'].values[0]))"
   ]
  },
  {
   "cell_type": "code",
   "execution_count": 152,
   "metadata": {},
   "outputs": [
    {
     "name": "stdout",
     "output_type": "stream",
     "text": [
      "2267 investors with minimum of 5 seed investment\n",
      "0.875=7/8\tBeringea\n",
      "0.800=4/5\tTravis Kalanick\n",
      "0.769=10/13\tAndrew Mitchell\n",
      "0.667=4/6\tKite Ventures\n",
      "0.667=6/9\tChamath Palihapitiya\n",
      "0.667=8/12\tBullish\n",
      "0.667=4/6\tKinnevik AB\n",
      "0.625=5/8\tMHS Capital\n",
      "0.600=3/5\tThomas Madsen-Mygdal\n",
      "0.600=3/5\tMarek Fodor\n",
      "0.600=3/5\tYL Ventures\n",
      "0.600=3/5\tPayPal\n",
      "0.600=3/5\tBreakaway Innovation Group\n",
      "0.600=6/10\tSimon Murdoch\n",
      "0.600=3/5\tClaremont Creek Ventures\n",
      "0.600=3/5\tLarry Marcus\n",
      "0.600=3/5\tTraveon Rogers\n",
      "0.600=3/5\tSky\n",
      "0.600=3/5\tRay Rothrock\n",
      "0.583=7/12\tRomulus Capital\n"
     ]
    }
   ],
   "source": [
    "check(investor_score_good, investor_score_all, MIN_SEED = 5)"
   ]
  },
  {
   "cell_type": "code",
   "execution_count": 153,
   "metadata": {},
   "outputs": [
    {
     "name": "stdout",
     "output_type": "stream",
     "text": [
      "1085 investors with minimum of 10 seed investment\n",
      "0.769=10/13\tAndrew Mitchell\n",
      "0.667=8/12\tBullish\n",
      "0.600=6/10\tSimon Murdoch\n",
      "0.583=7/12\tRomulus Capital\n",
      "0.500=6/12\tAol Ventures\n",
      "0.500=5/10\tGordon Crawford\n",
      "0.500=5/10\tDaher Capital\n",
      "0.476=10/21\tAshton Kutcher\n",
      "0.467=7/15\tGrace Beauty Capital\n",
      "0.458=11/24\tIA Ventures\n",
      "0.438=7/16\tAccelerator Ventures\n",
      "0.429=6/14\tAnthemis Group\n",
      "0.419=13/31\tWebb Investment Network\n",
      "0.417=5/12\tFritz Lanman\n",
      "0.412=7/17\tChris Sacca\n",
      "0.400=4/10\tGenacast Ventures\n",
      "0.400=4/10\tbtov Partners\n",
      "0.400=6/15\tVenrock\n",
      "0.400=14/35\tRedpoint\n",
      "0.400=4/10\tHadi Partovi\n"
     ]
    }
   ],
   "source": [
    "check(investor_score_good, investor_score_all, MIN_SEED = 10)"
   ]
  },
  {
   "cell_type": "code",
   "execution_count": 154,
   "metadata": {},
   "outputs": [
    {
     "data": {
      "text/plain": [
       "(50054, 34)"
      ]
     },
     "execution_count": 154,
     "metadata": {},
     "output_type": "execute_result"
    }
   ],
   "source": [
    "# 아시아 회사에 대해서만\n",
    "asia = df_country_code[df_country_code['CC'] == 'AS']['a-3'].values\n",
    "df_organizations[df_organizations['country_code'].isin(asia)].shape\n",
    "companies = companies[companies['country_code'].isin(asia)]['uuid']\n"
   ]
  },
  {
   "cell_type": "code",
   "execution_count": 155,
   "metadata": {},
   "outputs": [
    {
     "name": "stdout",
     "output_type": "stream",
     "text": [
      "There are 28493 companies founded after 2007-01-01\n",
      "# good companies: 1110 with ['B', 'C']\n",
      "# good / all seed investments: 228 / 5307\n"
     ]
    }
   ],
   "source": [
    "# 잘된 회사를 찾기\n",
    "founded_after_this = '2007-01-01'\n",
    "df_organizations['founded_on'] = pd.to_datetime(df_organizations['founded_on'], errors='ignore')\n",
    "companies = df_organizations[df_organizations['founded_on'] >= founded_after_this]\n",
    "companies = companies[companies['country_code'].isin(asia)]['uuid']\n",
    "print('There are {} companies founded after {}'.format(len(companies), founded_after_this))\n",
    "fundings = df_funding_rounds[df_funding_rounds['company_uuid'].isin(companies)]\n",
    "\n",
    "# good companies\n",
    "good_companies = fundings[fundings['funding_round_code'].isin(criteria)]['company_uuid'].values\n",
    "good_companies = list(set(good_companies))\n",
    "\n",
    "# good fundings\n",
    "all_seed = fundings[fundings['company_uuid'].isin(companies)]\n",
    "all_seed = all_seed[all_seed['funding_round_type'] == 'seed']['funding_round_uuid']\n",
    "all_seed = list(set(all_seed))\n",
    "\n",
    "good_seed = fundings[fundings['company_uuid'].isin(good_companies)]\n",
    "good_seed = good_seed[good_seed['funding_round_type'] == 'seed']['funding_round_uuid']\n",
    "good_seed = list(set(good_seed))\n",
    "\n",
    "print('# good companies: {} with {}\\n# good / all seed investments: {} / {}'.format(len(good_companies), criteria, len(good_seed), len(all_seed)))\n",
    "\n",
    "# good investors\n",
    "investor_score_good = {}\n",
    "investor_score_all = {}\n",
    "for row in df_investments.iterrows():\n",
    "    funding_round_uuid = row[1][0]\n",
    "    investor_uuid = row[1][1]\n",
    "    if funding_round_uuid in all_seed:\n",
    "        investor_score_all[investor_uuid] = investor_score_all.get(investor_uuid, 0) + 1\n",
    "    if funding_round_uuid in good_seed:\n",
    "        investor_score_good[investor_uuid] = investor_score_good.get(investor_uuid, 0) + 1"
   ]
  },
  {
   "cell_type": "code",
   "execution_count": 156,
   "metadata": {},
   "outputs": [
    {
     "name": "stdout",
     "output_type": "stream",
     "text": [
      "443 investors with minimum of 3 seed investment\n",
      "0.667=2/3\tAccion Venture Lab\n",
      "0.667=2/3\tMirae Asset Venture Investment\n",
      "0.667=2/3\tAlex Zubillaga\n",
      "0.667=2/3\tStartup Factory\n",
      "0.500=2/4\tHummingbird Ventures\n",
      "0.500=2/4\tFounder Collective\n",
      "0.500=3/6\tFastlane Ventures\n",
      "0.500=2/4\tGenesis Partners\n",
      "0.455=5/11\tSinovation Ventures\n",
      "0.400=2/5\tRevo Capital\n",
      "0.400=2/5\tDCM Ventures\n",
      "0.400=2/5\tEilon Tirosh\n",
      "0.400=2/5\tDSG Consumer Partners\n",
      "0.333=1/3\tDSC Investment\n",
      "0.333=1/3\tJose Marin\n",
      "0.333=1/3\tKinnevik AB\n",
      "0.333=2/6\tSerguei Netessine\n",
      "0.333=1/3\tHV Holtzbrinck Ventures\n",
      "0.333=1/3\te.ventures\n",
      "0.333=1/3\tVikas Taneja\n"
     ]
    }
   ],
   "source": [
    "check(investor_score_good, investor_score_all, MIN_SEED = 3)"
   ]
  },
  {
   "cell_type": "code",
   "execution_count": 157,
   "metadata": {},
   "outputs": [
    {
     "name": "stdout",
     "output_type": "stream",
     "text": [
      "234 investors with minimum of 5 seed investment\n",
      "0.500=3/6\tFastlane Ventures\n",
      "0.455=5/11\tSinovation Ventures\n",
      "0.400=2/5\tDCM Ventures\n",
      "0.400=2/5\tRevo Capital\n",
      "0.400=2/5\tEilon Tirosh\n",
      "0.400=2/5\tDSG Consumer Partners\n",
      "0.333=2/6\tMagma Venture Partners\n",
      "0.333=2/6\tSerguei Netessine\n",
      "0.308=4/13\tMicrosoft Accelerator\n",
      "0.300=3/10\tZhenFund\n",
      "0.286=2/7\tToivo Annus\n",
      "0.286=2/7\tGREE Ventures\n",
      "0.278=5/18\tSequoia Capital\n",
      "0.273=3/11\tRebright Partners\n",
      "0.267=4/15\tSAIF Partners\n",
      "0.250=3/12\tFabrice Grinda\n",
      "0.250=2/8\tBeenos Partners\n",
      "0.250=2/8\tEntree Capital\n",
      "0.226=7/31\tIncubate Fund\n",
      "0.214=3/14\tCapstone Partners Korea\n"
     ]
    }
   ],
   "source": [
    "check(investor_score_good, investor_score_all, MIN_SEED = 5)"
   ]
  },
  {
   "cell_type": "code",
   "execution_count": 158,
   "metadata": {},
   "outputs": [
    {
     "name": "stdout",
     "output_type": "stream",
     "text": [
      "89 investors with minimum of 10 seed investment\n",
      "0.455=5/11\tSinovation Ventures\n",
      "0.308=4/13\tMicrosoft Accelerator\n",
      "0.300=3/10\tZhenFund\n",
      "0.278=5/18\tSequoia Capital\n",
      "0.273=3/11\tRebright Partners\n",
      "0.267=4/15\tSAIF Partners\n",
      "0.250=3/12\tFabrice Grinda\n",
      "0.226=7/31\tIncubate Fund\n",
      "0.214=3/14\tCapstone Partners Korea\n",
      "0.200=4/20\tAccel Partners\n",
      "0.192=5/26\tBon Angels Venture Partners\n",
      "0.182=2/11\tBinny Bansal\n",
      "0.143=2/14\tJerusalem Venture Partners (JVP)\n",
      "0.133=2/15\tGolden Gate Ventures\n",
      "0.133=2/15\tlool ventures\n",
      "0.125=6/48\tCyberAgent Ventures\n",
      "0.118=2/17\tIndia Quotient\n",
      "0.100=1/10\tMohandas Pai\n",
      "0.100=1/10\tLegend Star\n",
      "0.091=1/11\tExplore. Dream. Discover.\n"
     ]
    }
   ],
   "source": [
    "check(investor_score_good, investor_score_all, MIN_SEED = 10)"
   ]
  },
  {
   "cell_type": "code",
   "execution_count": null,
   "metadata": {
    "collapsed": true
   },
   "outputs": [],
   "source": []
  }
 ],
 "metadata": {
  "kernelspec": {
   "display_name": "Python 2",
   "language": "python",
   "name": "python2"
  },
  "language_info": {
   "codemirror_mode": {
    "name": "ipython",
    "version": 2
   },
   "file_extension": ".py",
   "mimetype": "text/x-python",
   "name": "python",
   "nbconvert_exporter": "python",
   "pygments_lexer": "ipython2",
   "version": "2.7.10"
  }
 },
 "nbformat": 4,
 "nbformat_minor": 2
}
