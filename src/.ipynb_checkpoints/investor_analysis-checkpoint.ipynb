{
 "cells": [
  {
   "cell_type": "code",
   "execution_count": 182,
   "metadata": {},
   "outputs": [
    {
     "data": {
      "text/plain": [
       "'\\n\\xed\\x88\\xac\\xec\\x9e\\x90\\xec\\x9e\\x90 \\xeb\\xb6\\x84\\xec\\x84\\x9d\\n1. \\xec\\xb4\\x88\\xea\\xb8\\xb0 \\xed\\x88\\xac\\xec\\x9e\\x90\\xeb\\xa5\\xbc \\xec\\x9e\\x98 \\xed\\x95\\x98\\xeb\\x8a\\x94 \\xec\\x9e\\x91\\xec\\x9d\\x80 \\xea\\xb7\\x9c\\xeb\\xaa\\xa8\\xec\\x9d\\x98 \\xed\\x88\\xac\\xec\\x9e\\x90\\xec\\x9e\\x90\\xeb\\xa5\\xbc \\xec\\xb0\\xbe\\xec\\x95\\x84\\xeb\\xb3\\xb4\\xec\\x9e\\x90\\n2. Top10, 25 \\xeb\\x93\\xa4\\xec\\x9d\\xb4\\xeb\\x9e\\x91 \\xea\\xb0\\x99\\xec\\x9d\\xb4 \\xeb\\x93\\xa4\\xec\\x96\\xb4\\xea\\xb0\\x80\\xeb\\x8a\\x94 \\xed\\x88\\xac\\xec\\x9e\\x90\\xec\\x9e\\x90\\xeb\\x93\\xa4\\xec\\x9d\\x84 \\xec\\xb0\\xbe\\xec\\x95\\x84\\xeb\\xb3\\xb4\\xec\\x9e\\x90\\n'"
      ]
     },
     "execution_count": 182,
     "metadata": {},
     "output_type": "execute_result"
    }
   ],
   "source": [
    "'''\n",
    "투자자 분석\n",
    "1. 초기 투자를 잘 하는 작은 규모의 투자자를 찾아보자\n",
    "2. Top10, 25 들이랑 같이 들어가는 투자자들을 찾아보자\n",
    "'''"
   ]
  },
  {
   "cell_type": "code",
   "execution_count": 183,
   "metadata": {
    "collapsed": true
   },
   "outputs": [],
   "source": [
    "import pandas as pd\n",
    "import re\n",
    "import gensim\n",
    "import pickle\n",
    "import numpy as np\n",
    "import operator\n",
    "from datetime import datetime\n",
    "from matplotlib import pyplot as plt\n",
    "import networkx as nx\n",
    "from copy import copy\n",
    "%matplotlib inline"
   ]
  },
  {
   "cell_type": "code",
   "execution_count": 184,
   "metadata": {
    "collapsed": true
   },
   "outputs": [],
   "source": [
    "# load data\n",
    "data_folder = '../data/csv_export/'\n",
    "util_folder = '../util/'\n",
    "df_organizations = pd.read_csv(data_folder + 'organizations.csv'.format(data_folder), dtype={'first_funding_on': str, 'last_funding_on':str})\n",
    "df_description = pd.read_csv(data_folder + 'organization_descriptions.csv')\n",
    "df_funding_rounds = pd.read_csv(data_folder + 'funding_rounds.csv')\n",
    "df_funds = pd.read_csv(data_folder + 'funds.csv')\n",
    "df_investments = pd.read_csv(data_folder + 'investments.csv')\n",
    "df_acq = pd.read_csv(data_folder + 'acquisitions.csv')\n",
    "df_people = pd.read_csv(data_folder + 'people.csv')\n",
    "df_degrees = pd.read_csv(data_folder + 'degrees.csv')\n",
    "df_investors = pd.read_csv(data_folder + 'investors.csv')\n",
    "df_country_code = pd.read_csv(util_folder + 'country_code.csv', delimiter = '\\t')"
   ]
  },
  {
   "cell_type": "code",
   "execution_count": 242,
   "metadata": {},
   "outputs": [],
   "source": [
    "'''\n",
    "1. 초기 투자를 잘 하는 투자자를 찾아보자\n",
    "'''\n",
    "\n",
    "# 잘된 회사를 찾기\n",
    "def get_investor_scores(criteria = ['B', 'C', 'acquisition', 'ipo'], founded_after_this = '2007-01-01', asia_only = False, words = None, expand = False):    \n",
    "    if words is not None:\n",
    "        # load dataset\n",
    "        if 'word2company' not in globals():\n",
    "            print('loading word2company')\n",
    "            global word2company\n",
    "            word2company = pickle.load(open(util_folder + 'word2company.pickle'))\n",
    "        if 'model' not in globals():\n",
    "            print('loading word2vec model')\n",
    "            global model\n",
    "            model = gensim.models.word2vec.Word2Vec.load(util_folder + 'word2vec')\n",
    "\n",
    "        # expand word set if necessary\n",
    "        # train 된 word2vec 을 사용하여 관련도가 높은 단어들을 포함한다\n",
    "        final_words = []\n",
    "        if type(words) == str:\n",
    "            words = [words]\n",
    "        for word in words:\n",
    "            if ' ' in word:\n",
    "                word = word.replace(' ', '_')\n",
    "            if expand:\n",
    "                _words = model.most_similar(word)\n",
    "                _words = [str(_word) for _word, sim in _words]\n",
    "                final_words.extend(_words)\n",
    "            final_words.append(word)\n",
    "        final_words = list(set(final_words))    \n",
    "\n",
    "        # choose companies that have relevant words\n",
    "        companies = []\n",
    "        for word in final_words:\n",
    "            _companies = word2company.get(word, [])\n",
    "            companies.extend(_companies)\n",
    "        companies = list(set(companies))    \n",
    "    \n",
    "    # get all companies founded after the time\n",
    "    df_organizations['founded_on'] = pd.to_datetime(df_organizations['founded_on'], errors='ignore')\n",
    "    if words is None:\n",
    "        companies = df_organizations[df_organizations['founded_on'] >= founded_after_this]\n",
    "    else:\n",
    "        df_companies = df_organizations[df_organizations['uuid'].isin(companies)]\n",
    "        companies = df_companies[df_companies['founded_on'] >= founded_after_this]\n",
    "\n",
    "    # 아시아 회사에 대해서만\n",
    "    if asia_only:\n",
    "        print('before {}'.format(len(companies)))\n",
    "        asia = df_country_code[df_country_code['CC'] == 'AS']['a-3'].values\n",
    "        companies = companies[companies['country_code'].isin(asia)]\n",
    "        print('after {}'.format(len(companies)))\n",
    "    companies = companies['uuid']\n",
    "    print('There are {} companies founded after {}'.format(len(companies), founded_after_this))\n",
    "\n",
    "    # get good companies with correct funding criteria        \n",
    "    fundings = df_funding_rounds[df_funding_rounds['company_uuid'].isin(companies)]\n",
    "    good_companies_1 = fundings[fundings['funding_round_code'].isin(criteria)]['company_uuid'].values\n",
    "    good_companies_1 = list(set(good_companies_1))\n",
    "    print('{} companies with late stage fundings'.format(len(good_companies_1)))\n",
    "    \n",
    "    # Get list of acquired companies\n",
    "    if 'acquisition' in criteria:        \n",
    "        df_acq = pd.read_csv(data_folder + 'acquisitions.csv')\n",
    "        df_acq = df_acq[df_acq['price_usd'] > 1000000]\n",
    "        df_acq = df_acq[df_acq['acquiree_uuid'].isin(companies)]\n",
    "        print('{} acquired for 1M+'.format(df_acq.shape[0], len(companies)))\n",
    "        good_companies_2 = df_acq['acquiree_uuid'].values\n",
    "        good_companies_2 = list(set(good_companies_2))\n",
    "    \n",
    "    # Get list of IPO companies\n",
    "    if 'ipo' in criteria:\n",
    "        df_ipos = pd.read_csv(data_folder + 'ipos.csv')\n",
    "        df_ipos = df_ipos[df_ipos['company_uuid'].isin(companies)]\n",
    "        print('{} IPOs'.format(df_ipos.shape[0]))\n",
    "        good_companies_3 = df_ipos['company_uuid'].values\n",
    "        good_companies_3 = list(set(good_companies_3))\n",
    "    \n",
    "    # combine all good companies\n",
    "    good_companies = good_companies_1\n",
    "    if 'acquisition' in criteria:\n",
    "        good_companies.extend(good_companies_2)\n",
    "    if 'acquisition' in criteria:\n",
    "        good_companies.extend(good_companies_3)\n",
    "    good_companies = list(set(good_companies))\n",
    "    print('In total, {} good companies'.format(len(good_companies)))\n",
    "    \n",
    "#     print fundings.head()\n",
    "    # earyl fundings\n",
    "#     print fundings[fundings['funding_round_type'] == 'seed'].head()\n",
    "    early_funding = pd.concat([fundings[fundings['funding_round_type'] == 'seed'],\n",
    "                              fundings[fundings['funding_round_code'] == 'A']], axis = 0).reset_index()\n",
    "\n",
    "    # good fundings\n",
    "    all_seed = early_funding[early_funding['company_uuid'].isin(companies)]['funding_round_uuid'].values\n",
    "#     all_seed = all_seed[all_seed['funding_round_type'] == 'seed']['funding_round_uuid']\n",
    "    all_seed = list(set(all_seed))\n",
    "\n",
    "    good_seed = early_funding[early_funding['company_uuid'].isin(good_companies)]['funding_round_uuid'].values\n",
    "#     good_seed1 = good_seed[good_seed['funding_round_type'] == 'seed']['funding_round_uuid']\n",
    "#     good_seed1 = list(set(good_seed1))\n",
    "#     good_seed2 = good_seed[good_seed['funding_round_code'] == 'A']['funding_round_uuid']\n",
    "#     good_seed2 = list(set(good_seed2))\n",
    "#     good_seed1.extend(good_seed2)\n",
    "    good_seed = list(set(good_seed))\n",
    "\n",
    "    print('# good companies: {} with {}\\n# good / all early investments: {} / {}'.format(len(good_companies), criteria, len(good_seed), len(all_seed)))\n",
    "\n",
    "    # good investors\n",
    "    investor_score_good = {}\n",
    "    investor_score_all = {}\n",
    "    investor_score = {}\n",
    "\n",
    "    good_investment_count = df_investments[df_investments['funding_round_uuid'].isin(good_seed)].groupby('investor_uuid')['funding_round_uuid'].count()\n",
    "    all_investment_count = df_investments[df_investments['funding_round_uuid'].isin(all_seed)].groupby('investor_uuid')['funding_round_uuid'].count()\n",
    "    return good_investment_count.to_dict(), all_investment_count.to_dict()"
   ]
  },
  {
   "cell_type": "code",
   "execution_count": 243,
   "metadata": {},
   "outputs": [],
   "source": [
    "'''\n",
    "초기 투자 잘 하는 투자자들 중 어떤 규모의 투자자들을 보고 싶은가?\n",
    "'''\n",
    "    \n",
    "def check(investor_score_good, investor_score_all, MIN_SEED = 10):\n",
    "    investor_score = {}\n",
    "    for investor, all_count in investor_score_all.items():\n",
    "        if all_count >= MIN_SEED:\n",
    "            investor_score[investor]= investor_score_good.get(investor, 0) / float(all_count)\n",
    "\n",
    "    investor_score = sorted(investor_score.items(), key=operator.itemgetter(1))\n",
    "    investor_score.reverse()\n",
    "    print('{} investors with minimum of {} seed investment').format(len(investor_score), MIN_SEED)\n",
    "    for investor, score in investor_score[:20]:\n",
    "        try:\n",
    "            print('{:.3f}={}/{}\\t{}'.format(score, investor_score_good[investor], investor_score_all[investor], df_investors[df_investors['uuid'] == investor]['investor_name'].values[0]))\n",
    "        except Exception as e:\n",
    "            print('no investor name')"
   ]
  },
  {
   "cell_type": "code",
   "execution_count": 244,
   "metadata": {},
   "outputs": [
    {
     "name": "stdout",
     "output_type": "stream",
     "text": [
      "There are 228472 companies founded after 2007-01-01\n",
      "5628 companies with late stage fundings\n",
      "1301 acquired for 1M+\n",
      "1423 IPOs\n",
      "In total, 7867 good companies\n",
      "# good companies: 7867 with ['B', 'C', 'D', 'E', 'F', 'acquisition', 'ipo']\n",
      "# good / all early investments: 7519 / 57263\n",
      "before 228472\n",
      "after 28493\n",
      "There are 28493 companies founded after 2007-01-01\n",
      "1127 companies with late stage fundings\n",
      "176 acquired for 1M+\n",
      "141 IPOs\n",
      "In total, 1402 good companies\n",
      "# good companies: 1402 with ['B', 'C', 'D', 'E', 'F', 'acquisition', 'ipo']\n",
      "# good / all early investments: 1182 / 7756\n"
     ]
    }
   ],
   "source": [
    "criteria = ['B', 'C', 'D', 'E', 'F', 'acquisition', 'ipo']\n",
    "founded_after_this = '2007-01-01'\n",
    "global_investor_score_good, global_investor_score_all = get_investor_scores(criteria, founded_after_this, False)\n",
    "asia_investor_score_good, asia_investor_score_all = get_investor_scores(criteria, founded_after_this, True)"
   ]
  },
  {
   "cell_type": "code",
   "execution_count": 245,
   "metadata": {},
   "outputs": [
    {
     "name": "stdout",
     "output_type": "stream",
     "text": [
      "3372 investors with minimum of 5 seed investment\n",
      "1.000=6/6\tHighway 12 Ventures\n",
      "1.000=5/5\tDustin Moskovitz\n",
      "1.000=5/5\tBill Gates\n",
      "1.000=6/6\tUTEC- University of Tokyo Edge Capital\n",
      "1.000=5/5\tBill Campbell\n",
      "1.000=7/7\tVision Ridge Capital Partners\n",
      "1.000=10/10\tWindcrest Partners\n",
      "1.000=7/7\tChrysalix Venture Capital\n",
      "1.000=5/5\tAngus Davis\n",
      "0.933=14/15\tAdvanced Technology Ventures\n",
      "0.909=20/22\tSigma Partners\n",
      "0.870=20/23\tFlagship Pioneering\n",
      "0.857=6/7\tK2VC\n",
      "0.857=6/7\tLead Edge Capital\n",
      "0.846=11/13\tKite Ventures\n",
      "0.833=5/6\tSpring Ventures\n",
      "0.833=5/6\tArboretum Ventures\n",
      "0.833=5/6\tBlackstone\n",
      "0.833=5/6\tIntersouth Partners\n",
      "0.833=5/6\tChrysalis Ventures\n"
     ]
    }
   ],
   "source": [
    "# global 투자자, 최소 5개의 seed 투자\n",
    "check(global_investor_score_good, global_investor_score_all, MIN_SEED = 5)"
   ]
  },
  {
   "cell_type": "code",
   "execution_count": 246,
   "metadata": {},
   "outputs": [
    {
     "name": "stdout",
     "output_type": "stream",
     "text": [
      "1717 investors with minimum of 10 seed investment\n",
      "1.000=10/10\tWindcrest Partners\n",
      "0.933=14/15\tAdvanced Technology Ventures\n",
      "0.909=20/22\tSigma Partners\n",
      "0.870=20/23\tFlagship Pioneering\n",
      "0.846=11/13\tKite Ventures\n",
      "0.818=9/11\tCedar Fund\n",
      "0.800=12/15\tGemini Israel Ventures\n",
      "0.800=8/10\tNew Leaf Venture Partners\n",
      "0.789=15/19\tAndrew Mitchell\n",
      "0.769=30/39\t83North\n",
      "0.750=9/12\tMentorTech Ventures\n",
      "0.746=44/59\tBenchmark\n",
      "0.739=17/23\tMorgenthaler Ventures\n",
      "0.733=11/15\tJeremy Stoppelman\n",
      "0.727=8/11\tKinnevik AB\n",
      "0.722=13/18\tGenacast Ventures\n",
      "0.714=25/35\tThird Rock Ventures\n",
      "0.702=33/47\tNorth Bridge Venture Partners & Growth Equity\n",
      "0.700=7/10\tAllegis Capital\n",
      "0.700=7/10\tGlobespan Capital Partners\n"
     ]
    }
   ],
   "source": [
    "# global 투자자, 최소 10개의 seed 투자\n",
    "check(global_investor_score_good, global_investor_score_all, MIN_SEED = 10)"
   ]
  },
  {
   "cell_type": "code",
   "execution_count": 247,
   "metadata": {},
   "outputs": [
    {
     "name": "stdout",
     "output_type": "stream",
     "text": [
      "267 investors with minimum of 50 seed investment\n",
      "0.746=44/59\tBenchmark\n",
      "0.639=39/61\tIA Ventures\n",
      "0.610=89/146\tKleiner Perkins Caufield & Byers\n",
      "0.607=156/257\tSequoia Capital\n",
      "0.606=40/66\tVenrock\n",
      "0.602=71/118\tRedpoint\n",
      "0.586=34/58\tThrive Capital\n",
      "0.569=70/123\tBattery Ventures\n",
      "0.534=39/73\tUnion Square Ventures\n",
      "0.531=43/81\tPolaris Partners\n",
      "0.522=35/67\tHighland Capital Partners\n",
      "0.519=27/52\tBain Capital Ventures\n",
      "0.515=53/103\tMatrix Partners\n",
      "0.511=72/141\tLightspeed Venture Partners\n",
      "0.508=31/61\tOreilly AlphaTech Ventures\n",
      "0.508=65/128\tAtlas Venture\n",
      "0.506=43/85\tDCM Ventures\n",
      "0.504=65/129\tBessemer Venture Partners\n",
      "0.500=48/96\tHarrison Metal\n",
      "0.500=29/58\tMayfield Fund\n"
     ]
    }
   ],
   "source": [
    "# global 투자자, 최소 50개의 seed 투자\n",
    "check(global_investor_score_good, global_investor_score_all, MIN_SEED = 50)"
   ]
  },
  {
   "cell_type": "code",
   "execution_count": 248,
   "metadata": {},
   "outputs": [
    {
     "name": "stdout",
     "output_type": "stream",
     "text": [
      "26 investors with minimum of 200 seed investment\n",
      "0.607=156/257\tSequoia Capital\n",
      "0.470=125/266\tAccel Partners\n",
      "0.455=142/312\tFirst Round\n",
      "0.453=115/254\tGV\n",
      "0.439=100/228\tFounder Collective\n",
      "0.411=113/275\tNew Enterprise Associates\n",
      "0.403=106/263\tAndreessen Horowitz\n",
      "0.394=97/246\tLerer Hippeau Ventures\n",
      "0.357=189/529\tSV Angel\n",
      "0.319=67/210\tTrue Ventures\n",
      "0.238=55/231\tGreat Oaks Venture Capital\n",
      "0.146=45/309\tHigh-Tech Gruenderfonds\n",
      "0.134=33/247\tFundersClub\n",
      "0.130=63/483\tTechstars\n",
      "0.097=110/1135\tY Combinator\n",
      "0.093=118/1263\t500 Startups\n",
      "0.083=30/361\tKima Ventures\n",
      "0.081=23/284\tPlug and Play\n",
      "0.050=17/338\tNorthstar Ventures\n",
      "0.047=10/213\tSeedcamp\n"
     ]
    }
   ],
   "source": [
    "# global 투자자, 최소 200개의 seed 투자\n",
    "check(global_investor_score_good, global_investor_score_all, MIN_SEED = 200)"
   ]
  },
  {
   "cell_type": "code",
   "execution_count": 249,
   "metadata": {},
   "outputs": [
    {
     "name": "stdout",
     "output_type": "stream",
     "text": [
      "759 investors with minimum of 3 seed investment\n",
      "1.000=3/3\tWorld Innovation Lab (WiL)\n",
      "1.000=3/3\tIndo-US Venture Partners\n",
      "1.000=3/3\tSquare Peg Capital\n",
      "1.000=4/4\tElevar Equity\n",
      "1.000=3/3\tWolfson Group\n",
      "1.000=3/3\tMeridian Capital China\n",
      "1.000=3/3\tGS Home Shopping\n",
      "0.909=10/11\t83North\n",
      "0.900=9/10\tRedpoint\n",
      "0.857=6/7\tK2VC\n",
      "0.833=5/6\tChina Growth Capital\n",
      "0.800=4/5\tGemini Israel Ventures\n",
      "0.800=4/5\tBRM Capital\n",
      "0.800=4/5\tTrustbridge Partners\n",
      "0.800=4/5\tVentech\n",
      "0.778=7/9\tNorthern Light Venture Capital\n",
      "0.769=10/13\tLegend Capital\n",
      "0.750=3/4\tWuXi Healthcare Ventures\n",
      "0.750=3/4\tF-Prime Capital Partners\n",
      "0.750=3/4\tCedar Fund\n"
     ]
    }
   ],
   "source": [
    "# asia 투자자, 최소 3개의 seed 투자\n",
    "check(asia_investor_score_good, asia_investor_score_all, MIN_SEED = 3)"
   ]
  },
  {
   "cell_type": "code",
   "execution_count": 250,
   "metadata": {},
   "outputs": [
    {
     "name": "stdout",
     "output_type": "stream",
     "text": [
      "431 investors with minimum of 5 seed investment\n",
      "0.909=10/11\t83North\n",
      "0.900=9/10\tRedpoint\n",
      "0.857=6/7\tK2VC\n",
      "0.833=5/6\tChina Growth Capital\n",
      "0.800=4/5\tGemini Israel Ventures\n",
      "0.800=4/5\tBRM Capital\n",
      "0.800=4/5\tTrustbridge Partners\n",
      "0.800=4/5\tVentech\n",
      "0.778=7/9\tNorthern Light Venture Capital\n",
      "0.769=10/13\tLegend Capital\n",
      "0.750=6/8\tCanaan Partners\n",
      "0.714=5/7\tFounder Collective\n",
      "0.714=5/7\tCeyuan Ventures\n",
      "0.700=7/10\tNorwest Venture Partners - NVP\n",
      "0.692=9/13\tBlueRun Ventures\n",
      "0.692=9/13\tBattery Ventures\n",
      "0.684=13/19\tGSR Ventures\n",
      "0.667=10/15\tGGV Capital\n",
      "0.667=6/9\te.ventures\n",
      "0.667=4/6\tRhodium\n"
     ]
    }
   ],
   "source": [
    "# asia 투자자, 최소 5개의 seed 투자\n",
    "check(asia_investor_score_good, asia_investor_score_all, MIN_SEED = 5)"
   ]
  },
  {
   "cell_type": "code",
   "execution_count": 251,
   "metadata": {},
   "outputs": [
    {
     "name": "stdout",
     "output_type": "stream",
     "text": [
      "186 investors with minimum of 10 seed investment\n",
      "0.909=10/11\t83North\n",
      "0.900=9/10\tRedpoint\n",
      "0.769=10/13\tLegend Capital\n",
      "0.700=7/10\tNorwest Venture Partners - NVP\n",
      "0.692=9/13\tBlueRun Ventures\n",
      "0.692=9/13\tBattery Ventures\n",
      "0.684=13/19\tGSR Ventures\n",
      "0.667=10/15\tGGV Capital\n",
      "0.645=20/31\tQiming Venture Partners\n",
      "0.636=7/11\tBertelsmann Asia Investment Fund\n",
      "0.615=8/13\tMitsubishi UFJ Capital\n",
      "0.600=6/10\tGenesis Partners\n",
      "0.600=6/10\tInfinity Venture Partners\n",
      "0.600=12/20\tBessemer Venture Partners\n",
      "0.600=6/10\tGiza Venture Capital\n",
      "0.583=7/12\tMayfield Fund\n",
      "0.583=14/24\tSource Code Capital\n",
      "0.580=69/119\tSequoia Capital\n",
      "0.571=8/14\tKleiner Perkins Caufield & Byers\n",
      "0.562=9/16\tStonebridge Capital\n"
     ]
    }
   ],
   "source": [
    "# asia 투자자, 최소 10개의 seed 투자\n",
    "check(asia_investor_score_good, asia_investor_score_all, MIN_SEED = 10)"
   ]
  },
  {
   "cell_type": "code",
   "execution_count": 252,
   "metadata": {},
   "outputs": [
    {
     "name": "stdout",
     "output_type": "stream",
     "text": [
      "64 investors with minimum of 20 seed investment\n",
      "0.645=20/31\tQiming Venture Partners\n",
      "0.600=12/20\tBessemer Venture Partners\n",
      "0.583=14/24\tSource Code Capital\n",
      "0.580=69/119\tSequoia Capital\n",
      "0.556=30/54\tIDG Capital Partners\n",
      "0.545=12/22\tMatrix Partners\n",
      "0.500=13/26\tDCM Ventures\n",
      "0.486=18/37\tGobi Partners\n",
      "0.478=11/23\tMagma Venture Partners\n",
      "0.455=10/22\tQualcomm Ventures\n",
      "0.444=28/63\tAccel Partners\n",
      "0.429=9/21\tMorningside Group\n",
      "0.421=16/38\tSinovation Ventures\n",
      "0.418=23/55\tMatrix Partners China\n",
      "0.417=10/24\tGREE Ventures\n",
      "0.409=9/22\tHelion Venture Partners\n",
      "0.400=14/35\tVertex Ventures\n",
      "0.389=21/54\tSAIF Partners\n",
      "0.361=13/36\tKalaari Capital\n",
      "0.359=14/39\tIDG Ventures India\n"
     ]
    }
   ],
   "source": [
    "# asia 투자자, 최소 20개의 seed 투자\n",
    "check(asia_investor_score_good, asia_investor_score_all, MIN_SEED = 20)"
   ]
  },
  {
   "cell_type": "code",
   "execution_count": 253,
   "metadata": {},
   "outputs": [
    {
     "name": "stdout",
     "output_type": "stream",
     "text": [
      "There are 798 companies founded after 2007-01-01\n",
      "34 companies with late stage fundings\n",
      "3 acquired for 1M+\n",
      "3 IPOs\n",
      "In total, 40 good companies\n",
      "# good companies: 40 with ['B', 'C', 'D', 'E', 'F', 'acquisition', 'ipo']\n",
      "# good / all early investments: 43 / 410\n",
      "93 investors with minimum of 2 seed investment\n",
      "1.000=2/2\tRock Health\n",
      "1.000=3/3\tLifeline Ventures\n",
      "1.000=2/2\tKleiner Perkins Caufield & Byers\n",
      "1.000=2/2\tTrue Ventures\n",
      "1.000=2/2\tFinnish Industry Investment Ltd (Suomen Teollisuussijoitus)\n",
      "1.000=2/2\tKepha Partners\n",
      "1.000=2/2\tDisruptive\n",
      "1.000=2/2\tSigma Partners\n",
      "0.500=1/2\tCrosslink Capital\n",
      "0.500=1/2\tAlliance of Angels\n",
      "0.500=1/2\tStartupbootcamp\n",
      "0.333=1/3\tEarlybird Venture Capital\n",
      "0.333=1/3\tY Combinator\n",
      "0.333=1/3\tCrunchFund\n",
      "0.250=1/4\tBain Capital Ventures\n",
      "no investor name\n",
      "no investor name\n",
      "no investor name\n",
      "no investor name\n",
      "no investor name\n"
     ]
    }
   ],
   "source": [
    "word = 'iot'\n",
    "specific_global_investor_score_good, specific_global_investor_score_all = get_investor_scores(criteria, founded_after_this, False, word, False)\n",
    "check(specific_global_investor_score_good, specific_global_investor_score_all, MIN_SEED = 2)"
   ]
  },
  {
   "cell_type": "code",
   "execution_count": 254,
   "metadata": {},
   "outputs": [
    {
     "name": "stdout",
     "output_type": "stream",
     "text": [
      "There are 203 companies founded after 2007-01-01\n",
      "7 companies with late stage fundings\n",
      "1 acquired for 1M+\n",
      "0 IPOs\n",
      "In total, 8 good companies\n",
      "# good companies: 8 with ['B', 'C', 'D', 'E', 'F', 'acquisition', 'ipo']\n",
      "# good / all early investments: 10 / 147\n",
      "56 investors with minimum of 2 seed investment\n",
      "1.000=2/2\tFuel Capital\n",
      "0.667=2/3\tDraper Fisher Jurvetson (DFJ)\n",
      "0.667=2/3\tAME Cloud Ventures\n",
      "0.600=3/5\tAllen & Company\n",
      "0.500=1/2\tPlug and Play\n",
      "0.500=1/2\tVertex Ventures\n",
      "0.500=1/2\tSalesforce Ventures\n",
      "0.500=1/2\tLux Capital\n",
      "0.500=1/2\tSV Angel\n",
      "0.200=1/5\tData Collective\n",
      "no investor name\n",
      "no investor name\n",
      "no investor name\n",
      "no investor name\n",
      "no investor name\n",
      "no investor name\n",
      "no investor name\n",
      "no investor name\n",
      "no investor name\n",
      "no investor name\n"
     ]
    }
   ],
   "source": [
    "word = 'deep_learning'\n",
    "specific_global_investor_score_good, specific_global_investor_score_all = get_investor_scores(criteria, founded_after_this, False, word, False)\n",
    "check(specific_global_investor_score_good, specific_global_investor_score_all, MIN_SEED = 2)"
   ]
  },
  {
   "cell_type": "code",
   "execution_count": 255,
   "metadata": {},
   "outputs": [
    {
     "name": "stdout",
     "output_type": "stream",
     "text": [
      "There are 244 companies founded after 2007-01-01\n",
      "9 companies with late stage fundings\n",
      "0 acquired for 1M+\n",
      "3 IPOs\n",
      "In total, 12 good companies\n",
      "# good companies: 12 with ['B', 'C', 'D', 'E', 'F', 'acquisition', 'ipo']\n",
      "# good / all early investments: 16 / 141\n",
      "57 investors with minimum of 2 seed investment\n",
      "1.000=2/2\tSierraMaya360\n",
      "1.000=2/2\tSK Ventures\n",
      "1.000=2/2\tData Collective\n",
      "1.000=2/2\tGV\n",
      "1.000=2/2\tVTF Capital\n",
      "1.000=3/3\tAngelPad\n",
      "1.000=2/2\tff Venture Capital\n",
      "1.000=2/2\tSoftTech VC\n",
      "0.500=1/2\tMenlo Ventures\n",
      "0.500=1/2\tQualcomm Ventures\n",
      "0.333=1/3\tZhenFund\n",
      "0.333=1/3\tBee Partners\n",
      "0.333=1/3\tGGV Capital\n",
      "no investor name\n",
      "no investor name\n",
      "no investor name\n",
      "no investor name\n",
      "no investor name\n",
      "no investor name\n",
      "no investor name\n"
     ]
    }
   ],
   "source": [
    "word = 'drone'\n",
    "specific_global_investor_score_good, specific_global_investor_score_all = get_investor_scores(criteria, founded_after_this, False, word, False)\n",
    "check(specific_global_investor_score_good, specific_global_investor_score_all, MIN_SEED = 2)"
   ]
  },
  {
   "cell_type": "code",
   "execution_count": 256,
   "metadata": {
    "collapsed": true
   },
   "outputs": [],
   "source": [
    "'''\n",
    "2. 유명한 투자자들과 인맥이 있을 것 같은 작은 투자자들을 살펴보자\n",
    "'''\n",
    "\n",
    "# get investors with high centrality\n",
    "f = open(util_folder + 'investor_centrality_degree.pickle')\n",
    "investors_high_central = pickle.load(f)\n",
    "f.close()"
   ]
  },
  {
   "cell_type": "code",
   "execution_count": 257,
   "metadata": {},
   "outputs": [
    {
     "name": "stdout",
     "output_type": "stream",
     "text": [
      "500 Startups 0.0645051194539\n",
      "New Enterprise Associates 0.0460750853242\n",
      "SV Angel 0.0447886584405\n",
      "Intel Capital 0.0431346810186\n",
      "Y Combinator 0.0369650826989\n",
      "Accel Partners 0.035914938304\n",
      "Kleiner Perkins Caufield & Byers 0.034287214492\n",
      "Sequoia Capital 0.0339459175637\n",
      "GV 0.0312943029667\n",
      "First Round 0.0301916513521\n",
      "Goldman Sachs 0.0284589131006\n",
      "Greylock Partners 0.028170123392\n",
      "Bessemer Venture Partners 0.0279075872933\n",
      "Andreessen Horowitz 0.0277238120242\n",
      "Draper Fisher Jurvetson (DFJ) 0.0273825150958\n",
      "Index Ventures 0.0267786820688\n",
      "Great Oaks Venture Capital 0.0244683644001\n",
      "Lerer Hippeau Ventures 0.024284589131\n",
      "CrunchFund 0.0241795746915\n",
      "Khosla Ventures 0.0237857705434\n",
      "General Catalyst 0.0236545024941\n",
      "Felicis Ventures 0.0235494880546\n",
      "RRE Ventures 0.0227881333683\n",
      "BoxGroup 0.0219480178525\n",
      "Menlo Ventures 0.0213179312155\n"
     ]
    }
   ],
   "source": [
    "# 유명한 회사들 찾기 1 (network centrality)\n",
    "top25 = [uuid for uuid, value in investors_high_central[:25]]\n",
    "top25_central = []\n",
    "for i, uuid in enumerate(top25):\n",
    "    print df_investors[df_investors['uuid'] == (uuid)]['investor_name'].values[0], investors_high_central[i][1]\n",
    "    top25_central.append(uuid)"
   ]
  },
  {
   "cell_type": "code",
   "execution_count": 258,
   "metadata": {},
   "outputs": [
    {
     "name": "stdout",
     "output_type": "stream",
     "text": [
      "500 Startups 1518\n",
      "Sequoia Capital 1432\n",
      "Y Combinator 1344\n",
      "New Enterprise Associates 1328\n",
      "Intel Capital 1179\n",
      "Accel Partners 1078\n",
      "NYSERDA 1004\n",
      "Kleiner Perkins Caufield & Byers 968\n",
      "Wayra 952\n",
      "SOSV 950\n",
      "Draper Fisher Jurvetson (DFJ) 782\n",
      "Start-Up Chile 745\n",
      "SV Angel 738\n",
      "Bessemer Venture Partners 712\n",
      "Techstars 691\n",
      "Right Side Capital Management 661\n",
      "Greylock Partners 592\n",
      "First Round 580\n",
      "Index Ventures 573\n",
      "Goldman Sachs 571\n",
      "Lightspeed Venture Partners 558\n",
      "Battery Ventures 556\n",
      "Brand Capital 553\n",
      "High-Tech Gruenderfonds 551\n",
      "Plug and Play 543\n",
      "Venrock 538\n"
     ]
    }
   ],
   "source": [
    "# 유명한 회사들 찾기 2. funding frequency\n",
    "groups = df_investments.groupby('investor_uuid')['funding_round_uuid'].count().reset_index().sort_values(by = 'funding_round_uuid', ascending = False)#['investor_uuid'].apply(list)\n",
    "count = 0\n",
    "top25_funding = []\n",
    "for index, row in groups.iterrows():\n",
    "    uuid = row[0]\n",
    "    fund_count = row[1]\n",
    "    print df_investors[df_investors['uuid'] == (uuid)]['investor_name'].values[0], fund_count\n",
    "    top25_funding.append(uuid)\n",
    "    if count == 25: break\n",
    "    count += 1"
   ]
  },
  {
   "cell_type": "code",
   "execution_count": 259,
   "metadata": {},
   "outputs": [
    {
     "name": "stdout",
     "output_type": "stream",
     "text": [
      "There are 520408 companies\n"
     ]
    }
   ],
   "source": [
    "# 유명한 회사들과 공동 투자를 많이 한 회사를 찾아라\n",
    "# 그 중 최소한 MIN 번 이상의 투자를 한 회사들\n",
    "MIN = 3\n",
    "\n",
    "# get all companies founded after the time\n",
    "companies = df_organizations['uuid']\n",
    "print('There are {} companies'.format(len(companies)))\n",
    "\n",
    "# get famous investors\n",
    "top_investors = top25_central\n",
    "top_investors.extend(top25_funding)\n",
    "top_investors = list(set(top_investors))\n",
    "\n",
    "co_funding_count = {}\n",
    "funding_count = {}\n",
    "for investor in top_investors:\n",
    "    co_funding_count[investor] = {}\n",
    "\n",
    "groups = df_investments.groupby('funding_round_uuid')['investor_uuid'].apply(list)\n",
    "# 같은 회사에 투자를 한 경우, 두 투자 회사 사이에 링크를 준다\n",
    "for investors in groups.values:\n",
    "    for investor1 in investors:\n",
    "        for investor2 in investors:\n",
    "            if investor1 != investor2:\n",
    "                if investor1 in top_investors and investor2 not in top_investors:\n",
    "                    co_funding_count[investor1][investor2] = co_funding_count[investor1].get(investor2, 0) + 1\n",
    "                    funding_count[investor2] = funding_count.get(investor2, 0) + 1\n",
    "                if investor2 in top_investors and investor1 not in top_investors:\n",
    "                    co_funding_count[investor2][investor1] = co_funding_count[investor2].get(investor1, 0) + 1\n",
    "                    funding_count[investor1] = funding_count.get(investor1, 0) + 1"
   ]
  },
  {
   "cell_type": "code",
   "execution_count": 260,
   "metadata": {
    "scrolled": false
   },
   "outputs": [
    {
     "name": "stdout",
     "output_type": "stream",
     "text": [
      "TOP VC List\n",
      "Battery Ventures\n",
      "Bessemer Venture Partners\n",
      "New Enterprise Associates\n",
      "Khosla Ventures\n",
      "SV Angel\n",
      "Techstars\n",
      "First Round\n",
      "500 Startups\n",
      "Lerer Hippeau Ventures\n",
      "High-Tech Gruenderfonds\n",
      "Wayra\n",
      "CrunchFund\n",
      "Greylock Partners\n",
      "Right Side Capital Management\n",
      "Accel Partners\n",
      "Intel Capital\n",
      "Venrock\n",
      "Andreessen Horowitz\n",
      "GV\n",
      "Index Ventures\n",
      "General Catalyst\n",
      "Sequoia Capital\n",
      "NYSERDA\n",
      "Great Oaks Venture Capital\n",
      "Y Combinator\n",
      "Menlo Ventures\n",
      "BoxGroup\n",
      "Plug and Play\n",
      "Start-Up Chile\n",
      "SOSV\n",
      "Draper Fisher Jurvetson (DFJ)\n",
      "Goldman Sachs\n",
      "Kleiner Perkins Caufield & Byers\n",
      "Lightspeed Venture Partners\n",
      "RRE Ventures\n",
      "Felicis Ventures\n",
      "Brand Capital\n",
      "\n",
      "\n",
      "\n"
     ]
    },
    {
     "ename": "NameError",
     "evalue": "name 'co_funding_propop' is not defined",
     "output_type": "error",
     "traceback": [
      "\u001b[0;31m---------------------------------------------------------------------------\u001b[0m",
      "\u001b[0;31mNameError\u001b[0m                                 Traceback (most recent call last)",
      "\u001b[0;32m<ipython-input-260-4a5d0c96fe1c>\u001b[0m in \u001b[0;36m<module>\u001b[0;34m()\u001b[0m\n\u001b[1;32m      6\u001b[0m \u001b[0;32mprint\u001b[0m\u001b[0;34m(\u001b[0m\u001b[0;34m'\\n\\n'\u001b[0m\u001b[0;34m)\u001b[0m\u001b[0;34m\u001b[0m\u001b[0m\n\u001b[1;32m      7\u001b[0m \u001b[0;32mfor\u001b[0m \u001b[0minvestor1\u001b[0m \u001b[0;32min\u001b[0m \u001b[0mtop_investors\u001b[0m\u001b[0;34m:\u001b[0m\u001b[0;34m\u001b[0m\u001b[0m\n\u001b[0;32m----> 8\u001b[0;31m     \u001b[0mco_funding_propop\u001b[0m\u001b[0;34m[\u001b[0m\u001b[0minvestor1\u001b[0m\u001b[0;34m]\u001b[0m \u001b[0;34m=\u001b[0m \u001b[0;34m{\u001b[0m\u001b[0;34m}\u001b[0m\u001b[0;34m\u001b[0m\u001b[0m\n\u001b[0m\u001b[1;32m      9\u001b[0m     \u001b[0;32mfor\u001b[0m \u001b[0minvestor2\u001b[0m\u001b[0;34m,\u001b[0m \u001b[0mcount\u001b[0m \u001b[0;32min\u001b[0m \u001b[0mfunding_count\u001b[0m\u001b[0;34m.\u001b[0m\u001b[0mitems\u001b[0m\u001b[0;34m(\u001b[0m\u001b[0;34m)\u001b[0m\u001b[0;34m:\u001b[0m\u001b[0;34m\u001b[0m\u001b[0m\n\u001b[1;32m     10\u001b[0m         \u001b[0;32mif\u001b[0m \u001b[0mcount\u001b[0m \u001b[0;34m>=\u001b[0m \u001b[0mMIN\u001b[0m\u001b[0;34m:\u001b[0m\u001b[0;34m\u001b[0m\u001b[0m\n",
      "\u001b[0;31mNameError\u001b[0m: name 'co_funding_propop' is not defined"
     ]
    }
   ],
   "source": [
    "co_funding_prop = {}\n",
    "print('TOP VC List')\n",
    "for investor1 in top_investors:\n",
    "    print('{}'.format(df_investors[df_investors['uuid'] == (investor1)]['investor_name'].values[0]))\n",
    "    \n",
    "print('\\n\\n')\n",
    "for investor1 in top_investors:\n",
    "    co_funding_propop[investor1] = {}\n",
    "    for investor2, count in funding_count.items():\n",
    "        if count >= MIN:\n",
    "            if investor2 in co_funding_count[investor1]:\n",
    "                co_funding_prop[investor1][investor2] = co_funding_count[investor1][investor2] / float(count)\n",
    "    # sort\n",
    "    score = co_funding_prop[investor1]\n",
    "    score = sorted(score.items(), key=operator.itemgetter(1))\n",
    "    score.reverse()\n",
    "    print('TOP VC {}'.format(df_investors[df_investors['uuid'] == (investor1)]['investor_name'].values[0]))\n",
    "    for key, value in score[:10]:\n",
    "        name = df_investors[df_investors['uuid'] == (key)]['investor_name'].values[0]\n",
    "        print('{}% {}: {}'.format(value * 100, funding_count[key], name))\n",
    "    print('\\n\\n')"
   ]
  },
  {
   "cell_type": "code",
   "execution_count": null,
   "metadata": {
    "collapsed": true
   },
   "outputs": [],
   "source": []
  },
  {
   "cell_type": "code",
   "execution_count": null,
   "metadata": {
    "collapsed": true
   },
   "outputs": [],
   "source": []
  },
  {
   "cell_type": "code",
   "execution_count": null,
   "metadata": {
    "collapsed": true
   },
   "outputs": [],
   "source": []
  },
  {
   "cell_type": "code",
   "execution_count": null,
   "metadata": {
    "collapsed": true
   },
   "outputs": [],
   "source": []
  },
  {
   "cell_type": "code",
   "execution_count": null,
   "metadata": {
    "collapsed": true
   },
   "outputs": [],
   "source": []
  },
  {
   "cell_type": "code",
   "execution_count": null,
   "metadata": {
    "collapsed": true
   },
   "outputs": [],
   "source": []
  }
 ],
 "metadata": {
  "kernelspec": {
   "display_name": "Python 2",
   "language": "python",
   "name": "python2"
  },
  "language_info": {
   "codemirror_mode": {
    "name": "ipython",
    "version": 2
   },
   "file_extension": ".py",
   "mimetype": "text/x-python",
   "name": "python",
   "nbconvert_exporter": "python",
   "pygments_lexer": "ipython2",
   "version": "2.7.10"
  }
 },
 "nbformat": 4,
 "nbformat_minor": 1
}
