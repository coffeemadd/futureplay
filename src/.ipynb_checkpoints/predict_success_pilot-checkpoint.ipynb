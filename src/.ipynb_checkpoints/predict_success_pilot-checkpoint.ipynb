{
 "cells": [
  {
   "cell_type": "code",
   "execution_count": 1,
   "metadata": {
    "collapsed": true
   },
   "outputs": [],
   "source": [
    "import pandas as pd\n",
    "import re\n",
    "import gensim\n",
    "import pickle\n",
    "from datetime import datetime\n",
    "from matplotlib import pyplot as plt\n",
    "%matplotlib inline"
   ]
  },
  {
   "cell_type": "code",
   "execution_count": 80,
   "metadata": {
    "collapsed": true
   },
   "outputs": [],
   "source": [
    "# load data\n",
    "data_folder = '../data/csv_export/'\n",
    "util_folder = '../util/'\n",
    "df_organizations = pd.read_csv(data_folder + 'organizations.csv'.format(data_folder), dtype={'first_funding_on': str, 'last_funding_on':str})\n",
    "df_description = pd.read_csv(data_folder + 'organization_descriptions.csv')\n",
    "df_funding_rounds = pd.read_csv(data_folder + 'funding_rounds.csv')\n",
    "df_funds = pd.read_csv(data_folder + 'funds.csv')\n",
    "df_investments = pd.read_csv(data_folder + 'investments.csv')\n",
    "df_acq = pd.read_csv(data_folder + 'acquisitions.csv')\n",
    "df_people = pd.read_csv(data_folder + 'people.csv')\n",
    "df_degrees = pd.read_csv(data_folder + 'degrees.csv')"
   ]
  },
  {
   "cell_type": "code",
   "execution_count": 79,
   "metadata": {},
   "outputs": [
    {
     "data": {
      "text/plain": [
       "Index([u'company_name', u'country_code', u'state_code', u'region', u'city',\n",
       "       u'company_category_list', u'funding_round_type', u'funding_round_code',\n",
       "       u'announced_on', u'raised_amount_usd', u'raised_amount',\n",
       "       u'raised_amount_currency_code', u'target_money_raised_usd',\n",
       "       u'target_money_raised', u'target_money_raised_currency_code',\n",
       "       u'post_money_valuation_usd', u'post_money_valuation',\n",
       "       u'post_money_currency_code', u'investor_count', u'investor_names',\n",
       "       u'cb_url', u'company_uuid', u'funding_round_uuid', u'created_at',\n",
       "       u'updated_at'],\n",
       "      dtype='object')"
      ]
     },
     "execution_count": 79,
     "metadata": {},
     "output_type": "execute_result"
    }
   ],
   "source": [
    "df_funding_rounds.columns"
   ]
  },
  {
   "cell_type": "code",
   "execution_count": 93,
   "metadata": {
    "collapsed": true
   },
   "outputs": [],
   "source": [
    "# get list of companies with after certain condtion\n",
    "# plot their 'funding' frequency\n",
    "# get average funding at each round\n",
    "def plot_funding_after(founded_after_this):\n",
    "    df_organizations['founded_on'] = pd.to_datetime(df_organizations['founded_on'], errors='ignore')\n",
    "    companies = df_organizations[df_organizations['founded_on'] >= founded_after_this]['uuid']\n",
    "    print('There are {} companies founded after {}'.format(len(companies), founded_after_this))\n",
    "    fundings = df_funding_rounds[df_funding_rounds['company_uuid'].isin(companies)]\n",
    "    fig, axs = plt.subplots(2,1, figsize=(10, 10))\n",
    "#     fundings.groupby(fundings['funding_round_type'])['raised_amount_usd'].count().plot(kind = 'bar', ax = axs[0])\n",
    "#     print(fundings.groupby(fundings['funding_round_type'])['raised_amount_usd'].count())\n",
    "    print(fundings.groupby(fundings['funding_round_type'])['raised_amount_usd'].count()).nlargest(20).reset_index()\n",
    "    fundings.groupby(fundings['funding_round_code'])['raised_amount_usd'].count().plot(kind = 'bar', ax = axs[0])\n",
    "    print(fundings.groupby(fundings['funding_round_code'])['raised_amount_usd'].count())\n",
    "    fundings.groupby(fundings['funding_round_code'])['raised_amount_usd'].mean().plot(kind = 'bar', ax = axs[1])\n",
    "    print(fundings.groupby(fundings['funding_round_code'])['raised_amount_usd'].mean())"
   ]
  },
  {
   "cell_type": "code",
   "execution_count": 94,
   "metadata": {},
   "outputs": [
    {
     "name": "stdout",
     "output_type": "stream",
     "text": [
      "There are 181768 companies founded after 2010-01-01\n",
      "       funding_round_type  raised_amount_usd\n",
      "0                    seed              29387\n",
      "1                 venture              20835\n",
      "2                   angel               5071\n",
      "3          debt_financing               2638\n",
      "4        convertible_note               2423\n",
      "5                   grant               2145\n",
      "6     equity_crowdfunding               1283\n",
      "7             undisclosed                865\n",
      "8    product_crowdfunding                515\n",
      "9          private_equity                411\n",
      "10        post_ipo_equity                210\n",
      "11  non_equity_assistance                193\n",
      "12          post_ipo_debt                 40\n",
      "13       secondary_market                 12\n",
      "funding_round_code\n",
      "A    8247\n",
      "B    3267\n",
      "C    1052\n",
      "D     306\n",
      "E      78\n",
      "F      21\n",
      "G       5\n",
      "H       1\n",
      "Name: raised_amount_usd, dtype: int64\n",
      "funding_round_code\n",
      "A    8.366202e+06\n",
      "B    2.055904e+07\n",
      "C    3.855064e+07\n",
      "D    8.136001e+07\n",
      "E    1.426241e+08\n",
      "F    3.404938e+08\n",
      "G    2.193687e+08\n",
      "H    5.641770e+08\n",
      "Name: raised_amount_usd, dtype: float64\n"
     ]
    },
    {
     "data": {
      "image/png": "[encoded data removed]",
      "text/plain": [
       "<matplotlib.figure.Figure at 0x159b17a90>"
      ]
     },
     "metadata": {},
     "output_type": "display_data"
    }
   ],
   "source": [
    "plot_funding_after('2010-01-01')"
   ]
  },
  {
   "cell_type": "code",
   "execution_count": 3,
   "metadata": {},
   "outputs": [
    {
     "name": "stdout",
     "output_type": "stream",
     "text": [
      "('total acquisition:', 47412)\n",
      "('acquisition 1M+:', 9467)\n",
      "('acqusition 1M ~ 10M', 1084)\n",
      "('acqusition 1M ~ 50M', 3388)\n"
     ]
    }
   ],
   "source": [
    "print('total acquisition:', df_acq.shape[0])\n",
    "# limiting to acqusition greater than 1M\n",
    "df_acq = df_acq[df_acq['price_usd'] > 1000000]\n",
    "print('acquisition 1M+:', df_acq.shape[0])\n",
    "print('acqusition 1M ~ 10M', df_acq[df_acq['price_usd'] < 10000000].shape[0])\n",
    "print('acqusition 1M ~ 50M', df_acq[df_acq['price_usd'] < 50000000].shape[0])"
   ]
  },
  {
   "cell_type": "code",
   "execution_count": 27,
   "metadata": {},
   "outputs": [],
   "source": [
    "# print df_degrees.groupby(df_degrees['degree_type'])['institution_uuid'].count().nlargest(100).reset_index()\n",
    "# print(fundings.groupby(fundings['funding_round_type'])['raised_amount_usd'].count()).nlargest(20).reset_index()\n",
    "bachelor = ['BS', 'BA', 'Bachelor', 'B.A', 'B.S.', 'B.A.', 'B.S', 'BBA', 'B.Sc', 'Bachelor of Science', 'Bachelors', \"Bachelor's\"]\n",
    "master = ['MS', 'Master', 'MA', 'Masters', 'MSc', 'M.S', 'M.S.']\n",
    "phd = ['Ph.D', 'PhdD', 'Ph.D.']\n",
    "\n",
    "df_bachelor = df_degrees[df_degrees['degree_type'].isin(bachelor)]\n",
    "df_master  = df_degrees[df_degrees['degree_type'].isin(master)]\n",
    "df_phd = df_degrees[df_degrees['degree_type'].isin(phd)]"
   ]
  },
  {
   "cell_type": "code",
   "execution_count": 138,
   "metadata": {},
   "outputs": [],
   "source": [
    "# 성공한 회사와 그렇지 않은 회사의 차이를 살펴본다\n",
    "# 성공 = acquisition, IPO\n",
    "# 그렇지 않은 = 최소한 한번 이상의 펀딩 받은 회사 (성공 제외))\n",
    "\n",
    "def after_before(founded_after_this, founded_before_this):\n",
    "    df_organizations['founded_on'] = pd.to_datetime(df_organizations['founded_on'], errors='ignore')\n",
    "    df = df_organizations[df_organizations['founded_on'] >= founded_after_this]\n",
    "    df = df[df['founded_on'] <= founded_before_this]\n",
    "    companies = df['uuid']\n",
    "    print('0) Data Statistics')\n",
    "    print('There are {} companies from {} to {}\\n'.format(len(companies), founded_after_this, founded_before_this))\n",
    "\n",
    "    # Get list of acquired companies\n",
    "    df_acq = pd.read_csv(data_folder + 'acquisitions.csv')\n",
    "    df_acq = df_acq[df_acq['price_usd'] > 1000000]\n",
    "    df_acq = df_acq[df_acq['acquiree_uuid'].isin(companies)]\n",
    "    print('{} acquired for 1M+'.format(df_acq.shape[0], len(companies)))\n",
    "    print('{} acquired for 1M ~ 10M'.format(df_acq[df_acq['price_usd'] < 10000000].shape[0]))\n",
    "    print('{} acquired for 1M ~ 50M'.format(df_acq[df_acq['price_usd'] < 50000000].shape[0]))\n",
    "    good_companies = df_acq['acquiree_uuid'].values\n",
    "    good_companies = list(set(good_companies))\n",
    "    \n",
    "    # Get list of IPO companies\n",
    "    df_ipos = pd.read_csv(data_folder + 'ipos.csv')\n",
    "    df_ipos = df_ipos[df_ipos['company_uuid'].isin(companies)]\n",
    "    print('{} IPOs'.format(df_ipos.shape[0]))\n",
    "    good_companies.extend(df_ipos['company_uuid'].values)\n",
    "    good_companies = list(set(good_companies))\n",
    "\n",
    "    # Get list of companies with at least one funding\n",
    "    fundings = df_funding_rounds[df_funding_rounds['company_uuid'].isin(companies)]\n",
    "    okay_companies = fundings['company_uuid'].values\n",
    "    okay_companies = list(set(okay_companies))\n",
    "    print('{} got at least one funding'.format(len(okay_companies)))\n",
    "    okay_companies = [company for company in okay_companies if company not in good_companies]\n",
    "    print('In totoal, we have {} / {} of good / okay companies'.format(len(good_companies), len(okay_companies)))\n",
    "    \n",
    "    # member - education, number, \n",
    "    # investor - proportion of top investors\n",
    "    # word distribution - temporal analysis, before, current, after - google trend 참고\n",
    "    # trend fit - identify similar companies, calculate before, after ratio\n",
    "    # -> 이건 keyword auto detection 이 필요한거 아닌가?\n",
    "    # event detection 같은 논문을 봐야 하나?\n",
    "\n",
    "    # 1) member - education, number\n",
    "    good_people = df_people[df_people['primary_organization_uuid'].isin(good_companies)]\n",
    "    okay_people = df_people[df_people['primary_organization_uuid'].isin(okay_companies)]    \n",
    "    print('\\n1) Member Analysis\\n{:.3f} vs {:.3f} Average number of people'.format\n",
    "          (float(good_people.shape[0]) / len(good_companies), float(okay_people.shape[0]) / len(okay_companies)))\n",
    "    \n",
    "    degrees = [df_bachelor, df_master, df_phd]\n",
    "    degree_names = ['bachelor', 'master', 'phd']\n",
    "    for i, degree in enumerate(degrees):\n",
    "        degree = degree['person_uuid'].values\n",
    "        num1 = good_people[good_people['uuid'].isin(degree)].shape[0] / float(good_people.shape[0])\n",
    "        num2 = okay_people[okay_people['uuid'].isin(degree)].shape[0] / float(okay_people.shape[0])\n",
    "        print '{:.3f} vs {:.3f} percent completed {}'.format(num1 * 100, num2 * 100, degree_names[i])\n",
    "\n",
    "    # 2) investors\n",
    "    # top investor 의 비율 \n",
    "    # top investor 기준: centrality in investment network\n",
    "    print('\\n2) Investor Analysis')\n",
    "    for K in [10, 25, 100, 1000]:\n",
    "        central = pickle.load(open(util_folder + 'investor_centrality_degree.pickle'))\n",
    "        topK = [uuid for uuid, value in central[:K]]\n",
    "        df = pd.merge(df_funding_rounds, df_investments, how = 'inner', on = 'funding_round_uuid')\n",
    "        seed_funding = df[df['funding_round_type'] == 'seed']\n",
    "        series_a_funding = df[df['funding_round_code'] == 'A']\n",
    "        good_seed_funding = seed_funding[seed_funding['company_uuid'].isin(good_companies)]\n",
    "        good_top_seed_funding = good_seed_funding[good_seed_funding['investor_uuid'].isin(topK)]\n",
    "        num1 = (good_top_seed_funding.shape[0] / float(good_seed_funding.shape[0])) * 100\n",
    "        okay_seed_funding = seed_funding[seed_funding['company_uuid'].isin(okay_companies)]\n",
    "        okay_top_seed_funding = okay_seed_funding[okay_seed_funding['investor_uuid'].isin(topK)]\n",
    "        num2 = (okay_top_seed_funding.shape[0] / float(okay_seed_funding.shape[0])) * 100\n",
    "        print('{:.3f} vs {:.3f} percent Seed funding from top {} investors'.format(num1, num2, K))\n",
    "        \n",
    "        good_series_a_funding = series_a_funding[series_a_funding['company_uuid'].isin(good_companies)]\n",
    "        good_top_series_a_funding = good_series_a_funding[good_series_a_funding['investor_uuid'].isin(topK)]\n",
    "        num1 = (good_top_series_a_funding.shape[0] / float(good_series_a_funding.shape[0])) * 100\n",
    "        okay_series_a_funding = series_a_funding[series_a_funding['company_uuid'].isin(okay_companies)]\n",
    "        okay_top_series_a_funding = okay_series_a_funding[okay_series_a_funding['investor_uuid'].isin(topK)]\n",
    "        num2 = (okay_top_series_a_funding.shape[0] / float(okay_series_a_funding.shape[0])) * 100\n",
    "        print('{:.3f} vs {:.3f} percent Series A funding from top {} investors'.format(num1, num2, K))\n",
    "        \n",
    "    # 3) word distribution\n",
    "    print('\\n3) Word Distribution Analysis')\n",
    "    # company first funding\n",
    "    # \n",
    "    "
   ]
  },
  {
   "cell_type": "code",
   "execution_count": 139,
   "metadata": {},
   "outputs": [
    {
     "name": "stdout",
     "output_type": "stream",
     "text": [
      "0) Data Statistics\n",
      "There are 105394 companies from 2010-01-01 to 2013-12-31\n",
      "\n",
      "579 acquired for 1M+\n",
      "137 acquired for 1M ~ 10M\n",
      "310 acquired for 1M ~ 50M\n",
      "645 IPOs\n",
      "31084 got at least one funding\n",
      "In totoal, we have 1192 / 30507 of good / okay companies\n",
      "\n",
      "1) Member Analysis\n",
      "2.970 vs 2.548 Average number of people\n",
      "14.774 vs 11.688 percent completed bachelor\n",
      "4.237 vs 3.971 percent completed master\n",
      "2.260 vs 0.991 percent completed phd\n",
      "\n",
      "2) Investor Analysis\n",
      "6.199 vs 4.837 percent Seed funding from top 10 investors\n",
      "8.538 vs 4.172 percent Series A funding from top 10 investors\n",
      "12.398 vs 6.991 percent Seed funding from top 25 investors\n",
      "15.195 vs 7.791 percent Series A funding from top 25 investors\n",
      "24.959 vs 14.478 percent Seed funding from top 100 investors\n",
      "30.680 vs 18.045 percent Series A funding from top 100 investors\n",
      "55.628 vs 37.393 percent Seed funding from top 1000 investors\n",
      "67.728 vs 47.093 percent Series A funding from top 1000 investors\n",
      "(434521, 346275)\n"
     ]
    }
   ],
   "source": [
    "after_before('2010-01-01', '2013-12-31')"
   ]
  },
  {
   "cell_type": "code",
   "execution_count": 103,
   "metadata": {
    "collapsed": true
   },
   "outputs": [],
   "source": [
    "company2word = pickle.load(open(util_folder + 'company2word.pickle'))\n",
    "word2company = pickle.load(open(util_folder + 'word2company.pickle'))"
   ]
  },
  {
   "cell_type": "code",
   "execution_count": null,
   "metadata": {
    "collapsed": true
   },
   "outputs": [],
   "source": [
    "model = gensim.models.word2vec.Word2Vec.load(util_folder + 'word2vec')"
   ]
  },
  {
   "cell_type": "code",
   "execution_count": 161,
   "metadata": {
    "collapsed": true
   },
   "outputs": [],
   "source": [
    "MAX_PRICE = 50000000 # 1M ~ 50M\n",
    "# MAX_PRICE = 100000000000 # 1M ~ 100B\n",
    "\n",
    "# get list of companies with deep learning\n",
    "# report on basic statistics\n",
    "# plot their acquisition\n",
    "def plot_trend(words, expand = False):\n",
    "    # expand word set\n",
    "    final_words = []\n",
    "    if type(words) == str:\n",
    "        words = [words]\n",
    "    for word in words:\n",
    "        if ' ' in word:\n",
    "            word = word.replace(' ', '_')\n",
    "        if expand:\n",
    "            _words = model.most_similar(word)\n",
    "            _words = [str(_word) for _word, sim in _words]\n",
    "            final_words.extend(_words)\n",
    "        final_words.append(word)\n",
    "    final_words = list(set(final_words))\n",
    "    \n",
    "    # choose companies that have relevant words\n",
    "    companies = []\n",
    "    for word in final_words:\n",
    "        _companies = word2company.get(word, [])\n",
    "        companies.extend(_companies)\n",
    "    companies = list(set(companies))\n",
    "\n",
    "    df1 = df_organizations[df_organizations['uuid'].isin(companies)]\n",
    "    df1 = df1[df1['first_funding_on'] > 0].loc[:,['uuid', 'first_funding_on', 'company_name']]\n",
    "    print('There are {} companies with words {}'.format(df1.shape[0], final_words))\n",
    "    \n",
    "    df_acq = pd.read_csv(data_folder + 'acquisitions.csv')\n",
    "#     df_acq = df_acq[df_acq['price_usd'] > 1000000]\n",
    "#     df2 = df_acq[df_acq['price_usd'] < MAX_PRICE].loc[:,['acquiree_uuid', 'price_usd']]\n",
    "    df2 = df_acq.loc[:,['acquiree_uuid', 'price_usd']]\n",
    "\n",
    "    acquired_companies = df2['acquiree_uuid'].values\n",
    "    df1 = df1[df1['uuid'].isin(acquired_companies)]\n",
    "    print('Number of acquisition: {}'.format(df1.shape[0]))\n",
    "    print(df1['company_name'])\n",
    "    df = pd.merge(df1, df2, how = 'left', left_on = ['uuid'], right_on = ['acquiree_uuid'])\n",
    "\n",
    "    df = df[df['price_usd'] > 0]\n",
    "    print('Number of acquisition with price information: {}'.format(df.shape[0]))\n",
    "\n",
    "    df = df[df['price_usd'] > MAX_PRICE]\n",
    "    print('Number of acquisition with price less than MAX: {}'.format(df.shape[0]))\n",
    "\n",
    "    return\n",
    "    new_dates = []\n",
    "    for date in dates:\n",
    "        try:\n",
    "            date = datetime.strptime(date, '%Y-%m-%d')\n",
    "            new_dates.append(date)\n",
    "        except Exception as e:\n",
    "            pass\n",
    "    df = pd.DataFrame({'dates':new_dates})\n",
    "    df.dates = pd.to_datetime(df.dates)\n",
    "#     df.groupby([df[\"dates\"].dt.year]).count().plot(kind='bar', figsize = (8, 4))\n",
    "    df.groupby([df[\"dates\"].dt.year, df[\"dates\"].dt.quarter]).count().plot(kind='bar', figsize = (15, 4))"
   ]
  },
  {
   "cell_type": "code",
   "execution_count": 162,
   "metadata": {},
   "outputs": [
    {
     "name": "stdout",
     "output_type": "stream",
     "text": [
      "There are 319 companies with words ['block_chain', 'blockchain', 'crypto_currency', 'bitcoin', 'cryptocurrency', 'ethereum', 'digital_currency']\n",
      "Number of acquisition: 8\n",
      "29958          Braintree\n",
      "42774           Coinzone\n",
      "48783         BlockTrail\n",
      "50892         Coinsetter\n",
      "63519            Glidera\n",
      "64279               Skry\n",
      "74148          Lawnmower\n",
      "93254    Canaan Creative\n",
      "Name: company_name, dtype: object\n",
      "Number of acquisition with price information: 0\n",
      "Number of acquisition with price less than MAX: 0\n"
     ]
    }
   ],
   "source": [
    "plot_trend(['blockchain', 'block chain', 'crypto_currency', 'cryptocurrency', 'ethereum', 'bitcoin', 'digital currency'])"
   ]
  },
  {
   "cell_type": "code",
   "execution_count": 163,
   "metadata": {},
   "outputs": [
    {
     "name": "stdout",
     "output_type": "stream",
     "text": [
      "There are 255 companies with words ['drones', 'drone', 'unmanned_aerial', 'uav']\n",
      "Number of acquisition: 8\n",
      "13906     Crossbow Technologies\n",
      "16810                 PrismTech\n",
      "45715                    Skybag\n",
      "51425    Ctrl Me Robotics, Inc.\n",
      "53284    Ascending Technologies\n",
      "59598                   Redbird\n",
      "70343             Erle Robotics\n",
      "76541                   Skyward\n",
      "Name: company_name, dtype: object\n",
      "Number of acquisition with price information: 2\n",
      "Number of acquisition with price less than MAX: 0\n"
     ]
    }
   ],
   "source": [
    "plot_trend(['drone', 'unmanned aerial', 'uav', 'drones'])"
   ]
  },
  {
   "cell_type": "code",
   "execution_count": 164,
   "metadata": {},
   "outputs": [
    {
     "name": "stdout",
     "output_type": "stream",
     "text": [
      "There are 250 companies with words ['natural_language']\n",
      "Number of acquisition: 40\n",
      "419                                  Ask.com\n",
      "2197                    iPhrase Technologies\n",
      "2738                            Native Minds\n",
      "6670                               MetaLINCS\n",
      "8564                                  BooRah\n",
      "8674                                Powerset\n",
      "9092                             SpeechCycle\n",
      "9519                                 Telisma\n",
      "10662                                  TuVox\n",
      "11050                          BytePlay Ltd.\n",
      "12044                                InQuira\n",
      "14336                         A-Life Medical\n",
      "15146                                 Vlingo\n",
      "15291                             Scout Labs\n",
      "16900               Signal Innovations Group\n",
      "18190                                  Wavii\n",
      "20707                 Cognition Technologies\n",
      "21799                        Lingospot, Inc.\n",
      "28597                                 Hoppit\n",
      "31173                                Indisys\n",
      "32174                                  Desti\n",
      "32368                          Emu Messenger\n",
      "32730                             AlchemyAPI\n",
      "33112                              SkyPhrase\n",
      "34296                            Lex Machina\n",
      "34416                        LinkSmart, Inc.\n",
      "34631                                 Versus\n",
      "35964                                 Upshot\n",
      "36953                                Airwoot\n",
      "37135                             Comenta TV\n",
      "37697                                  Nuiku\n",
      "39077                             Spiderbook\n",
      "39169                                Kanjoya\n",
      "43347                    DataRPM Corporation\n",
      "45169                            QPID Health\n",
      "50883                                 Wit.ai\n",
      "57385                            Evercontact\n",
      "63214                                 Api.ai\n",
      "66125    Edgecase (formerly Compare Metrics)\n",
      "82783                              OutsideIQ\n",
      "Name: company_name, dtype: object\n",
      "Number of acquisition with price information: 7\n",
      "Number of acquisition with price less than MAX: 2\n"
     ]
    }
   ],
   "source": [
    "plot_trend(['natural language'])"
   ]
  },
  {
   "cell_type": "code",
   "execution_count": 165,
   "metadata": {},
   "outputs": [
    {
     "name": "stdout",
     "output_type": "stream",
     "text": [
      "There are 204 companies with words ['photography']\n",
      "Number of acquisition: 26\n",
      "1807     Freedom Scientific Holdings, LLC\n",
      "3485                                Ofoto\n",
      "6117                           PhotoWorks\n",
      "6396                          Lexar Media\n",
      "6420                        Zenfolio, Inc\n",
      "6692                       Eyetel Imaging\n",
      "7126                                  Bix\n",
      "7672                            MediaVast\n",
      "9502                              Buzznet\n",
      "10229                            dotPhoto\n",
      "11221                       Tiny Pictures\n",
      "13814                      Digital Sports\n",
      "14321                          TravelMuse\n",
      "15946                      Bella Pictures\n",
      "20008                        ALEXANDALEXA\n",
      "21562                                Mag+\n",
      "22150                            Fotomoto\n",
      "22168                         Exclusively\n",
      "23317                            Bagcheck\n",
      "27795                             Behance\n",
      "34005                         Saatchi Art\n",
      "38182                         TradeGlobal\n",
      "51912                             Craftsy\n",
      "58144                           FindYahan\n",
      "78738                        Terminal.com\n",
      "86118                         Skill & You\n",
      "Name: company_name, dtype: object\n",
      "Number of acquisition with price information: 5\n",
      "Number of acquisition with price less than MAX: 4\n"
     ]
    }
   ],
   "source": [
    "plot_trend(['photography'])"
   ]
  },
  {
   "cell_type": "code",
   "execution_count": null,
   "metadata": {
    "collapsed": true
   },
   "outputs": [],
   "source": []
  }
 ],
 "metadata": {
  "kernelspec": {
   "display_name": "Python 2",
   "language": "python",
   "name": "python2"
  },
  "language_info": {
   "codemirror_mode": {
    "name": "ipython",
    "version": 2
   },
   "file_extension": ".py",
   "mimetype": "text/x-python",
   "name": "python",
   "nbconvert_exporter": "python",
   "pygments_lexer": "ipython2",
   "version": "2.7.10"
  }
 },
 "nbformat": 4,
 "nbformat_minor": 2
}
