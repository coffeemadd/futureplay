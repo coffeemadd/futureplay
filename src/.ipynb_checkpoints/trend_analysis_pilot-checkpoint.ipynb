{
 "cells": [
  {
   "cell_type": "code",
   "execution_count": 224,
   "metadata": {
    "collapsed": true
   },
   "outputs": [],
   "source": [
    "import pandas as pd\n",
    "import re\n",
    "import gensim\n",
    "import pickle\n",
    "from datetime import datetime"
   ]
  },
  {
   "cell_type": "code",
   "execution_count": 109,
   "metadata": {},
   "outputs": [],
   "source": [
    "# load data\n",
    "data_folder = '../data/csv_export/'\n",
    "util_folder = '../util/'\n",
    "df_organizations = pd.read_csv(data_folder + 'organizations.csv'.format(data_folder), dtype={'first_funding_on': str, 'last_funding_on':str})\n",
    "df_description = pd.read_csv(data_folder + 'organization_descriptions.csv')"
   ]
  },
  {
   "cell_type": "code",
   "execution_count": 190,
   "metadata": {},
   "outputs": [],
   "source": [
    "df_organizations['founded_on'] = pd.to_datetime(df_organizations['founded_on'], errors='ignore')"
   ]
  },
  {
   "cell_type": "code",
   "execution_count": 110,
   "metadata": {
    "collapsed": true
   },
   "outputs": [],
   "source": [
    "# clean string into list of word tokens\n",
    "def clean(string):\n",
    "    # remove non-alphabet\n",
    "    string = re.sub(\"[^a-zA-Z]\", \" \", string)\n",
    "    # lower case\n",
    "    string = string.lower()\n",
    "    # remove word with length 1\n",
    "    string = [word for word in string.split() if len(word) > 1]    \n",
    "    return string"
   ]
  },
  {
   "cell_type": "code",
   "execution_count": 122,
   "metadata": {},
   "outputs": [
    {
     "name": "stdout",
     "output_type": "stream",
     "text": [
      "0 / 346275\n",
      "50000 / 346275\n",
      "nan\n",
      "nan\n",
      "100000 / 346275\n",
      "150000 / 346275\n",
      "200000 / 346275\n",
      "250000 / 346275\n",
      "300000 / 346275\n",
      "nan\n",
      "learning bigrams\n"
     ]
    }
   ],
   "source": [
    "# read sentences\n",
    "print('reading descriptions')\n",
    "sentences = []\n",
    "for index, row in df_description.iterrows():\n",
    "    try:\n",
    "        token_list = clean(row['description'])\n",
    "    except TypeError:\n",
    "        print(row['description'])\n",
    "    sentences.append(token_list)\n",
    "    if index % 50000 == 0: print('{} / {}'.format(index, df_description.shape[0]))\n",
    "        \n",
    "# learn bigrams\n",
    "print('learning bigrams')\n",
    "bigram_transformer = gensim.models.Phrases(sentences)\n",
    "print('getting bigram sentences')\n",
    "bigram_sentences = bigram_transformer[sentences]"
   ]
  },
  {
   "cell_type": "code",
   "execution_count": 132,
   "metadata": {},
   "outputs": [
    {
     "name": "stdout",
     "output_type": "stream",
     "text": [
      "creating dictionary of 346275 documents\n",
      "before: Dictionary(434521 unique tokens: [u'must_pass', u'sowela', u'mdbg', u'soscharger', u'spiderg']...)\n",
      "after: Dictionary(57082 unique tokens: [u'must_pass', u'cleveland_oh', u'clinical_laboratory', u'localizes', u'standardized_tests']...)\n"
     ]
    }
   ],
   "source": [
    "# create dictionary\n",
    "print('creating dictionary of {} documents'.format(len(sentences)))\n",
    "dictionary = gensim.corpora.dictionary.Dictionary()\n",
    "dictionary.add_documents(bigram_sentences)\n",
    "\n",
    "# filter extreme\n",
    "print('before: {}'.format(dictionary))\n",
    "dictionary.filter_extremes(no_above=0.1, no_below=10)\n",
    "print('after: {}'.format(dictionary))\n",
    "\n",
    "# save dictionary \n",
    "dictionary.save(util_folder + 'dictionary.pickle')"
   ]
  },
  {
   "cell_type": "code",
   "execution_count": 165,
   "metadata": {},
   "outputs": [
    {
     "name": "stdout",
     "output_type": "stream",
     "text": [
      "0 / 346275\n",
      "10000 / 346275\n",
      "20000 / 346275\n",
      "30000 / 346275\n",
      "40000 / 346275\n",
      "50000 / 346275\n",
      "60000 / 346275\n",
      "70000 / 346275\n",
      "nan\n",
      "80000 / 346275\n",
      "90000 / 346275\n",
      "nan\n",
      "100000 / 346275\n",
      "110000 / 346275\n",
      "120000 / 346275\n",
      "130000 / 346275\n",
      "140000 / 346275\n",
      "150000 / 346275\n",
      "160000 / 346275\n",
      "170000 / 346275\n",
      "180000 / 346275\n",
      "190000 / 346275\n",
      "200000 / 346275\n",
      "210000 / 346275\n",
      "220000 / 346275\n",
      "230000 / 346275\n",
      "240000 / 346275\n",
      "250000 / 346275\n",
      "260000 / 346275\n",
      "270000 / 346275\n",
      "280000 / 346275\n",
      "290000 / 346275\n",
      "300000 / 346275\n",
      "310000 / 346275\n",
      "320000 / 346275\n",
      "330000 / 346275\n",
      "nan\n",
      "340000 / 346275\n"
     ]
    }
   ],
   "source": [
    "word2company = {}\n",
    "company2word = {}\n",
    "for index, row in df_description.iterrows():\n",
    "    company = row[0]\n",
    "#     if index == 100: break\n",
    "    if index % 10000 == 0: print('{} / {}'.format(index, df_description.shape[0]))\n",
    "    try:\n",
    "        sentence = clean(row['description'])\n",
    "    except TypeError:\n",
    "        print(row['description'])\n",
    "    bigram_sentence = bigram_transformer[sentence]\n",
    "    company2word[company] = []\n",
    "    for word in bigram_sentence:\n",
    "        if word not in word2company: word2company[word] = []\n",
    "        word2company[word].append(company)\n",
    "        company2word[company].append(word)\n",
    "\n",
    "for word, _list in word2company.items():\n",
    "    _list = list(set(_list))\n",
    "    word2company[word] = _list\n",
    "    \n",
    "for company, _list in company2word.items():\n",
    "    _list = list(set(_list))\n",
    "    company2word[company] = _list\n",
    "    \n",
    "f = open(util_folder + 'word2company.pickle', 'w')\n",
    "pickle.dump(word2company, f)\n",
    "f.close()\n",
    "\n",
    "f = open(util_folder + 'company2word.pickle', 'w')\n",
    "pickle.dump(company2word, f)\n",
    "f.close()\n"
   ]
  },
  {
   "cell_type": "code",
   "execution_count": null,
   "metadata": {
    "collapsed": true
   },
   "outputs": [],
   "source": [
    "# # run word2vec to learn word similarity\n",
    "# gensim.models.word2vec"
   ]
  },
  {
   "cell_type": "code",
   "execution_count": 287,
   "metadata": {},
   "outputs": [],
   "source": [
    "# get list of companies with deep learning\n",
    "# plot their 'founded_on'\n",
    "def plot_trend(word, condition = 'founded_on'):\n",
    "    if ' ' in word:\n",
    "        word = word.replace(' ', '_')\n",
    "    if word not in word2company:\n",
    "        print('sorry [{}] is not in the vocabulary'.format(word))\n",
    "        return\n",
    "    companies = word2company[word]\n",
    "    dates = df_organizations[df_organizations['uuid'].isin(companies)][condition].values\n",
    "\n",
    "    new_dates = []\n",
    "    for date in dates:\n",
    "        try:\n",
    "            date = datetime.strptime(date, '%Y-%m-%d')\n",
    "            new_dates.append(date)\n",
    "        except Exception as e:\n",
    "            pass\n",
    "\n",
    "    print('target word: {}, unique companies: {}, out of which {} meet condition,'.format(word, len(companies), len(dates)))\n",
    "    df = pd.DataFrame({'dates':new_dates})\n",
    "    df.dates = pd.to_datetime(df.dates)\n",
    "#     df.groupby([df[\"dates\"].dt.year]).count().plot(kind='bar', figsize = (8, 4))\n",
    "    df.groupby([df[\"dates\"].dt.year, df[\"dates\"].dt.quarter]).count().plot(kind='bar', figsize = (15, 4))"
   ]
  },
  {
   "cell_type": "code",
   "execution_count": 292,
   "metadata": {
    "scrolled": true
   },
   "outputs": [
    {
     "name": "stdout",
     "output_type": "stream",
     "text": [
      "target word: artificial_intelligence, unique companies: 1205, out of which 1205 meet condition,\n"
     ]
    },
    {
     "data": {
      "image/png": "[encoded data removed]",
      "text/plain": [
       "<matplotlib.figure.Figure at 0x21e97f610>"
      ]
     },
     "metadata": {},
     "output_type": "display_data"
    }
   ],
   "source": [
    "# plot_trend('deep learning')\n",
    "# plot_trend('deep learning', condition = 'first_funding_on')\n",
    "# plot_trend('artificial intelligence')\n",
    "plot_trend('artificial intelligence', condition = 'first_funding_on')\n",
    "# plot_trend('autonomous driving')"
   ]
  },
  {
   "cell_type": "code",
   "execution_count": null,
   "metadata": {
    "collapsed": true
   },
   "outputs": [],
   "source": []
  }
 ],
 "metadata": {
  "kernelspec": {
   "display_name": "Python 2",
   "language": "python",
   "name": "python2"
  },
  "language_info": {
   "codemirror_mode": {
    "name": "ipython",
    "version": 2
   },
   "file_extension": ".py",
   "mimetype": "text/x-python",
   "name": "python",
   "nbconvert_exporter": "python",
   "pygments_lexer": "ipython2",
   "version": "2.7.10"
  }
 },
 "nbformat": 4,
 "nbformat_minor": 2
}
