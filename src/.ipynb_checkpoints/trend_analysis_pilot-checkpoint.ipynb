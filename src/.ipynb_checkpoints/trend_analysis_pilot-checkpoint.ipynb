{
 "cells": [
  {
   "cell_type": "code",
   "execution_count": 7,
   "metadata": {
    "collapsed": true
   },
   "outputs": [],
   "source": [
    "import pandas as pd\n",
    "import re\n",
    "import gensim\n",
    "import pickle\n",
    "from datetime import datetime\n",
    "from matplotlib import pyplot as plt\n",
    "import networkx as nx\n",
    "import operator\n",
    "%matplotlib inline"
   ]
  },
  {
   "cell_type": "code",
   "execution_count": 3,
   "metadata": {
    "collapsed": true
   },
   "outputs": [],
   "source": [
    "# load data\n",
    "data_folder = '../data/csv_export/'\n",
    "util_folder = '../util/'\n",
    "df_organizations = pd.read_csv(data_folder + 'organizations.csv'.format(data_folder), dtype={'first_funding_on': str, 'last_funding_on':str})\n",
    "df_description = pd.read_csv(data_folder + 'organization_descriptions.csv')"
   ]
  },
  {
   "cell_type": "code",
   "execution_count": 4,
   "metadata": {
    "collapsed": true
   },
   "outputs": [],
   "source": [
    "# df_organizations['founded_on'] = pd.to_datetime(df_organizations['founded_on'], errors='ignore')"
   ]
  },
  {
   "cell_type": "code",
   "execution_count": 4,
   "metadata": {
    "collapsed": true
   },
   "outputs": [],
   "source": [
    "# clean string into list of word tokens\n",
    "# input: string\n",
    "# output: list of clean word tokens\n",
    "def clean(string):\n",
    "    # remove non-alphabet\n",
    "    string = re.sub(\"[^a-zA-Z]\", \" \", string)\n",
    "    # lower case\n",
    "    string = string.lower()\n",
    "    # remove word with length 1\n",
    "    string = [word for word in string.split() if len(word) > 1]    \n",
    "    return string"
   ]
  },
  {
   "cell_type": "code",
   "execution_count": 5,
   "metadata": {},
   "outputs": [
    {
     "name": "stdout",
     "output_type": "stream",
     "text": [
      "reading descriptions\n",
      "0 / 346275\n",
      "50000 / 346275\n",
      "nan\n",
      "nan\n",
      "100000 / 346275\n",
      "150000 / 346275\n",
      "200000 / 346275\n",
      "250000 / 346275\n",
      "300000 / 346275\n",
      "nan\n",
      "learning bigrams\n",
      "getting bigram sentences\n"
     ]
    },
    {
     "name": "stderr",
     "output_type": "stream",
     "text": [
      "/Users/joonheekim/Projects/futureplay/venv/lib/python2.7/site-packages/gensim/models/phrases.py:274: UserWarning: For a faster implementation, use the gensim.models.phrases.Phraser class\n",
      "  warnings.warn(\"For a faster implementation, use the gensim.models.phrases.Phraser class\")\n"
     ]
    }
   ],
   "source": [
    "# 1. create corpus (sentences)\n",
    "# 2. learn bigram from corpus\n",
    "print('reading descriptions')\n",
    "sentences = []\n",
    "for index, row in df_description.iterrows():\n",
    "    try:\n",
    "        token_list = clean(row['description'])\n",
    "    except TypeError:\n",
    "        print(row['description'])\n",
    "    sentences.append(token_list)\n",
    "    if index % 50000 == 0: print('{} / {}'.format(index, df_description.shape[0]))\n",
    "        \n",
    "print('learning bigrams')\n",
    "bigram_transformer = gensim.models.Phrases(sentences)\n",
    "print('getting bigram sentences')\n",
    "bigram_sentences = bigram_transformer[sentences]"
   ]
  },
  {
   "cell_type": "code",
   "execution_count": 23,
   "metadata": {},
   "outputs": [
    {
     "name": "stdout",
     "output_type": "stream",
     "text": [
      "creating dictionary of 346275 documents\n",
      "before: Dictionary(0 unique tokens: [])\n",
      "after: Dictionary(0 unique tokens: [])\n"
     ]
    }
   ],
   "source": [
    "# create dictionary\n",
    "print('creating dictionary of {} documents'.format(len(sentences)))\n",
    "dictionary = gensim.corpora.dictionary.Dictionary()\n",
    "dictionary.add_documents(bigram_sentences)\n",
    "\n",
    "# filter extreme\n",
    "print('before: {}'.format(dictionary))\n",
    "dictionary.filter_extremes(no_above=0.1, no_below=10)\n",
    "print('after: {}'.format(dictionary))\n",
    "\n",
    "# save dictionary \n",
    "dictionary.save(util_folder + 'dictionary.pickle')"
   ]
  },
  {
   "cell_type": "code",
   "execution_count": 165,
   "metadata": {},
   "outputs": [
    {
     "name": "stdout",
     "output_type": "stream",
     "text": [
      "0 / 346275\n",
      "10000 / 346275\n",
      "20000 / 346275\n",
      "30000 / 346275\n",
      "40000 / 346275\n",
      "50000 / 346275\n",
      "60000 / 346275\n",
      "70000 / 346275\n",
      "nan\n",
      "80000 / 346275\n",
      "90000 / 346275\n",
      "nan\n",
      "100000 / 346275\n",
      "110000 / 346275\n",
      "120000 / 346275\n",
      "130000 / 346275\n",
      "140000 / 346275\n",
      "150000 / 346275\n",
      "160000 / 346275\n",
      "170000 / 346275\n",
      "180000 / 346275\n",
      "190000 / 346275\n",
      "200000 / 346275\n",
      "210000 / 346275\n",
      "220000 / 346275\n",
      "230000 / 346275\n",
      "240000 / 346275\n",
      "250000 / 346275\n",
      "260000 / 346275\n",
      "270000 / 346275\n",
      "280000 / 346275\n",
      "290000 / 346275\n",
      "300000 / 346275\n",
      "310000 / 346275\n",
      "320000 / 346275\n",
      "330000 / 346275\n",
      "nan\n",
      "340000 / 346275\n"
     ]
    }
   ],
   "source": [
    "# build map word <-> company\n",
    "# this will be used to retrieve company given word, and vice versa\n",
    "word2company = {}\n",
    "company2word = {}\n",
    "for index, row in df_description.iterrows():\n",
    "    company = row[0]\n",
    "#     if index == 100: break\n",
    "    if index % 10000 == 0: print('{} / {}'.format(index, df_description.shape[0]))\n",
    "    try:\n",
    "        sentence = clean(row['description'])\n",
    "    except TypeError:\n",
    "        print(row['description'])\n",
    "    bigram_sentence = bigram_transformer[sentence]\n",
    "    company2word[company] = []\n",
    "    for word in bigram_sentence:\n",
    "        if word not in word2company: word2company[word] = []\n",
    "        word2company[word].append(company)\n",
    "        company2word[company].append(word)\n",
    "\n",
    "for word, _list in word2company.items():\n",
    "    _list = list(set(_list))\n",
    "    word2company[word] = _list\n",
    "    \n",
    "for company, _list in company2word.items():\n",
    "    _list = list(set(_list))\n",
    "    company2word[company] = _list\n",
    "    \n",
    "f = open(util_folder + 'word2company.pickle', 'w')\n",
    "pickle.dump(word2company, f)\n",
    "f.close()\n",
    "\n",
    "f = open(util_folder + 'company2word.pickle', 'w')\n",
    "pickle.dump(company2word, f)\n",
    "f.close()\n"
   ]
  },
  {
   "cell_type": "code",
   "execution_count": 25,
   "metadata": {},
   "outputs": [
    {
     "name": "stdout",
     "output_type": "stream",
     "text": [
      "0 346275\n",
      "10000 346275\n",
      "20000 346275\n",
      "30000 346275\n",
      "40000 346275\n",
      "50000 346275\n",
      "60000 346275\n",
      "70000 346275\n",
      "80000 346275\n",
      "90000 346275\n",
      "100000 346275\n",
      "110000 346275\n",
      "120000 346275\n",
      "130000 346275\n",
      "140000 346275\n",
      "150000 346275\n",
      "160000 346275\n",
      "170000 346275\n",
      "180000 346275\n",
      "190000 346275\n",
      "200000 346275\n",
      "210000 346275\n",
      "220000 346275\n",
      "230000 346275\n",
      "240000 346275\n",
      "250000 346275\n",
      "260000 346275\n",
      "270000 346275\n",
      "280000 346275\n",
      "290000 346275\n",
      "300000 346275\n",
      "310000 346275\n",
      "320000 346275\n",
      "330000 346275\n",
      "340000 346275\n"
     ]
    }
   ],
   "source": [
    "# run word2vec to learn word similarity\n",
    "# transform corpus to include bigrams\n",
    "bigram_sentences_for_word2vec = []\n",
    "count = 0\n",
    "for sentence in sentences:\n",
    "    if count % 10000 == 0: print count, len(sentences)\n",
    "    bigram_sentence = bigram_transformer[sentence]\n",
    "    bigram_sentences_for_word2vec.append(bigram_sentence)\n",
    "    count += 1\n",
    "\n",
    "# run word2vec and save result\n",
    "model = gensim.models.word2vec.Word2Vec(bigram_sentences_for_word2vec, iter = 30)\n",
    "model.save(util_folder + 'word2vec')"
   ]
  },
  {
   "cell_type": "code",
   "execution_count": 51,
   "metadata": {
    "collapsed": true
   },
   "outputs": [],
   "source": [
    "# get list of companies with deep learning\n",
    "# plot their 'founded_on'\n",
    "# add capacity to add more words as parameter\n",
    "def plot_trend(words, condition = 'founded_on', expand = False):\n",
    "    if 'word2company' not in globals():\n",
    "        print('loading word2company')\n",
    "        global word2company\n",
    "        word2company = pickle.load(open(util_folder + 'word2company.pickle'))\n",
    "    if 'model' not in globals():\n",
    "        print('loading word2vec model')\n",
    "        global model\n",
    "        model = gensim.models.word2vec.Word2Vec.load(util_folder + 'word2vec')\n",
    "        \n",
    "    # expand word set\n",
    "    final_words = []\n",
    "    if type(words) == str:\n",
    "        words = [words]\n",
    "    for word in words:\n",
    "        if ' ' in word:\n",
    "            word = word.replace(' ', '_')\n",
    "        if expand:\n",
    "            _words = model.most_similar(word)\n",
    "            _words = [str(_word) for _word, sim in _words]\n",
    "            final_words.extend(_words)\n",
    "        final_words.append(word)\n",
    "    final_words = list(set(final_words))\n",
    "\n",
    "    # choose companies that have relevant words    \n",
    "    companies = []\n",
    "    for word in final_words:\n",
    "        _companies = word2company.get(word, [])\n",
    "        companies.extend(_companies)\n",
    "    companies = list(set(companies))\n",
    "\n",
    "    dates = df_organizations[df_organizations['uuid'].isin(companies)][condition].values\n",
    "    new_dates = []\n",
    "    for date in dates:\n",
    "        try:\n",
    "            date = datetime.strptime(date, '%Y-%m-%d')\n",
    "            new_dates.append(date)\n",
    "        except Exception as e:\n",
    "            pass\n",
    "\n",
    "    print('target word: {}, unique companies: {}, out of which {} meet condition,'.format(final_words, len(companies), len(new_dates)))\n",
    "    df = pd.DataFrame({'dates':new_dates})\n",
    "    df.dates = pd.to_datetime(df.dates)\n",
    "#     df.groupby([df[\"dates\"].dt.year]).count().plot(kind='bar', figsize = (8, 4))\n",
    "    df.groupby([df[\"dates\"].dt.year, df[\"dates\"].dt.quarter]).count().plot(kind='bar', figsize = (15, 4))"
   ]
  },
  {
   "cell_type": "code",
   "execution_count": 63,
   "metadata": {
    "scrolled": true
   },
   "outputs": [
    {
     "name": "stdout",
     "output_type": "stream",
     "text": [
      "target word: ['neural_network', 'computer_vision', 'neural_networks', 'machine_learning', 'artificial_intelligence', 'deep_learning'], unique companies: 2991, out of which 1510 meet condition,\n"
     ]
    },
    {
     "data": {
      "image/png": "[encoded data removed]",
      "text/plain": [
       "<matplotlib.figure.Figure at 0x191eb3e50>"
      ]
     },
     "metadata": {},
     "output_type": "display_data"
    }
   ],
   "source": [
    "# plot_trend('deep learning')\n",
    "# plot_trend(['deep learning'], condition = 'founded_on', expand = False)\n",
    "plot_trend(['deep learning', 'neural network', 'computer vision', 'neural networks', 'machine learning', 'artificial intelligence'], condition = 'first_funding_on', expand = False)\n",
    "# plot_trend('fintech', condition = 'first_funding_on', expand = False)\n",
    "# plot_trend('artificial intelligence')\n",
    "# plot_trend('artificial intelligence', condition = 'first_funding_on', expand = True)\n",
    "# plot_trend('connected car', condition = 'first_funding_on', expand = False)"
   ]
  },
  {
   "cell_type": "code",
   "execution_count": 13,
   "metadata": {},
   "outputs": [
    {
     "name": "stdout",
     "output_type": "stream",
     "text": [
      "0 346275\n",
      "10000 346275\n",
      "20000 346275\n",
      "30000 346275\n",
      "40000 346275\n",
      "50000 346275\n",
      "60000 346275\n",
      "70000 346275\n",
      "80000 346275\n",
      "90000 346275\n",
      "100000 346275\n",
      "110000 346275\n",
      "120000 346275\n",
      "130000 346275\n",
      "140000 346275\n",
      "150000 346275\n",
      "160000 346275\n",
      "170000 346275\n",
      "180000 346275\n",
      "190000 346275\n",
      "200000 346275\n",
      "210000 346275\n",
      "220000 346275\n",
      "230000 346275\n",
      "240000 346275\n",
      "250000 346275\n",
      "260000 346275\n",
      "270000 346275\n",
      "280000 346275\n",
      "290000 346275\n",
      "300000 346275\n",
      "310000 346275\n",
      "320000 346275\n",
      "330000 346275\n",
      "340000 346275\n",
      "0 346275\n"
     ]
    },
    {
     "name": "stderr",
     "output_type": "stream",
     "text": [
      "Exception KeyboardInterrupt in 'zmq.backend.cython.message.Frame.__dealloc__' ignored\n"
     ]
    },
    {
     "ename": "KeyboardInterrupt",
     "evalue": "",
     "output_type": "error",
     "traceback": [
      "\u001b[0;31m------------------------------------------------------------\u001b[0m",
      "\u001b[0;31mKeyboardInterrupt\u001b[0m          Traceback (most recent call last)",
      "\u001b[0;32m<ipython-input-13-84823090b1d4>\u001b[0m in \u001b[0;36m<module>\u001b[0;34m()\u001b[0m\n\u001b[1;32m     29\u001b[0m             \u001b[0;32mif\u001b[0m \u001b[0mi\u001b[0m \u001b[0;34m==\u001b[0m \u001b[0mj\u001b[0m\u001b[0;34m:\u001b[0m \u001b[0;32mcontinue\u001b[0m\u001b[0;34m\u001b[0m\u001b[0m\n\u001b[1;32m     30\u001b[0m             \u001b[0;32mif\u001b[0m \u001b[0mword1\u001b[0m \u001b[0;32min\u001b[0m \u001b[0mgood_words\u001b[0m \u001b[0;32mand\u001b[0m \u001b[0mword2\u001b[0m \u001b[0;32min\u001b[0m \u001b[0mgood_words\u001b[0m\u001b[0;34m:\u001b[0m\u001b[0;34m\u001b[0m\u001b[0m\n\u001b[0;32m---> 31\u001b[0;31m                 \u001b[0mg\u001b[0m\u001b[0;34m.\u001b[0m\u001b[0madd_edge\u001b[0m\u001b[0;34m(\u001b[0m\u001b[0mword1\u001b[0m\u001b[0;34m,\u001b[0m \u001b[0mword2\u001b[0m\u001b[0;34m)\u001b[0m\u001b[0;34m\u001b[0m\u001b[0m\n\u001b[0m\u001b[1;32m     32\u001b[0m \u001b[0;34m\u001b[0m\u001b[0m\n\u001b[1;32m     33\u001b[0m \u001b[0mcentral\u001b[0m \u001b[0;34m=\u001b[0m \u001b[0mnx\u001b[0m\u001b[0;34m.\u001b[0m\u001b[0mdegree_centrality\u001b[0m\u001b[0;34m(\u001b[0m\u001b[0mg\u001b[0m\u001b[0;34m)\u001b[0m\u001b[0;34m\u001b[0m\u001b[0m\n",
      "\u001b[0;32m/Users/joonheekim/Projects/futureplay/venv/lib/python2.7/site-packages/networkx/classes/graph.pyc\u001b[0m in \u001b[0;36madd_edge\u001b[0;34m(self, u, v, attr_dict, **attr)\u001b[0m\n\u001b[1;32m    796\u001b[0m             \u001b[0mself\u001b[0m\u001b[0;34m.\u001b[0m\u001b[0mnode\u001b[0m\u001b[0;34m[\u001b[0m\u001b[0mv\u001b[0m\u001b[0;34m]\u001b[0m \u001b[0;34m=\u001b[0m \u001b[0;34m{\u001b[0m\u001b[0;34m}\u001b[0m\u001b[0;34m\u001b[0m\u001b[0m\n\u001b[1;32m    797\u001b[0m         \u001b[0;31m# add the edge\u001b[0m\u001b[0;34m\u001b[0m\u001b[0;34m\u001b[0m\u001b[0m\n\u001b[0;32m--> 798\u001b[0;31m         \u001b[0mdatadict\u001b[0m \u001b[0;34m=\u001b[0m \u001b[0mself\u001b[0m\u001b[0;34m.\u001b[0m\u001b[0madj\u001b[0m\u001b[0;34m[\u001b[0m\u001b[0mu\u001b[0m\u001b[0;34m]\u001b[0m\u001b[0;34m.\u001b[0m\u001b[0mget\u001b[0m\u001b[0;34m(\u001b[0m\u001b[0mv\u001b[0m\u001b[0;34m,\u001b[0m \u001b[0mself\u001b[0m\u001b[0;34m.\u001b[0m\u001b[0medge_attr_dict_factory\u001b[0m\u001b[0;34m(\u001b[0m\u001b[0;34m)\u001b[0m\u001b[0;34m)\u001b[0m\u001b[0;34m\u001b[0m\u001b[0m\n\u001b[0m\u001b[1;32m    799\u001b[0m         \u001b[0mdatadict\u001b[0m\u001b[0;34m.\u001b[0m\u001b[0mupdate\u001b[0m\u001b[0;34m(\u001b[0m\u001b[0mattr_dict\u001b[0m\u001b[0;34m)\u001b[0m\u001b[0;34m\u001b[0m\u001b[0m\n\u001b[1;32m    800\u001b[0m         \u001b[0mself\u001b[0m\u001b[0;34m.\u001b[0m\u001b[0madj\u001b[0m\u001b[0;34m[\u001b[0m\u001b[0mu\u001b[0m\u001b[0;34m]\u001b[0m\u001b[0;34m[\u001b[0m\u001b[0mv\u001b[0m\u001b[0;34m]\u001b[0m \u001b[0;34m=\u001b[0m \u001b[0mdatadict\u001b[0m\u001b[0;34m\u001b[0m\u001b[0m\n",
      "\u001b[0;31mKeyboardInterrupt\u001b[0m: "
     ]
    }
   ],
   "source": [
    "# run word2vec to learn word similarity\n",
    "# transform corpus to include bigrams\n",
    "no_below = 10\n",
    "no_above = 0.1\n",
    "bigram_sentences_for_wordrank = []\n",
    "count = 0\n",
    "df = {}\n",
    "for sentence in sentences:\n",
    "    if count % 10000 == 0: print count, len(sentences)\n",
    "    bigram_sentence = bigram_transformer[sentence]\n",
    "    word_list = list(set(bigram_sentence))\n",
    "    for word in word_list:\n",
    "        df[word] = df.get(word, 0) + 1\n",
    "    bigram_sentences_for_wordrank.append(bigram_sentence)\n",
    "    count += 1\n",
    "\n",
    "good_words = {}\n",
    "for word, count in df.items():\n",
    "    if count > no_below and count < len(sentences) * no_above:\n",
    "        good_words[word] = None\n",
    "    "
   ]
  },
  {
   "cell_type": "code",
   "execution_count": null,
   "metadata": {},
   "outputs": [
    {
     "name": "stdout",
     "output_type": "stream",
     "text": [
      "53603\n",
      "0 346275\n"
     ]
    }
   ],
   "source": [
    "print(len(good_words))\n",
    "g = nx.Graph()\n",
    "count = 0\n",
    "for sentence in bigram_sentences_for_wordrank:\n",
    "    if count % 1000 == 0: print count, len(sentences)\n",
    "    count += 1\n",
    "    for i, word1 in enumerate(sentence):\n",
    "        for j, word2 in enumerate(sentence):\n",
    "            if i == j: continue\n",
    "            if word1 in good_words and word2 in good_words:\n",
    "                g.add_edge(word1, word2)\n",
    "\n",
    "central = nx.degree_centrality(g)\n",
    "central = sorted(central.items(), key=operator.itemgetter(1))\n",
    "central.reverse()\n",
    "words = [word for word, value in central]\n",
    "print words[:100]"
   ]
  },
  {
   "cell_type": "code",
   "execution_count": null,
   "metadata": {
    "collapsed": true
   },
   "outputs": [],
   "source": []
  }
 ],
 "metadata": {
  "kernelspec": {
   "display_name": "Python 2",
   "language": "python",
   "name": "python2"
  },
  "language_info": {
   "codemirror_mode": {
    "name": "ipython",
    "version": 2
   },
   "file_extension": ".py",
   "mimetype": "text/x-python",
   "name": "python",
   "nbconvert_exporter": "python",
   "pygments_lexer": "ipython2",
   "version": "2.7.10"
  }
 },
 "nbformat": 4,
 "nbformat_minor": 2
}
