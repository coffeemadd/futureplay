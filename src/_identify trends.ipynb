{
 "cells": [
  {
   "cell_type": "code",
   "execution_count": 217,
   "metadata": {
    "collapsed": true
   },
   "outputs": [],
   "source": [
    "# competitor analysis"
   ]
  },
  {
   "cell_type": "code",
   "execution_count": 218,
   "metadata": {
    "collapsed": true
   },
   "outputs": [],
   "source": [
    "import re, gensim, pickle, operator\n",
    "import pandas as pd\n",
    "import numpy as np\n",
    "import networkx as nx\n",
    "import seaborn as sns\n",
    "from datetime import datetime\n",
    "from matplotlib import pyplot as plt\n",
    "%matplotlib inline"
   ]
  },
  {
   "cell_type": "code",
   "execution_count": 219,
   "metadata": {
    "collapsed": true
   },
   "outputs": [],
   "source": [
    "# load data\n",
    "data_folder = '../data/csv_export/'\n",
    "util_folder = '../util/'\n",
    "trend_folder = '../data/trends/'\n",
    "df_organizations = pd.read_csv(data_folder + 'organizations.csv'.format(data_folder), dtype={'first_funding_on': str, 'last_funding_on':str})\n",
    "df_description = pd.read_csv(data_folder + 'organization_descriptions.csv')\n",
    "df_funding_rounds = pd.read_csv(data_folder + 'funding_rounds.csv')\n",
    "df_funds = pd.read_csv(data_folder + 'funds.csv')\n",
    "df_investments = pd.read_csv(data_folder + 'investments.csv')\n",
    "df_acq = pd.read_csv(data_folder + 'acquisitions.csv')\n",
    "df_competition = pd.read_csv(data_folder + 'competitors.csv')\n",
    "df_category = pd.read_csv(data_folder + 'category_groups.csv')\n",
    "df_investors = pd.read_csv(data_folder + 'investors.csv')"
   ]
  },
  {
   "cell_type": "code",
   "execution_count": 220,
   "metadata": {},
   "outputs": [
    {
     "data": {
      "text/html": [
       "<div>\n",
       "<style>\n",
       "    .dataframe thead tr:only-child th {\n",
       "        text-align: right;\n",
       "    }\n",
       "\n",
       "    .dataframe thead th {\n",
       "        text-align: left;\n",
       "    }\n",
       "\n",
       "    .dataframe tbody tr th {\n",
       "        vertical-align: top;\n",
       "    }\n",
       "</style>\n",
       "<table border=\"1\" class=\"dataframe\">\n",
       "  <thead>\n",
       "    <tr style=\"text-align: right;\">\n",
       "      <th></th>\n",
       "      <th>uuid</th>\n",
       "      <th>category</th>\n",
       "    </tr>\n",
       "  </thead>\n",
       "  <tbody>\n",
       "    <tr>\n",
       "      <th>0</th>\n",
       "      <td>1e4f199c-363b-451b-a164-f94571075ee5</td>\n",
       "      <td>hardware</td>\n",
       "    </tr>\n",
       "    <tr>\n",
       "      <th>0</th>\n",
       "      <td>1e4f199c-363b-451b-a164-f94571075ee5</td>\n",
       "      <td>manufacturing</td>\n",
       "    </tr>\n",
       "    <tr>\n",
       "      <th>0</th>\n",
       "      <td>1e4f199c-363b-451b-a164-f94571075ee5</td>\n",
       "      <td>product design</td>\n",
       "    </tr>\n",
       "    <tr>\n",
       "      <th>0</th>\n",
       "      <td>1e4f199c-363b-451b-a164-f94571075ee5</td>\n",
       "      <td>semiconductor</td>\n",
       "    </tr>\n",
       "    <tr>\n",
       "      <th>1</th>\n",
       "      <td>6681b1b0-0cea-6a4a-820d-60b15793fa66</td>\n",
       "      <td>hardware</td>\n",
       "    </tr>\n",
       "  </tbody>\n",
       "</table>\n",
       "</div>"
      ],
      "text/plain": [
       "                                   uuid        category\n",
       "0  1e4f199c-363b-451b-a164-f94571075ee5        hardware\n",
       "0  1e4f199c-363b-451b-a164-f94571075ee5   manufacturing\n",
       "0  1e4f199c-363b-451b-a164-f94571075ee5  product design\n",
       "0  1e4f199c-363b-451b-a164-f94571075ee5   semiconductor\n",
       "1  6681b1b0-0cea-6a4a-820d-60b15793fa66        hardware"
      ]
     },
     "execution_count": 220,
     "metadata": {},
     "output_type": "execute_result"
    }
   ],
   "source": [
    "# 각 카테고리에 속하는 회사들의 펀딩 찍어보기\n",
    "# 회사-카테고리 매핑\n",
    "df_category = df_organizations[['uuid','category_list']]\n",
    "df2 = df_category['category_list'].str.split('|').apply(pd.Series, 1).stack()\n",
    "df2.index = df2.index.droplevel(-1)\n",
    "df2.name = 'category_list'\n",
    "del df_category['category_list']\n",
    "df_category = df_category.join(df2)\n",
    "df_category.columns = ['uuid', 'category']\n",
    "df_category.head()"
   ]
  },
  {
   "cell_type": "code",
   "execution_count": 221,
   "metadata": {
    "collapsed": true
   },
   "outputs": [],
   "source": [
    "# 회사-funding_round_uuid 매핑\n",
    "# 카테고리-투자회사-시점 매핑?"
   ]
  },
  {
   "cell_type": "code",
   "execution_count": 222,
   "metadata": {},
   "outputs": [
    {
     "data": {
      "text/html": [
       "<div>\n",
       "<style>\n",
       "    .dataframe thead tr:only-child th {\n",
       "        text-align: right;\n",
       "    }\n",
       "\n",
       "    .dataframe thead th {\n",
       "        text-align: left;\n",
       "    }\n",
       "\n",
       "    .dataframe tbody tr th {\n",
       "        vertical-align: top;\n",
       "    }\n",
       "</style>\n",
       "<table border=\"1\" class=\"dataframe\">\n",
       "  <thead>\n",
       "    <tr style=\"text-align: right;\">\n",
       "      <th></th>\n",
       "      <th>company_uuid</th>\n",
       "      <th>funding_round_uuid</th>\n",
       "      <th>date</th>\n",
       "      <th>category</th>\n",
       "      <th>year-month</th>\n",
       "    </tr>\n",
       "  </thead>\n",
       "  <tbody>\n",
       "    <tr>\n",
       "      <th>0</th>\n",
       "      <td>4f503d57-bf03-4010-6fcc-036fab95b39c</td>\n",
       "      <td>d17ab961-d739-410e-e904-4cb78057cbe1</td>\n",
       "      <td>2017-07-04</td>\n",
       "      <td>financial services</td>\n",
       "      <td>2017-07</td>\n",
       "    </tr>\n",
       "    <tr>\n",
       "      <th>1</th>\n",
       "      <td>4f503d57-bf03-4010-6fcc-036fab95b39c</td>\n",
       "      <td>d17ab961-d739-410e-e904-4cb78057cbe1</td>\n",
       "      <td>2017-07-04</td>\n",
       "      <td>fintech</td>\n",
       "      <td>2017-07</td>\n",
       "    </tr>\n",
       "    <tr>\n",
       "      <th>2</th>\n",
       "      <td>4f503d57-bf03-4010-6fcc-036fab95b39c</td>\n",
       "      <td>2dd15d97-767c-4eb4-6053-c7a7ce203801</td>\n",
       "      <td>2016-03-15</td>\n",
       "      <td>financial services</td>\n",
       "      <td>2016-03</td>\n",
       "    </tr>\n",
       "    <tr>\n",
       "      <th>3</th>\n",
       "      <td>4f503d57-bf03-4010-6fcc-036fab95b39c</td>\n",
       "      <td>2dd15d97-767c-4eb4-6053-c7a7ce203801</td>\n",
       "      <td>2016-03-15</td>\n",
       "      <td>fintech</td>\n",
       "      <td>2016-03</td>\n",
       "    </tr>\n",
       "    <tr>\n",
       "      <th>4</th>\n",
       "      <td>bb971d77-d7b8-a3c3-6925-c418077e5d3c</td>\n",
       "      <td>828b3a89-451e-cd0a-6d57-e31dd6a46124</td>\n",
       "      <td>2017-07-04</td>\n",
       "      <td>financial services</td>\n",
       "      <td>2017-07</td>\n",
       "    </tr>\n",
       "  </tbody>\n",
       "</table>\n",
       "</div>"
      ],
      "text/plain": [
       "                           company_uuid                    funding_round_uuid  \\\n",
       "0  4f503d57-bf03-4010-6fcc-036fab95b39c  d17ab961-d739-410e-e904-4cb78057cbe1   \n",
       "1  4f503d57-bf03-4010-6fcc-036fab95b39c  d17ab961-d739-410e-e904-4cb78057cbe1   \n",
       "2  4f503d57-bf03-4010-6fcc-036fab95b39c  2dd15d97-767c-4eb4-6053-c7a7ce203801   \n",
       "3  4f503d57-bf03-4010-6fcc-036fab95b39c  2dd15d97-767c-4eb4-6053-c7a7ce203801   \n",
       "4  bb971d77-d7b8-a3c3-6925-c418077e5d3c  828b3a89-451e-cd0a-6d57-e31dd6a46124   \n",
       "\n",
       "         date            category year-month  \n",
       "0  2017-07-04  financial services    2017-07  \n",
       "1  2017-07-04             fintech    2017-07  \n",
       "2  2016-03-15  financial services    2016-03  \n",
       "3  2016-03-15             fintech    2016-03  \n",
       "4  2017-07-04  financial services    2017-07  "
      ]
     },
     "execution_count": 222,
     "metadata": {},
     "output_type": "execute_result"
    }
   ],
   "source": [
    "df_funding = df_funding_rounds[['company_uuid', 'funding_round_uuid', 'announced_on']]\n",
    "df_funding = df_funding.merge(df_category, left_on = 'company_uuid', right_on = 'uuid', how = 'inner')\n",
    "df_funding = df_funding.drop('uuid', axis = 1)\n",
    "df_funding.columns = ['company_uuid', 'funding_round_uuid', 'date', 'category']\n",
    "df_funding['year-month'] = df_funding['date'].str[:7]\n",
    "df_funding.head()"
   ]
  },
  {
   "cell_type": "code",
   "execution_count": 223,
   "metadata": {},
   "outputs": [
    {
     "data": {
      "text/html": [
       "<div>\n",
       "<style>\n",
       "    .dataframe thead tr:only-child th {\n",
       "        text-align: right;\n",
       "    }\n",
       "\n",
       "    .dataframe thead th {\n",
       "        text-align: left;\n",
       "    }\n",
       "\n",
       "    .dataframe tbody tr th {\n",
       "        vertical-align: top;\n",
       "    }\n",
       "</style>\n",
       "<table border=\"1\" class=\"dataframe\">\n",
       "  <thead>\n",
       "    <tr style=\"text-align: right;\">\n",
       "      <th></th>\n",
       "      <th>funding_round_uuid</th>\n",
       "      <th>investor_uuid</th>\n",
       "    </tr>\n",
       "  </thead>\n",
       "  <tbody>\n",
       "    <tr>\n",
       "      <th>0</th>\n",
       "      <td>0001cbd1-f7e2-4a56-607c-c57f46cc7dcb</td>\n",
       "      <td>[3213cd7d-06e0-3ecb-3359-29aa8deddfa6, 76c506a...</td>\n",
       "    </tr>\n",
       "    <tr>\n",
       "      <th>1</th>\n",
       "      <td>00027faf-5c46-d1a5-0aa6-7649b3218166</td>\n",
       "      <td>[e7e5a267-ce84-b580-ccbf-40a17099d2aa]</td>\n",
       "    </tr>\n",
       "    <tr>\n",
       "      <th>2</th>\n",
       "      <td>0003c42b-498e-cd53-aec6-53461d667c79</td>\n",
       "      <td>[39041e62-6b24-ae8d-1347-4cea947e832c]</td>\n",
       "    </tr>\n",
       "    <tr>\n",
       "      <th>3</th>\n",
       "      <td>00043331-9b35-507f-990e-72e376cdf7b8</td>\n",
       "      <td>[07311028-1859-2323-1d9b-0c8601cfa19b, 1ca26a7...</td>\n",
       "    </tr>\n",
       "    <tr>\n",
       "      <th>4</th>\n",
       "      <td>00043864-0037-f6fc-65e9-14162c799655</td>\n",
       "      <td>[387bd749-10f5-65c8-a709-8d22766e9066]</td>\n",
       "    </tr>\n",
       "  </tbody>\n",
       "</table>\n",
       "</div>"
      ],
      "text/plain": [
       "                     funding_round_uuid  \\\n",
       "0  0001cbd1-f7e2-4a56-607c-c57f46cc7dcb   \n",
       "1  00027faf-5c46-d1a5-0aa6-7649b3218166   \n",
       "2  0003c42b-498e-cd53-aec6-53461d667c79   \n",
       "3  00043331-9b35-507f-990e-72e376cdf7b8   \n",
       "4  00043864-0037-f6fc-65e9-14162c799655   \n",
       "\n",
       "                                       investor_uuid  \n",
       "0  [3213cd7d-06e0-3ecb-3359-29aa8deddfa6, 76c506a...  \n",
       "1             [e7e5a267-ce84-b580-ccbf-40a17099d2aa]  \n",
       "2             [39041e62-6b24-ae8d-1347-4cea947e832c]  \n",
       "3  [07311028-1859-2323-1d9b-0c8601cfa19b, 1ca26a7...  \n",
       "4             [387bd749-10f5-65c8-a709-8d22766e9066]  "
      ]
     },
     "execution_count": 223,
     "metadata": {},
     "output_type": "execute_result"
    }
   ],
   "source": [
    "df_investment = pd.DataFrame(df_investments[['funding_round_uuid', 'investor_uuid']].groupby('funding_round_uuid')['investor_uuid'].apply(list)).reset_index()\n",
    "df_investment.head()"
   ]
  },
  {
   "cell_type": "code",
   "execution_count": 224,
   "metadata": {},
   "outputs": [
    {
     "data": {
      "text/html": [
       "<div>\n",
       "<style>\n",
       "    .dataframe thead tr:only-child th {\n",
       "        text-align: right;\n",
       "    }\n",
       "\n",
       "    .dataframe thead th {\n",
       "        text-align: left;\n",
       "    }\n",
       "\n",
       "    .dataframe tbody tr th {\n",
       "        vertical-align: top;\n",
       "    }\n",
       "</style>\n",
       "<table border=\"1\" class=\"dataframe\">\n",
       "  <thead>\n",
       "    <tr style=\"text-align: right;\">\n",
       "      <th></th>\n",
       "      <th>company_uuid</th>\n",
       "      <th>funding_round_uuid</th>\n",
       "      <th>date</th>\n",
       "      <th>category</th>\n",
       "      <th>year-month</th>\n",
       "      <th>investor_uuid</th>\n",
       "    </tr>\n",
       "  </thead>\n",
       "  <tbody>\n",
       "    <tr>\n",
       "      <th>0</th>\n",
       "      <td>4f503d57-bf03-4010-6fcc-036fab95b39c</td>\n",
       "      <td>d17ab961-d739-410e-e904-4cb78057cbe1</td>\n",
       "      <td>2017-07-04</td>\n",
       "      <td>financial services</td>\n",
       "      <td>2017-07</td>\n",
       "      <td>[1d91db1b-8aa3-3a98-aca1-b375b327235b, 307c51d...</td>\n",
       "    </tr>\n",
       "    <tr>\n",
       "      <th>1</th>\n",
       "      <td>4f503d57-bf03-4010-6fcc-036fab95b39c</td>\n",
       "      <td>d17ab961-d739-410e-e904-4cb78057cbe1</td>\n",
       "      <td>2017-07-04</td>\n",
       "      <td>fintech</td>\n",
       "      <td>2017-07</td>\n",
       "      <td>[1d91db1b-8aa3-3a98-aca1-b375b327235b, 307c51d...</td>\n",
       "    </tr>\n",
       "    <tr>\n",
       "      <th>2</th>\n",
       "      <td>4f503d57-bf03-4010-6fcc-036fab95b39c</td>\n",
       "      <td>2dd15d97-767c-4eb4-6053-c7a7ce203801</td>\n",
       "      <td>2016-03-15</td>\n",
       "      <td>financial services</td>\n",
       "      <td>2016-03</td>\n",
       "      <td>[307c51d2-b1f2-315a-9dcc-87643466bb87, 8ea4648...</td>\n",
       "    </tr>\n",
       "    <tr>\n",
       "      <th>3</th>\n",
       "      <td>4f503d57-bf03-4010-6fcc-036fab95b39c</td>\n",
       "      <td>2dd15d97-767c-4eb4-6053-c7a7ce203801</td>\n",
       "      <td>2016-03-15</td>\n",
       "      <td>fintech</td>\n",
       "      <td>2016-03</td>\n",
       "      <td>[307c51d2-b1f2-315a-9dcc-87643466bb87, 8ea4648...</td>\n",
       "    </tr>\n",
       "    <tr>\n",
       "      <th>4</th>\n",
       "      <td>bb971d77-d7b8-a3c3-6925-c418077e5d3c</td>\n",
       "      <td>828b3a89-451e-cd0a-6d57-e31dd6a46124</td>\n",
       "      <td>2017-07-04</td>\n",
       "      <td>financial services</td>\n",
       "      <td>2017-07</td>\n",
       "      <td>[4ede174d-3254-8602-e977-d9c0bfe34433, 94c2fe4...</td>\n",
       "    </tr>\n",
       "  </tbody>\n",
       "</table>\n",
       "</div>"
      ],
      "text/plain": [
       "                           company_uuid                    funding_round_uuid  \\\n",
       "0  4f503d57-bf03-4010-6fcc-036fab95b39c  d17ab961-d739-410e-e904-4cb78057cbe1   \n",
       "1  4f503d57-bf03-4010-6fcc-036fab95b39c  d17ab961-d739-410e-e904-4cb78057cbe1   \n",
       "2  4f503d57-bf03-4010-6fcc-036fab95b39c  2dd15d97-767c-4eb4-6053-c7a7ce203801   \n",
       "3  4f503d57-bf03-4010-6fcc-036fab95b39c  2dd15d97-767c-4eb4-6053-c7a7ce203801   \n",
       "4  bb971d77-d7b8-a3c3-6925-c418077e5d3c  828b3a89-451e-cd0a-6d57-e31dd6a46124   \n",
       "\n",
       "         date            category year-month  \\\n",
       "0  2017-07-04  financial services    2017-07   \n",
       "1  2017-07-04             fintech    2017-07   \n",
       "2  2016-03-15  financial services    2016-03   \n",
       "3  2016-03-15             fintech    2016-03   \n",
       "4  2017-07-04  financial services    2017-07   \n",
       "\n",
       "                                       investor_uuid  \n",
       "0  [1d91db1b-8aa3-3a98-aca1-b375b327235b, 307c51d...  \n",
       "1  [1d91db1b-8aa3-3a98-aca1-b375b327235b, 307c51d...  \n",
       "2  [307c51d2-b1f2-315a-9dcc-87643466bb87, 8ea4648...  \n",
       "3  [307c51d2-b1f2-315a-9dcc-87643466bb87, 8ea4648...  \n",
       "4  [4ede174d-3254-8602-e977-d9c0bfe34433, 94c2fe4...  "
      ]
     },
     "execution_count": 224,
     "metadata": {},
     "output_type": "execute_result"
    }
   ],
   "source": [
    "df_funding = df_funding.merge(df_investment, on = 'funding_round_uuid')\n",
    "df_funding.head()"
   ]
  },
  {
   "cell_type": "code",
   "execution_count": 216,
   "metadata": {},
   "outputs": [
    {
     "ename": "TypeError",
     "evalue": "only list-like objects are allowed to be passed to isin(), you passed a [NoneType]",
     "output_type": "error",
     "traceback": [
      "\u001b[0;31m---------------------------------------------------------------------------\u001b[0m",
      "\u001b[0;31mTypeError\u001b[0m                                 Traceback (most recent call last)",
      "\u001b[0;32m<ipython-input-216-270f8b2059b4>\u001b[0m in \u001b[0;36m<module>\u001b[0;34m()\u001b[0m\n\u001b[1;32m      6\u001b[0m \u001b[0;31m# get top k% investors\u001b[0m\u001b[0;34m\u001b[0m\u001b[0;34m\u001b[0m\u001b[0m\n\u001b[1;32m      7\u001b[0m \u001b[0mcategories\u001b[0m \u001b[0;34m=\u001b[0m \u001b[0mget_similar_categories\u001b[0m\u001b[0;34m(\u001b[0m\u001b[0mcategories\u001b[0m\u001b[0;34m)\u001b[0m\u001b[0;34m\u001b[0m\u001b[0m\n\u001b[0;32m----> 8\u001b[0;31m \u001b[0mdf\u001b[0m \u001b[0;34m=\u001b[0m \u001b[0mdf_funding\u001b[0m\u001b[0;34m[\u001b[0m\u001b[0mdf_funding\u001b[0m\u001b[0;34m[\u001b[0m\u001b[0;34m'category'\u001b[0m\u001b[0;34m]\u001b[0m\u001b[0;34m.\u001b[0m\u001b[0misin\u001b[0m\u001b[0;34m(\u001b[0m\u001b[0mcategories\u001b[0m\u001b[0;34m)\u001b[0m\u001b[0;34m]\u001b[0m\u001b[0;34m.\u001b[0m\u001b[0mdrop_duplicates\u001b[0m\u001b[0;34m(\u001b[0m\u001b[0;34m'funding_round_uuid'\u001b[0m\u001b[0;34m)\u001b[0m\u001b[0;34m\u001b[0m\u001b[0m\n\u001b[0m\u001b[1;32m      9\u001b[0m \u001b[0;31m# df = df.sort_values('year-month')\u001b[0m\u001b[0;34m\u001b[0m\u001b[0;34m\u001b[0m\u001b[0m\n\u001b[1;32m     10\u001b[0m \u001b[0mstart_year\u001b[0m \u001b[0;34m=\u001b[0m \u001b[0mmin\u001b[0m\u001b[0;34m(\u001b[0m\u001b[0mdf\u001b[0m\u001b[0;34m[\u001b[0m\u001b[0;34m'year-month'\u001b[0m\u001b[0;34m]\u001b[0m\u001b[0;34m.\u001b[0m\u001b[0mvalues\u001b[0m\u001b[0;34m)\u001b[0m\u001b[0;34m[\u001b[0m\u001b[0;34m:\u001b[0m\u001b[0;36m4\u001b[0m\u001b[0;34m]\u001b[0m\u001b[0;34m\u001b[0m\u001b[0m\n",
      "\u001b[0;32m/Users/joonheekim/Projects/futureplay/venv/lib/python2.7/site-packages/pandas/core/series.pyc\u001b[0m in \u001b[0;36misin\u001b[0;34m(self, values)\u001b[0m\n\u001b[1;32m   2553\u001b[0m \u001b[0;34m\u001b[0m\u001b[0m\n\u001b[1;32m   2554\u001b[0m         \"\"\"\n\u001b[0;32m-> 2555\u001b[0;31m         \u001b[0mresult\u001b[0m \u001b[0;34m=\u001b[0m \u001b[0malgorithms\u001b[0m\u001b[0;34m.\u001b[0m\u001b[0misin\u001b[0m\u001b[0;34m(\u001b[0m\u001b[0m_values_from_object\u001b[0m\u001b[0;34m(\u001b[0m\u001b[0mself\u001b[0m\u001b[0;34m)\u001b[0m\u001b[0;34m,\u001b[0m \u001b[0mvalues\u001b[0m\u001b[0;34m)\u001b[0m\u001b[0;34m\u001b[0m\u001b[0m\n\u001b[0m\u001b[1;32m   2556\u001b[0m         \u001b[0;32mreturn\u001b[0m \u001b[0mself\u001b[0m\u001b[0;34m.\u001b[0m\u001b[0m_constructor\u001b[0m\u001b[0;34m(\u001b[0m\u001b[0mresult\u001b[0m\u001b[0;34m,\u001b[0m \u001b[0mindex\u001b[0m\u001b[0;34m=\u001b[0m\u001b[0mself\u001b[0m\u001b[0;34m.\u001b[0m\u001b[0mindex\u001b[0m\u001b[0;34m)\u001b[0m\u001b[0;34m.\u001b[0m\u001b[0m__finalize__\u001b[0m\u001b[0;34m(\u001b[0m\u001b[0mself\u001b[0m\u001b[0;34m)\u001b[0m\u001b[0;34m\u001b[0m\u001b[0m\n\u001b[1;32m   2557\u001b[0m \u001b[0;34m\u001b[0m\u001b[0m\n",
      "\u001b[0;32m/Users/joonheekim/Projects/futureplay/venv/lib/python2.7/site-packages/pandas/core/algorithms.pyc\u001b[0m in \u001b[0;36misin\u001b[0;34m(comps, values)\u001b[0m\n\u001b[1;32m    391\u001b[0m         raise TypeError(\"only list-like objects are allowed to be passed\"\n\u001b[1;32m    392\u001b[0m                         \u001b[0;34m\" to isin(), you passed a \"\u001b[0m\u001b[0;34m\u001b[0m\u001b[0m\n\u001b[0;32m--> 393\u001b[0;31m                         \"[{0}]\".format(type(values).__name__))\n\u001b[0m\u001b[1;32m    394\u001b[0m \u001b[0;34m\u001b[0m\u001b[0m\n\u001b[1;32m    395\u001b[0m     \u001b[0;32mif\u001b[0m \u001b[0;32mnot\u001b[0m \u001b[0misinstance\u001b[0m\u001b[0;34m(\u001b[0m\u001b[0mvalues\u001b[0m\u001b[0;34m,\u001b[0m \u001b[0;34m(\u001b[0m\u001b[0mABCIndex\u001b[0m\u001b[0;34m,\u001b[0m \u001b[0mABCSeries\u001b[0m\u001b[0;34m,\u001b[0m \u001b[0mnp\u001b[0m\u001b[0;34m.\u001b[0m\u001b[0mndarray\u001b[0m\u001b[0;34m)\u001b[0m\u001b[0;34m)\u001b[0m\u001b[0;34m:\u001b[0m\u001b[0;34m\u001b[0m\u001b[0m\n",
      "\u001b[0;31mTypeError\u001b[0m: only list-like objects are allowed to be passed to isin(), you passed a [NoneType]"
     ]
    }
   ],
   "source": [
    "categories = ['fintech']\n",
    "k = 10\n",
    "color1 = 'blue'\n",
    "\n",
    "# plot year-month\n",
    "# get top k% investors\n",
    "df = df_funding[df_funding['category'].isin(categories)].drop_duplicates('funding_round_uuid')\n",
    "# df = df.sort_values('year-month')\n",
    "start_year = min(df['year-month'].values)[:4]\n",
    "count = df.groupby('year-month').size().rename('count').reset_index()\n",
    "for year in range(int(start_year), 2018):\n",
    "    year = str(year)\n",
    "    if count[count['year-month'] == '{}-01'.format(year)].shape[0] == 0:\n",
    "        count.loc[-1] = ['{}-01'.format(year), 0]\n",
    "        count.index = count.index + 1\n",
    "\n",
    "# count['year'] = np.where(count['year-month'].str[5:7] == '01', count['year-month'].str[:4], '')\n",
    "count['year'] = np.where(True, count['year-month'].str[:4], '')\n",
    "count = count.sort_values('year-month')\n",
    "count['cum_count'] = count['count'].cumsum()\n",
    "print('categories: {}'.format(categories))\n",
    "\n",
    "dates = sorted(df['date'].values, reverse = False)\n",
    "fast_date = dates[int(float(k) / 100 * len(dates))]\n",
    "print \"Early {} percent investors ({} early fundings out of {} total)\".format(k, int(float(k) / 100 * len(dates)), len(dates))\n",
    "df_fast = df[df['date'] < fast_date]\n",
    "\n",
    "score = df_fast['investor_uuid'].apply(pd.Series, 1).stack()\n",
    "score.index = score.index.droplevel(-1)\n",
    "score.name = 'investor'\n",
    "score = score.reset_index()\n",
    "score = score.groupby('investor').size().rename('count').reset_index().sort_values('count', ascending = False)\n",
    "score = score.merge(df_investors[['investor_name', 'uuid']], how = 'inner', left_on = 'investor', right_on = 'uuid')\n",
    "score = score.drop(['investor', 'uuid'], axis = 1)\n",
    "print score.head(30)\n",
    "print score.shape\n",
    "\n",
    "count[['year-month', 'cum_count']].plot(x = count['year'], linestyle = '-', color = [color1], fontsize = 25, figsize = (30, 8)).legend(loc = 2, fontsize = 20, labels = ['funding count'])"
   ]
  },
  {
   "cell_type": "code",
   "execution_count": null,
   "metadata": {
    "collapsed": true
   },
   "outputs": [],
   "source": []
  },
  {
   "cell_type": "code",
   "execution_count": null,
   "metadata": {
    "collapsed": true
   },
   "outputs": [],
   "source": []
  },
  {
   "cell_type": "code",
   "execution_count": 5,
   "metadata": {
    "collapsed": true
   },
   "outputs": [],
   "source": [
    "df_category.columns = ['uuid', 'category']g = nx.from_pandas_dataframe(df_competition, 'entity_uuid', 'competitor_uuid')\n",
    "components = [component for component in nx.connected_components(g)]\n",
    "components = sorted(components, key = lambda x: -len(x))\n",
    "size = [len(component) for component in components]\n",
    "nodes = [node for node in g.nodes()]\n",
    "nodes = sorted(nodes, key = lambda x: len(g.neighbors(x)), reverse = True)\n",
    "for i in range(10):\n",
    "    print len(g.neighbors(nodes[i]))"
   ]
  },
  {
   "cell_type": "code",
   "execution_count": 8,
   "metadata": {},
   "outputs": [
    {
     "name": "stdout",
     "output_type": "stream",
     "text": [
      "loading word2company\n",
      "loading company2word\n"
     ]
    }
   ],
   "source": [
    "doc_freq = {}\n",
    "print('loading word2company')\n",
    "word2company = pickle.load(open(util_folder + 'word2company.pickle'))\n",
    "print('loading company2word')\n",
    "company2word = pickle.load(open(util_folder + 'company2word.pickle'))"
   ]
  },
  {
   "cell_type": "code",
   "execution_count": 9,
   "metadata": {
    "collapsed": true
   },
   "outputs": [],
   "source": [
    "for word, companies in word2company.items():\n",
    "    doc_freq[word] = len(companies)"
   ]
  },
  {
   "cell_type": "code",
   "execution_count": 14,
   "metadata": {},
   "outputs": [
    {
     "name": "stdout",
     "output_type": "stream",
     "text": [
      "size: 34038\n",
      "myspace 0.429906542056\n",
      "file_sharing 0.357142857143\n",
      "information_visit 0.355745721271\n",
      "widgets 0.352534562212\n",
      "widget 0.351063829787\n",
      "ad_networks 0.348039215686\n",
      "lets_users 0.344173441734\n",
      "powers 0.33625\n",
      "foursquare 0.335135135135\n",
      "drag 0.332506203474\n",
      "unique_visitors 0.332317073171\n",
      "techcrunch 0.329113924051\n",
      "rss 0.326732673267\n",
      "display_advertising 0.325358851675\n",
      "twitter_facebook 0.31746031746\n",
      "daily_deal 0.317307692308\n",
      "programmatic 0.316901408451\n",
      "playlists 0.316017316017\n",
      "aol 0.315573770492\n",
      "coca_cola 0.314136125654\n",
      "user_engagement 0.313725490196\n",
      "wiki 0.312195121951\n",
      "page_views 0.311926605505\n",
      "inbox 0.309090909091\n",
      "white_label 0.306946688207\n",
      "user_generated 0.30602006689\n",
      "registered_users 0.304597701149\n",
      "yelp 0.30243902439\n",
      "paypal 0.301075268817\n",
      "salesforce_com 0.300751879699\n",
      "photo_sharing 0.300380228137\n",
      "tagging 0.298113207547\n",
      "vmware 0.297709923664\n",
      "enterprise_grade 0.297397769517\n",
      "homepage 0.297297297297\n",
      "visit_www 0.296116504854\n",
      "embed 0.295977011494\n",
      "ebay 0.29203539823\n",
      "apis 0.288888888889\n",
      "twitter 0.288570350811\n",
      "spam 0.287974683544\n",
      "semantic 0.287581699346\n",
      "has_raised 0.286689419795\n",
      "event_organizers 0.286290322581\n",
      "fully_customizable 0.285714285714\n",
      "live_chat 0.284810126582\n",
      "integrations 0.284671532847\n",
      "bids 0.283898305085\n",
      "sentiment 0.28384279476\n",
      "browsers 0.283582089552\n",
      "\n"
     ]
    }
   ],
   "source": [
    "for component in components:\n",
    "    print 'size:',len(component)\n",
    "    component_freq = {}\n",
    "    for company in component:\n",
    "        for word in company2word.get(company, []):\n",
    "            component_freq[word] = component_freq.get(word, 0) + 1\n",
    "    score = {}\n",
    "#     print component_freq\n",
    "    for word, count in component_freq.items():\n",
    "#         print word, count, doc_freq.get(word, 0)\n",
    "        if doc_freq.get(word, 0) > np.sqrt(len(component)):\n",
    "            score[word] = count / float(doc_freq[word])\n",
    "    score = sorted(score.items(), key = operator.itemgetter(1), reverse = True)\n",
    "    for word, score in score[:50]:\n",
    "        print word, score\n",
    "    print\n",
    "    break"
   ]
  },
  {
   "cell_type": "code",
   "execution_count": null,
   "metadata": {
    "collapsed": true
   },
   "outputs": [],
   "source": []
  }
 ],
 "metadata": {
  "kernelspec": {
   "display_name": "Python 2",
   "language": "python",
   "name": "python2"
  },
  "language_info": {
   "codemirror_mode": {
    "name": "ipython",
    "version": 2
   },
   "file_extension": ".py",
   "mimetype": "text/x-python",
   "name": "python",
   "nbconvert_exporter": "python",
   "pygments_lexer": "ipython2",
   "version": "2.7.10"
  }
 },
 "nbformat": 4,
 "nbformat_minor": 2
}
